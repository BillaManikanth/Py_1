{
 "cells": [
  {
   "cell_type": "markdown",
   "id": "fa2576f6-80cd-435e-9420-eab2720e0f5b",
   "metadata": {},
   "source": [
    "- we have 3 cases in conditional statements\n",
    "\n",
    "- Case-1: if \n",
    "\n",
    "- Case-2: if-else\n",
    "\n",
    "- Case-3: if-elif-else\n",
    "\n",
    "- Conditional statements mean we are asking a question\n",
    "\n",
    "- When we ask the question computer wil give True and False\n",
    "\n",
    "- If True then we wants to execute statements\n",
    "\n",
    "- If False also we can execute statements"
   ]
  },
  {
   "cell_type": "markdown",
   "id": "34258ba1-111a-4915-9a85-a5ba8cc85150",
   "metadata": {},
   "source": [
    "**Case-1: if**"
   ]
  },
  {
   "cell_type": "code",
   "execution_count": null,
   "id": "d6b7ccb6-865f-468d-8093-05527079d4de",
   "metadata": {},
   "outputs": [],
   "source": [
    "#syntax\n",
    "# if the statement starts with any keyword\n",
    "# end of the statement : will be there\n",
    "# when : is there then we need to provide indentation\n",
    "# indetation means next lines has start with some space\n",
    "\n",
    "# if <condition>:\n",
    "#    <st1>\n",
    "#    <st2>\n",
    "#     -----\n",
    "#    <stn>\n",
    "\n",
    "# if the condition is True then only\n",
    "# it will go to the inside if block and run the cells"
   ]
  },
  {
   "cell_type": "code",
   "execution_count": 1,
   "id": "59815918-bbd3-4826-9951-0b45cb1d900f",
   "metadata": {},
   "outputs": [
    {
     "name": "stdout",
     "output_type": "stream",
     "text": [
      "10\n"
     ]
    }
   ],
   "source": [
    "a=10\n",
    "print(a)"
   ]
  },
  {
   "cell_type": "code",
   "execution_count": 2,
   "id": "ace0c43e-e01b-49f1-a301-b695d94d048a",
   "metadata": {},
   "outputs": [
    {
     "data": {
      "text/plain": [
       "True"
      ]
     },
     "execution_count": 2,
     "metadata": {},
     "output_type": "execute_result"
    }
   ],
   "source": [
    "100>10"
   ]
  },
  {
   "cell_type": "code",
   "execution_count": 7,
   "id": "df7a3808-626e-4263-84db-733403ee0f21",
   "metadata": {},
   "outputs": [
    {
     "name": "stdout",
     "output_type": "stream",
     "text": [
      "manish\n"
     ]
    }
   ],
   "source": [
    "if 100>10:\n",
    "    print(\"manish\")"
   ]
  },
  {
   "cell_type": "markdown",
   "id": "e8d7946d-ee6a-4c87-9093-70dacf0b3f43",
   "metadata": {},
   "source": [
    "**Error1: Indentation error**"
   ]
  },
  {
   "cell_type": "code",
   "execution_count": 8,
   "id": "40a74e18-f4fa-4136-9d1a-fa257f3e2643",
   "metadata": {},
   "outputs": [
    {
     "ename": "IndentationError",
     "evalue": "expected an indented block after 'if' statement on line 1 (1658022112.py, line 2)",
     "output_type": "error",
     "traceback": [
      "\u001b[1;36m  Cell \u001b[1;32mIn[8], line 2\u001b[1;36m\u001b[0m\n\u001b[1;33m    print(\"manish\")\u001b[0m\n\u001b[1;37m    ^\u001b[0m\n\u001b[1;31mIndentationError\u001b[0m\u001b[1;31m:\u001b[0m expected an indented block after 'if' statement on line 1\n"
     ]
    }
   ],
   "source": [
    "if 100>10:\n",
    "print(\"manish\")"
   ]
  },
  {
   "cell_type": "markdown",
   "id": "13d126fb-1ba5-4f58-961a-fcd77ae57899",
   "metadata": {},
   "source": [
    "**Error2: miss the : at the end**"
   ]
  },
  {
   "cell_type": "code",
   "execution_count": 9,
   "id": "54788b82-17e9-4612-9998-25d6b8eea8e3",
   "metadata": {},
   "outputs": [
    {
     "ename": "SyntaxError",
     "evalue": "expected ':' (4054628281.py, line 1)",
     "output_type": "error",
     "traceback": [
      "\u001b[1;36m  Cell \u001b[1;32mIn[9], line 1\u001b[1;36m\u001b[0m\n\u001b[1;33m    if 100>10\u001b[0m\n\u001b[1;37m             ^\u001b[0m\n\u001b[1;31mSyntaxError\u001b[0m\u001b[1;31m:\u001b[0m expected ':'\n"
     ]
    }
   ],
   "source": [
    "if 100>10\n",
    "    print(\"manish\")"
   ]
  },
  {
   "cell_type": "markdown",
   "id": "5ebdb933-4e6b-431b-8c8f-9847645db637",
   "metadata": {},
   "source": [
    "**Error3: No condition**"
   ]
  },
  {
   "cell_type": "code",
   "execution_count": 11,
   "id": "a7f3ff55-5804-45ce-9f47-7e2f2ce39c2a",
   "metadata": {},
   "outputs": [
    {
     "ename": "SyntaxError",
     "evalue": "invalid syntax (2889918432.py, line 1)",
     "output_type": "error",
     "traceback": [
      "\u001b[1;36m  Cell \u001b[1;32mIn[11], line 1\u001b[1;36m\u001b[0m\n\u001b[1;33m    if:\u001b[0m\n\u001b[1;37m      ^\u001b[0m\n\u001b[1;31mSyntaxError\u001b[0m\u001b[1;31m:\u001b[0m invalid syntax\n"
     ]
    }
   ],
   "source": [
    "if:\n",
    "print(\"manish\")"
   ]
  },
  {
   "cell_type": "code",
   "execution_count": 12,
   "id": "9008fb8f-59c1-4b32-897f-e9e5a6192d29",
   "metadata": {},
   "outputs": [],
   "source": [
    "if 100<10:\n",
    "    print(\"python\")"
   ]
  },
  {
   "cell_type": "code",
   "execution_count": 13,
   "id": "68f80557-81d4-42e5-81e8-306b2889a564",
   "metadata": {},
   "outputs": [
    {
     "data": {
      "text/plain": [
       "True"
      ]
     },
     "execution_count": 13,
     "metadata": {},
     "output_type": "execute_result"
    }
   ],
   "source": [
    "100>10"
   ]
  },
  {
   "cell_type": "code",
   "execution_count": 14,
   "id": "0f820a2b-7b02-4f77-b83d-1ac677322069",
   "metadata": {},
   "outputs": [
    {
     "name": "stdout",
     "output_type": "stream",
     "text": [
      "python\n"
     ]
    }
   ],
   "source": [
    "if True:\n",
    "    print(\"python\")"
   ]
  },
  {
   "cell_type": "code",
   "execution_count": null,
   "id": "f2049602-177e-4139-ae98-d482e6fb56e8",
   "metadata": {},
   "outputs": [],
   "source": [
    "if 100>10:\n",
    "    print(\"python\")"
   ]
  },
  {
   "cell_type": "code",
   "execution_count": 15,
   "id": "868da641-f3ea-4a2f-a383-7f79e8f89382",
   "metadata": {},
   "outputs": [],
   "source": [
    "if False:\n",
    "    print(\"python\")"
   ]
  },
  {
   "cell_type": "code",
   "execution_count": 16,
   "id": "8decd79a-5324-4b76-bdb4-5f16b2d51ff2",
   "metadata": {},
   "outputs": [
    {
     "name": "stdout",
     "output_type": "stream",
     "text": [
      "1\n",
      "2\n",
      "manish\n",
      "bye\n"
     ]
    }
   ],
   "source": [
    "print(1)\n",
    "print(2)\n",
    "if 100>10:\n",
    "    print(\"manish\")\n",
    "    print(\"bye\")"
   ]
  },
  {
   "cell_type": "code",
   "execution_count": 19,
   "id": "ef600942-6b44-47b2-8727-a981cde2d260",
   "metadata": {},
   "outputs": [
    {
     "name": "stdout",
     "output_type": "stream",
     "text": [
      "1\n",
      "2\n",
      "manish\n",
      "bye\n",
      "hello\n",
      "python\n"
     ]
    }
   ],
   "source": [
    "print(1)\n",
    "print(2)\n",
    "##############################\n",
    "if 100>10:\n",
    "    print(\"manish\")\n",
    "    print(\"bye\")\n",
    "##################################\n",
    "print(\"hello\")\n",
    "print(\"python\")"
   ]
  },
  {
   "cell_type": "code",
   "execution_count": 20,
   "id": "5693b345-e9f1-44f3-82c3-e3b345a8ccb9",
   "metadata": {},
   "outputs": [
    {
     "name": "stdout",
     "output_type": "stream",
     "text": [
      "1\n",
      "2\n",
      "hello\n",
      "python\n"
     ]
    }
   ],
   "source": [
    "print(1)    #  1\n",
    "print(2)    # 2\n",
    "##############################\n",
    "if 100<10: #  False\n",
    "    print(\"manish\")\n",
    "    print(\"bye\")\n",
    "##################################\n",
    "print(\"hello\") # hello\n",
    "print(\"python\") # python"
   ]
  },
  {
   "cell_type": "code",
   "execution_count": 21,
   "id": "ab14568b-960c-4833-b9ac-257b81208be1",
   "metadata": {},
   "outputs": [
    {
     "name": "stdout",
     "output_type": "stream",
     "text": [
      "1\n",
      "2\n",
      "manish\n",
      "bye\n",
      "hello\n",
      "python\n",
      "good\n",
      "day\n"
     ]
    }
   ],
   "source": [
    "print(1)\n",
    "print(2)\n",
    "##############################\n",
    "if 100>10:\n",
    "    print(\"manish\")\n",
    "    print(\"bye\")\n",
    "##################################\n",
    "print(\"hello\")\n",
    "print(\"python\")\n",
    "#####################################\n",
    "if 1000>100:\n",
    "    print(\"good\")\n",
    "    print(\"day\")"
   ]
  },
  {
   "cell_type": "code",
   "execution_count": null,
   "id": "2ad56ee6-1f66-4d5f-b290-3fb8999275b0",
   "metadata": {},
   "outputs": [],
   "source": [
    "**Case-2: if-else**\n",
    "\n",
    "# syntax\n",
    "\n",
    "# if <condition>:\n",
    "    # st1\n",
    "    # st2\n",
    "# else:\n",
    "    #st1\n",
    "\n",
    "# if block required condition\n",
    "# if block condition fails\n",
    "# then automatically it goes to else block\n",
    "# so else block does not require condition"
   ]
  },
  {
   "cell_type": "code",
   "execution_count": 22,
   "id": "b2ac1f84-1b3d-460e-ada6-d1e8bd52869f",
   "metadata": {},
   "outputs": [
    {
     "name": "stdout",
     "output_type": "stream",
     "text": [
      "good condition is correct\n"
     ]
    }
   ],
   "source": [
    "if 100>10:\n",
    "    print(\"good condition is correct\")\n",
    "else:\n",
    "    print(\"Bad condition is wrong\")"
   ]
  },
  {
   "cell_type": "code",
   "execution_count": 23,
   "id": "b946557f-bd95-4032-be8a-8d445e054527",
   "metadata": {},
   "outputs": [
    {
     "name": "stdout",
     "output_type": "stream",
     "text": [
      "Bad condition is wrong\n"
     ]
    }
   ],
   "source": [
    "if 100<10:\n",
    "    print(\"good condition is correct\")\n",
    "else:\n",
    "    print(\"Bad condition is wrong\")"
   ]
  },
  {
   "cell_type": "code",
   "execution_count": 24,
   "id": "8aa9c246-b5eb-45a9-b55e-964455dd7df3",
   "metadata": {},
   "outputs": [
    {
     "ename": "SyntaxError",
     "evalue": "expected ':' (451186224.py, line 3)",
     "output_type": "error",
     "traceback": [
      "\u001b[1;36m  Cell \u001b[1;32mIn[24], line 3\u001b[1;36m\u001b[0m\n\u001b[1;33m    else False:\u001b[0m\n\u001b[1;37m         ^\u001b[0m\n\u001b[1;31mSyntaxError\u001b[0m\u001b[1;31m:\u001b[0m expected ':'\n"
     ]
    }
   ],
   "source": [
    "if 100>10:\n",
    "    print(\"good condition is correct\")\n",
    "else False:\n",
    "    print(\"Bad condition is wrong\")"
   ]
  },
  {
   "cell_type": "code",
   "execution_count": 27,
   "id": "31db2392-be5b-4bbf-ad76-2116b13e7ab4",
   "metadata": {},
   "outputs": [
    {
     "ename": "SyntaxError",
     "evalue": "invalid syntax (2372367046.py, line 6)",
     "output_type": "error",
     "traceback": [
      "\u001b[1;36m  Cell \u001b[1;32mIn[27], line 6\u001b[1;36m\u001b[0m\n\u001b[1;33m    else :\u001b[0m\n\u001b[1;37m    ^\u001b[0m\n\u001b[1;31mSyntaxError\u001b[0m\u001b[1;31m:\u001b[0m invalid syntax\n"
     ]
    }
   ],
   "source": [
    "print(1)\n",
    "if 100>10:\n",
    "    print(\"good condition is correct\")\n",
    "    print(2)\n",
    "print(3)\n",
    "else :\n",
    "    print(\"Bad condition is wrong\")\n",
    "    print(4)\n",
    "print(5)"
   ]
  },
  {
   "cell_type": "code",
   "execution_count": 28,
   "id": "f5e94579-4495-486a-a21e-79ab00b49539",
   "metadata": {},
   "outputs": [
    {
     "name": "stdout",
     "output_type": "stream",
     "text": [
      "1\n",
      "good condition is correct\n",
      "2\n",
      "5\n"
     ]
    }
   ],
   "source": [
    "print(1)\n",
    "if 100>10:\n",
    "    print(\"good condition is correct\")\n",
    "    print(2)\n",
    "\n",
    "else :\n",
    "    print(\"Bad condition is wrong\")\n",
    "    print(4)\n",
    "print(5)"
   ]
  },
  {
   "cell_type": "code",
   "execution_count": 29,
   "id": "2ba8aab6-32b9-49a9-a4da-c1b144aaab1e",
   "metadata": {},
   "outputs": [
    {
     "name": "stdout",
     "output_type": "stream",
     "text": [
      "1\n",
      "good condition is correct\n"
     ]
    },
    {
     "ename": "ZeroDivisionError",
     "evalue": "division by zero",
     "output_type": "error",
     "traceback": [
      "\u001b[1;31m---------------------------------------------------------------------------\u001b[0m",
      "\u001b[1;31mZeroDivisionError\u001b[0m                         Traceback (most recent call last)",
      "Cell \u001b[1;32mIn[29], line 4\u001b[0m\n\u001b[0;32m      2\u001b[0m \u001b[38;5;28;01mif\u001b[39;00m \u001b[38;5;241m100\u001b[39m\u001b[38;5;241m>\u001b[39m\u001b[38;5;241m10\u001b[39m:\n\u001b[0;32m      3\u001b[0m     \u001b[38;5;28mprint\u001b[39m(\u001b[38;5;124m\"\u001b[39m\u001b[38;5;124mgood condition is correct\u001b[39m\u001b[38;5;124m\"\u001b[39m)\n\u001b[1;32m----> 4\u001b[0m     \u001b[38;5;28mprint\u001b[39m(\u001b[38;5;241m2\u001b[39m\u001b[38;5;241m/\u001b[39m\u001b[38;5;241m0\u001b[39m)\n\u001b[0;32m      6\u001b[0m \u001b[38;5;28;01melse\u001b[39;00m :\n\u001b[0;32m      7\u001b[0m     \u001b[38;5;28mprint\u001b[39m(\u001b[38;5;124m\"\u001b[39m\u001b[38;5;124mBad condition is wrong\u001b[39m\u001b[38;5;124m\"\u001b[39m)\n",
      "\u001b[1;31mZeroDivisionError\u001b[0m: division by zero"
     ]
    }
   ],
   "source": [
    "print(1)\n",
    "if 100>10:\n",
    "    print(\"good condition is correct\")\n",
    "    print(2/0)\n",
    "\n",
    "else :\n",
    "    print(\"Bad condition is wrong\")\n",
    "    print(4)\n",
    "print(5)"
   ]
  },
  {
   "cell_type": "code",
   "execution_count": 33,
   "id": "11b2b055-7ebc-4267-ab62-0c511593b3f8",
   "metadata": {},
   "outputs": [
    {
     "data": {
      "text/plain": [
       "1.25"
      ]
     },
     "execution_count": 33,
     "metadata": {},
     "output_type": "execute_result"
    }
   ],
   "source": [
    "5/4  # / : division Normal division"
   ]
  },
  {
   "cell_type": "code",
   "execution_count": 34,
   "id": "7142c6ae-fb0c-4afd-80db-93fae958feba",
   "metadata": {},
   "outputs": [
    {
     "data": {
      "text/plain": [
       "1"
      ]
     },
     "execution_count": 34,
     "metadata": {},
     "output_type": "execute_result"
    }
   ],
   "source": [
    "5//4 # // : floor division : Quotient"
   ]
  },
  {
   "cell_type": "code",
   "execution_count": 35,
   "id": "5bec2a2b-f22d-484b-bc45-f17af436a883",
   "metadata": {},
   "outputs": [
    {
     "data": {
      "text/plain": [
       "1"
      ]
     },
     "execution_count": 35,
     "metadata": {},
     "output_type": "execute_result"
    }
   ],
   "source": [
    "5%4 # % : modulus : Reminder"
   ]
  },
  {
   "cell_type": "code",
   "execution_count": 37,
   "id": "90325b41-798d-4568-ab8e-dd362b0c18d5",
   "metadata": {},
   "outputs": [
    {
     "name": "stdin",
     "output_type": "stream",
     "text": [
      "enter the number: 143\n"
     ]
    },
    {
     "name": "stdout",
     "output_type": "stream",
     "text": [
      "the 143 is odd\n"
     ]
    }
   ],
   "source": [
    "#WAP ask the user enter a value from keyboard\n",
    "# Find whether the number is even or odd\n",
    "\n",
    "# hint: num%2==0\n",
    "# step-1: get the number from keyboard\n",
    "# step-2: if <condition>:\n",
    "# step-3:    print(f\"the {num} is even\")\n",
    "# step-4: else:\n",
    "# step-5:    print(f\"the {num} is odd\")\n",
    "\n",
    "# = means assigning a vlaue\n",
    "# == checking the condition\n",
    "num=eval(input(\"enter the number:\"))\n",
    "if num%2==0:\n",
    "    print(f\"the {num} is even\")\n",
    "else:\n",
    "    print(f\"the {num} is odd\")"
   ]
  },
  {
   "cell_type": "code",
   "execution_count": 39,
   "id": "2d152362-731d-4f6c-b575-511c0e7408d9",
   "metadata": {},
   "outputs": [
    {
     "name": "stdout",
     "output_type": "stream",
     "text": [
      "the 74 is even\n"
     ]
    }
   ],
   "source": [
    "# wap implment above the code \n",
    "# by taking number randomly between 10,100\n",
    "import random\n",
    "num=random.randint(10,100)\n",
    "if num%2==0:\n",
    "    print(f\"the {num} is even\")\n",
    "else:\n",
    "    print(f\"the {num} is odd\")"
   ]
  },
  {
   "cell_type": "code",
   "execution_count": 48,
   "id": "90e12ea7-75b8-4b81-b62f-38e5581efc4c",
   "metadata": {},
   "outputs": [
    {
     "name": "stdout",
     "output_type": "stream",
     "text": [
      "7\n"
     ]
    },
    {
     "name": "stdin",
     "output_type": "stream",
     "text": [
      "enter the number: 9\n"
     ]
    },
    {
     "name": "stdout",
     "output_type": "stream",
     "text": [
      "loss\n"
     ]
    }
   ],
   "source": [
    "# Game program\n",
    "# there are two numbers\n",
    "# num1 comes from random\n",
    "# num2 is taking from the keyboard\n",
    "# if both numbers are equal \n",
    "#     then print  you won\n",
    "# else \n",
    "#       print you loss\n",
    "import random\n",
    "num1=random.randint(1,10)\n",
    "print(num1)\n",
    "num2=eval(input(\"enter the number:\"))\n",
    "if num1==num2:\n",
    "    print(\"won\")\n",
    "else:\n",
    "    print(\"loss\")"
   ]
  },
  {
   "cell_type": "code",
   "execution_count": 51,
   "id": "e8d6c3a6-a887-4391-a1ae-d51681d76a60",
   "metadata": {},
   "outputs": [
    {
     "name": "stdin",
     "output_type": "stream",
     "text": [
      "How much distance need to travel : 10\n"
     ]
    },
    {
     "name": "stdout",
     "output_type": "stream",
     "text": [
      "It is free ride\n"
     ]
    }
   ],
   "source": [
    "# wap ask the user enter how much distance need to travel\n",
    "#     ask the user enter charge per km\n",
    "#     if the distance >25 km \n",
    "#          then print total charge\n",
    "#     otherwise\n",
    "#          print free ride\n",
    "\n",
    "dist = eval(input(\"How much distance need to travel :\"))\n",
    "if dist > 25:\n",
    "    charge = eval(input(\"Enter charge per km: \"))\n",
    "    print(f\"Total charge : {dist*charge}\")\n",
    "else:\n",
    "    print(\"It is free ride\")"
   ]
  },
  {
   "cell_type": "markdown",
   "id": "d436b033-283a-405c-86fb-8fba7c94e237",
   "metadata": {},
   "source": [
    "**Case-3 : if-elif-else**\n"
   ]
  },
  {
   "cell_type": "code",
   "execution_count": null,
   "id": "29922449-7ac4-4e0a-bb45-710bcf4e508d",
   "metadata": {},
   "outputs": [],
   "source": [
    "# I we have two conditions\n",
    "# One condition refer to if block\n",
    "# automatically second condition refer to else block\n",
    "\n",
    "# what happens if we have 3 conditions are there\n",
    "# then we will use elif\n",
    "\n",
    "# always first condition under if block\n",
    "# last condition under else block\n",
    "# remaining all other conditions under elif block\n",
    "\n",
    "# if <con1>:\n",
    "    # st1\n",
    "# elif <con2>:\n",
    "   # st2\n",
    "# else:\n",
    "   # st3\n",
    "\n",
    "c1   c2    c3   c4\n",
    "if  elif elif else\n",
    "\n",
    "c1   c2    c3   c4     c5\n",
    "if   elif  elif  elif else"
   ]
  },
  {
   "cell_type": "code",
   "execution_count": null,
   "id": "ba724f3d-1463-4835-ab72-b3383fca29f5",
   "metadata": {},
   "outputs": [],
   "source": [
    "# wap ask the user enter a number\n",
    "# if number equal to 1 then print 1: if\n",
    "# if number equal to 2 then print 2: elif\n",
    "# if number equal to 3 then print 3: elif\n",
    "# if number equal to 4 then print 4: elif\n",
    "# other wise print bye: else\n",
    "\n",
    "num = eval(input(\"enter a number\"))\n",
    "if num==1:\n",
    "    print(f\"{num} is mach\")\n",
    "elif num==2:\n",
    "    print(f\"{num} is mach\")\n",
    "elif num==3:\n",
    "    print(f\"{num} is mach\")\n",
    "elif num==4:\n",
    "    print(f\"{num} is mach\")\n",
    "else:\n",
    "    print(\"number not mach\")"
   ]
  },
  {
   "cell_type": "code",
   "execution_count": null,
   "id": "e65c7646-42d5-4a3c-a5c8-f4502bacc0f5",
   "metadata": {},
   "outputs": [],
   "source": [
    "# wap ask the user\n",
    "# enter marks percentage\n",
    "# If percentage greater than 90 then print A grade\n",
    "# If percentage between 70 and 90 then print B grade\n",
    "# If percentage between 50 and 70 then print C grade\n",
    "# If percentage between 35 and 50 then print D grade\n",
    "# otherwise print fail"
   ]
  },
  {
   "cell_type": "code",
   "execution_count": 6,
   "id": "91a29ac6-67c9-4f14-b112-13d3c38bcd1a",
   "metadata": {},
   "outputs": [
    {
     "name": "stdin",
     "output_type": "stream",
     "text": [
      "enter percentage  89\n"
     ]
    },
    {
     "name": "stdout",
     "output_type": "stream",
     "text": [
      "B grade\n"
     ]
    }
   ],
   "source": [
    "per=eval(input('enter percentage '))\n",
    "if per>=90:\n",
    "    print('A grade')\n",
    "elif per>=70 and per<90:\n",
    "    print('B grade')\n",
    "elif per>=50 and per<70:\n",
    "    print('C grade')\n",
    "elif per>=35 and per<50:\n",
    "    print('D grade')\n",
    "else :\n",
    "    print('fail')"
   ]
  },
  {
   "cell_type": "code",
   "execution_count": 8,
   "id": "43f1f9d0-a8a5-4dec-97af-a11fd1829f8b",
   "metadata": {},
   "outputs": [
    {
     "name": "stdin",
     "output_type": "stream",
     "text": [
      "enter percentage  89\n"
     ]
    },
    {
     "name": "stdout",
     "output_type": "stream",
     "text": [
      "B grade\n"
     ]
    }
   ],
   "source": [
    "per=eval(input('enter percentage '))\n",
    "if per>=90:                  \n",
    "    print('A grade')\n",
    "elif per>=70 :            \n",
    "    print('B grade')\n",
    "elif per>=50 :            \n",
    "    print('C grade')\n",
    "elif per>=35 :            \n",
    "    print('D grade')\n",
    "else :\n",
    "    print('fail')"
   ]
  },
  {
   "cell_type": "markdown",
   "id": "862fecbc-b88a-4930-b9eb-ef36f2646085",
   "metadata": {},
   "source": [
    "- when if condition failes then it checks next condition i.e.elif\n",
    "\n",
    "- suppose elif also fails then it check next condition i.e. elif\n",
    "\n",
    "- this chain reaction keeps on continue till the condition should satisfy"
   ]
  },
  {
   "cell_type": "code",
   "execution_count": null,
   "id": "74e9e048-d849-48ed-845e-882348b8f708",
   "metadata": {},
   "outputs": [],
   "source": [
    "# wap ask the user\n",
    "# enter age\n",
    "# If age greater than 90 then print lucky man\n",
    "# If age between 70 and 90 then print old man\n",
    "# If age between 50 and 70 then print SC\n",
    "# If age between 35 and 50 then print Middile aged\n",
    "# If age between 20 and 35 then print young\n",
    "# If age between 13 and 20 then print teen\n",
    "# otherwise print kid"
   ]
  },
  {
   "cell_type": "code",
   "execution_count": 13,
   "id": "e6c0d42a-add2-4bd2-b3bd-7d810660acee",
   "metadata": {},
   "outputs": [
    {
     "name": "stdin",
     "output_type": "stream",
     "text": [
      "enter percentage  92\n"
     ]
    },
    {
     "name": "stdout",
     "output_type": "stream",
     "text": [
      "Lucky person\n"
     ]
    }
   ],
   "source": [
    "age=eval(input('enter percentage '))\n",
    "if age>=90:                  \n",
    "    print('Lucky person')\n",
    "elif age>=70 :            \n",
    "    print('OLD')\n",
    "elif age>=50 :            \n",
    "    print('SC')\n",
    "elif age>=35 :            \n",
    "    print('MA')\n",
    "elif age>=20 :            \n",
    "    print('young')\n",
    "elif age>=13 :            \n",
    "    print('teen')\n",
    "else :\n",
    "    print('kid')"
   ]
  },
  {
   "cell_type": "code",
   "execution_count": null,
   "id": "c0cb1842-6188-409c-a417-acb23fc1cc06",
   "metadata": {},
   "outputs": [],
   "source": [
    "# add\n",
    "# mul \n",
    "# sub\n",
    "# div based on conditions\n",
    "\n",
    "# take two numbers \n",
    "# num1 from keyboard\n",
    "# num2 from keyboard\n",
    "\n",
    "# enter the operation 1 for addition\n",
    "# enter the operation 2 for mul\n",
    "# enter the operation 3 for sub\n",
    "# enter the operation 4 for div\n",
    "\n",
    "# opertaion=ask the user enter opertaion from keyboard\n",
    "# if operation equal to 1\n",
    "#     perform the addition\n",
    "# if operation equal to 2\n",
    "#     perform the sub\n",
    "# if operation equal to 3\n",
    "#     perform the mul\n",
    "# if operation equal to 4\n",
    "#     perform the div"
   ]
  },
  {
   "cell_type": "code",
   "execution_count": 16,
   "id": "bb183180-45d6-4edd-963d-dabdc8627649",
   "metadata": {},
   "outputs": [
    {
     "name": "stdin",
     "output_type": "stream",
     "text": [
      "Enter the 1st num : 30\n",
      "Enter the 2nd num : 20\n"
     ]
    },
    {
     "name": "stdout",
     "output_type": "stream",
     "text": [
      "Enter the operation 1 for addition\n",
      "Enter the operation 2 for subtraction\n",
      "Enter the operation 3 for multiplication\n",
      "Enter the operation 4 for division\n"
     ]
    },
    {
     "name": "stdin",
     "output_type": "stream",
     "text": [
      "Enter the values between 1 to 4 : 5\n"
     ]
    },
    {
     "name": "stdout",
     "output_type": "stream",
     "text": [
      "not a valid operation\n"
     ]
    }
   ],
   "source": [
    "num1= eval(input(\"Enter the 1st num :\"))\n",
    "num2= eval(input(\"Enter the 2nd num :\"))\n",
    "\n",
    "print(\"Enter the operation 1 for addition\")\n",
    "print(\"Enter the operation 2 for subtraction\")\n",
    "print(\"Enter the operation 3 for multiplication\")\n",
    "print(\"Enter the operation 4 for division\")\n",
    "\n",
    "operation=eval(input(\"Enter the values between 1 to 4 :\"))\n",
    "if operation==1:\n",
    "    add=num1+num2\n",
    "    print(f\"The sum is {add}\")\n",
    "elif operation==2:\n",
    "    sub=num1-num2\n",
    "    print(f\"The subtraction is {sub}\") \n",
    "elif operation==3:\n",
    "    mul=num1*num2\n",
    "    print(f\"The multiplication is {mul}\")\n",
    "elif operation==4:\n",
    "    div=num1%num2\n",
    "    print(f\"The division is {div}\")\n",
    "else:\n",
    "    print(f\"not a valid operation\")"
   ]
  },
  {
   "cell_type": "code",
   "execution_count": 15,
   "id": "d5d2226e-0a03-45ae-a3fa-cb924bc36868",
   "metadata": {},
   "outputs": [
    {
     "name": "stdin",
     "output_type": "stream",
     "text": [
      "Enter the 1st num : 30\n",
      "Enter the 2nd num : 20\n"
     ]
    },
    {
     "name": "stdout",
     "output_type": "stream",
     "text": [
      "Enter the operation 1 for addition\n",
      "Enter the operation 2 for subtraction\n",
      "Enter the operation 3 for multiplication\n",
      "Enter the operation 4 for division\n"
     ]
    },
    {
     "name": "stdin",
     "output_type": "stream",
     "text": [
      "Enter the values between 1 to 4 : 3\n"
     ]
    },
    {
     "name": "stdout",
     "output_type": "stream",
     "text": [
      "The multiplication is 600\n"
     ]
    }
   ],
   "source": [
    "num1= eval(input(\"Enter the 1st num :\"))\n",
    "num2= eval(input(\"Enter the 2nd num :\"))\n",
    "\n",
    "print(\"Enter the operation 1 for addition\")\n",
    "print(\"Enter the operation 2 for subtraction\")\n",
    "print(\"Enter the operation 3 for multiplication\")\n",
    "print(\"Enter the operation 4 for division\")\n",
    "\n",
    "operation=input(\"Enter the values between 1 to 4 :\")\n",
    "if operation=='1':\n",
    "    add=num1+num2\n",
    "    print(f\"The sum is {add}\")\n",
    "elif operation=='2':\n",
    "    sub=num1-num2\n",
    "    print(f\"The subtraction is {sub}\") \n",
    "elif operation=='3':\n",
    "    mul=num1*num2\n",
    "    print(f\"The multiplication is {mul}\")\n",
    "elif operation=='4':\n",
    "    div=num1%num2\n",
    "    print(f\"The division is {div}\")\n",
    "else:\n",
    "    print(f\"not a valid operation\")"
   ]
  },
  {
   "cell_type": "code",
   "execution_count": null,
   "id": "d271d9f9-ccb9-4de6-90f8-9f6368abe9fa",
   "metadata": {},
   "outputs": [],
   "source": [
    "# wap\n",
    "# ask the user enter gender\n",
    "# if gender equal to male\n",
    "#     ask the user enter age\n",
    "#     if age greater tha 30 then print middilaged men\n",
    "#     otherwise print boy\n",
    "# elif gender equal to female\n",
    "#     ask the user enter age\n",
    "#     if age greater tha 30 then print middilaged woman\n",
    "#     otherwise print girl\n",
    "# othrwise\n",
    "#     print enter valid gender"
   ]
  },
  {
   "cell_type": "code",
   "execution_count": null,
   "id": "cdca880e-4652-4ca9-a38b-19a37c59a3fb",
   "metadata": {},
   "outputs": [],
   "source": [
    "gender= input(\"enter the gender:\")\n",
    "if gender=='male':\n",
    "    age=eval(input(\"enter the age:\"))\n",
    "    if age>=30:\n",
    "        print(\"MAM\")\n",
    "    else:\n",
    "        print(\"boy\")\n",
    "elif gender=='female':\n",
    "    age=eval(input(\"enter the age:\"))\n",
    "    if age>=30:\n",
    "        print(\"MAW\")\n",
    "    else:\n",
    "        print(\"girl\")\n",
    "else:\n",
    "    print('valid gender')"
   ]
  },
  {
   "cell_type": "code",
   "execution_count": null,
   "id": "3cb3cacc-0155-4b7e-9d9d-1200c654662a",
   "metadata": {},
   "outputs": [],
   "source": [
    "# Wap ask the user enter gender\n",
    "# If gender equal to female\n",
    "#      id=ask the user id card is there or not  yes or no\n",
    "#      if id card is there\n",
    "#           print(\"enjoy the free ride\")\n",
    "#      else:\n",
    "#          ask the user how much distance need to travel\n",
    "#          ask the user enter charge per km\n",
    "#          print total charge\n",
    "# elif gender equal to male:\n",
    "#          ask the user how much distance need to travel\n",
    "#          ask the user enter charge per km\n",
    "#          print total charge\n",
    "# else \n",
    "#     print valid gender"
   ]
  },
  {
   "cell_type": "code",
   "execution_count": 17,
   "id": "35b6d703-2d2c-40c5-abf4-f939f04e816b",
   "metadata": {},
   "outputs": [
    {
     "name": "stdin",
     "output_type": "stream",
     "text": [
      "enter the gender :  female\n"
     ]
    },
    {
     "name": "stdout",
     "output_type": "stream",
     "text": [
      "Enter yes if you have  ID CARD\n",
      "Enter No if you dont have  ID CARD\n"
     ]
    },
    {
     "name": "stdin",
     "output_type": "stream",
     "text": [
      " Enter Yes or No  yes\n"
     ]
    },
    {
     "name": "stdout",
     "output_type": "stream",
     "text": [
      "Enjoy Free Ride\n"
     ]
    }
   ],
   "source": [
    "gender = (input(\"enter the gender : \"))\n",
    "if gender ==  'female':\n",
    "    print(\"Enter yes if you have  ID CARD\")\n",
    "    print(\"Enter No if you dont have  ID CARD\")\n",
    "    id  = (input(\" Enter Yes or No \"))    \n",
    "    if  id == 'yes' :\n",
    "        print(\"Enjoy Free Ride\")\n",
    "    else:\n",
    "        dis = eval(input(\"how much distnace need to travel\"))\n",
    "        charge = eval(input(\"enter charge per km\"))\n",
    "        print(f\"total charge is {dis*charge}\")\n",
    "elif gender ==  'male':  \n",
    "    dis = eval(input(\"how much distnace need to travel\"))\n",
    "    charge = eval(input(\"enter charge per km\"))\n",
    "    print(f\"total charge is {dis*charge}\")\n",
    "else :\n",
    "    print('enter valid gender')"
   ]
  },
  {
   "cell_type": "code",
   "execution_count": 19,
   "id": "f5903ecd-79df-4946-af17-32744b19a00a",
   "metadata": {},
   "outputs": [
    {
     "name": "stdin",
     "output_type": "stream",
     "text": [
      "enter gender female\n",
      "do you have id card? no\n",
      "how many kms you want to travel? 35\n"
     ]
    },
    {
     "name": "stdout",
     "output_type": "stream",
     "text": [
      "amoun to be paid for travel is 350\n"
     ]
    }
   ],
   "source": [
    "gen=input('enter gender')\n",
    "if gen=='female':\n",
    "    id=input('do you have id card?')\n",
    "    if id=='yes':\n",
    "        print('enjoy free ride')\n",
    "    else:\n",
    "        km=eval(input('how many kms you want to travel?'))\n",
    "        charge= 10\n",
    "        print (f'amoun to be paid for travel is {km*charge}')"
   ]
  },
  {
   "cell_type": "code",
   "execution_count": null,
   "id": "eaf64c8f-54ff-4320-8c30-e048c4c53613",
   "metadata": {},
   "outputs": [],
   "source": [
    "# wap ask the user enter 3 numbers\n",
    "# find the biggest numbers"
   ]
  },
  {
   "cell_type": "code",
   "execution_count": 21,
   "id": "60a38cf5-37e2-4f47-9b84-78a9801f600c",
   "metadata": {},
   "outputs": [
    {
     "name": "stdin",
     "output_type": "stream",
     "text": [
      "Enter the gender : qwertyu\n"
     ]
    },
    {
     "name": "stdout",
     "output_type": "stream",
     "text": [
      "not a valid gender\n"
     ]
    }
   ],
   "source": [
    "gender= input(\"Enter the gender :\")\n",
    "if gender=='Female' or gender=='F': # USE or to add more abbreviations\n",
    "    print(\"Do you have user ID :\")\n",
    "    id=input()\n",
    "    if id=='Y':\n",
    "        print(f\"enjoy free ride\")\n",
    "    else:\n",
    "        distance= eval(input(\"Enter the distance you want to travel :\"))\n",
    "        charge_per_km= eval(input(\"Enter the charge per km :\"))\n",
    "        total_charges=distance*charge_per_km\n",
    "        print(f\"total charges are {total_charges}\")\n",
    "elif gender=='Male':\n",
    "    distance= eval(input(\"Enter the distance you want to travel :\"))\n",
    "    charge_per_km= eval(input(\"Enter the charge per km :\"))\n",
    "    total_charges=distance*charge_per_km\n",
    "    print(f\"total charges are {total_charges}\")\n",
    "else:\n",
    "    print(f\"not a valid gender\")"
   ]
  },
  {
   "cell_type": "code",
   "execution_count": null,
   "id": "a5658cb7-e531-4bf0-97c8-a1187f88b370",
   "metadata": {},
   "outputs": [],
   "source": []
  }
 ],
 "metadata": {
  "kernelspec": {
   "display_name": "Python 3 (ipykernel)",
   "language": "python",
   "name": "python3"
  },
  "language_info": {
   "codemirror_mode": {
    "name": "ipython",
    "version": 3
   },
   "file_extension": ".py",
   "mimetype": "text/x-python",
   "name": "python",
   "nbconvert_exporter": "python",
   "pygments_lexer": "ipython3",
   "version": "3.11.7"
  }
 },
 "nbformat": 4,
 "nbformat_minor": 5
}
