{
 "cells": [
  {
   "cell_type": "markdown",
   "id": "90f48d6b-5683-4b63-a3b3-1713de037e19",
   "metadata": {},
   "source": [
    "- Lambda function also a function \n",
    "\n",
    "- It is a kind of a single line function\n",
    "\n",
    "- we already seen list comprehension which means single line\n",
    "\n",
    "- lambda functions give a flexibility to stop writing many lines\n",
    "\n",
    "- on iterative execution it will save the timing"
   ]
  },
  {
   "cell_type": "code",
   "execution_count": 2,
   "id": "4deb44b5-1c3f-4451-9e54-d84e28ec5a85",
   "metadata": {},
   "outputs": [
    {
     "data": {
      "text/plain": [
       "30"
      ]
     },
     "execution_count": 2,
     "metadata": {},
     "output_type": "execute_result"
    }
   ],
   "source": [
    "def summ(num):\n",
    "    return(num+10)\n",
    "\n",
    "summ(20)"
   ]
  },
  {
   "cell_type": "markdown",
   "id": "5b172f3b-53e5-432d-b184-fbf7151b9d0c",
   "metadata": {},
   "source": [
    "$pattern-1$"
   ]
  },
  {
   "cell_type": "markdown",
   "id": "0282fab2-95a1-4e75-97aa-0e6ab7a1d37a",
   "metadata": {},
   "source": [
    "- function name\n",
    "\n",
    "- variable name\n",
    "\n",
    "- return output\n"
   ]
  },
  {
   "cell_type": "code",
   "execution_count": null,
   "id": "c539c390-2f85-4c2b-84b9-3eb6010ca1e0",
   "metadata": {},
   "outputs": [],
   "source": [
    "#<function_name>= lambda <variable_name>: <return_output>"
   ]
  },
  {
   "cell_type": "code",
   "execution_count": 3,
   "id": "ed55bc15-4979-4d95-8724-52add5f67ee0",
   "metadata": {},
   "outputs": [
    {
     "data": {
      "text/plain": [
       "40"
      ]
     },
     "execution_count": 3,
     "metadata": {},
     "output_type": "execute_result"
    }
   ],
   "source": [
    "summ=lambda num : num+10\n",
    "summ(30)"
   ]
  },
  {
   "cell_type": "code",
   "execution_count": 4,
   "id": "f697e258-978e-43f9-a68a-3be54e8ed486",
   "metadata": {},
   "outputs": [
    {
     "data": {
      "text/plain": [
       "1000"
      ]
     },
     "execution_count": 4,
     "metadata": {},
     "output_type": "execute_result"
    }
   ],
   "source": [
    "def cube(x):\n",
    "    return(x*x*x)\n",
    "cube(10)"
   ]
  },
  {
   "cell_type": "code",
   "execution_count": 5,
   "id": "da4bfd26-a722-42f0-987f-a4b08512dada",
   "metadata": {},
   "outputs": [
    {
     "data": {
      "text/plain": [
       "8000"
      ]
     },
     "execution_count": 5,
     "metadata": {},
     "output_type": "execute_result"
    }
   ],
   "source": [
    "cube = lambda x : x*x*x\n",
    "cube(20)"
   ]
  },
  {
   "cell_type": "markdown",
   "id": "c6e59de9-ef1f-4779-a895-4b053ddfc92e",
   "metadata": {},
   "source": [
    "$pattern-2$\n",
    "\n",
    "**Two arguments**"
   ]
  },
  {
   "cell_type": "code",
   "execution_count": 6,
   "id": "c02573e3-b781-4c06-88f5-c97a4b16f62e",
   "metadata": {},
   "outputs": [
    {
     "data": {
      "text/plain": [
       "30"
      ]
     },
     "execution_count": 6,
     "metadata": {},
     "output_type": "execute_result"
    }
   ],
   "source": [
    "def add(n1,n2):\n",
    "    return(n1+n2)\n",
    "\n",
    "add(10,20)"
   ]
  },
  {
   "cell_type": "code",
   "execution_count": null,
   "id": "4c42765b-61aa-4f60-ba5a-ee0cd50c6958",
   "metadata": {},
   "outputs": [],
   "source": [
    "#<function name>=lambda <arg1>,<arg2>: <output>"
   ]
  },
  {
   "cell_type": "code",
   "execution_count": 8,
   "id": "38a4012b-6aaf-4469-9461-0d49657240bc",
   "metadata": {},
   "outputs": [
    {
     "data": {
      "text/plain": [
       "30"
      ]
     },
     "execution_count": 8,
     "metadata": {},
     "output_type": "execute_result"
    }
   ],
   "source": [
    "add=lambda n1,n2:n1+n2\n",
    "add(10,20)"
   ]
  },
  {
   "cell_type": "code",
   "execution_count": 9,
   "id": "6dd162e2-4ebf-4fd5-8685-453dcd7ead6a",
   "metadata": {},
   "outputs": [
    {
     "data": {
      "text/plain": [
       "20.0"
      ]
     },
     "execution_count": 9,
     "metadata": {},
     "output_type": "execute_result"
    }
   ],
   "source": [
    "avg=lambda n1,n2,n3 : (n1+n2+n3)/3\n",
    "avg(10,20,30)"
   ]
  },
  {
   "cell_type": "code",
   "execution_count": 13,
   "id": "141171f1-4119-4ff6-a26a-d4e3546d7e08",
   "metadata": {},
   "outputs": [
    {
     "data": {
      "text/plain": [
       "110.67"
      ]
     },
     "execution_count": 13,
     "metadata": {},
     "output_type": "execute_result"
    }
   ],
   "source": [
    "avg=lambda n1,n2,n3 : round((n1+n2+n3)/3,2)\n",
    "avg(10,22,300)"
   ]
  },
  {
   "cell_type": "markdown",
   "id": "19791c07-288b-48ae-a5ef-14ac93eabbd1",
   "metadata": {},
   "source": [
    "$pattern-3$\n",
    "\n",
    "**Default arguments**"
   ]
  },
  {
   "cell_type": "code",
   "execution_count": null,
   "id": "0005e93e-d4d7-42e5-856b-66d75fea10aa",
   "metadata": {},
   "outputs": [],
   "source": [
    "def avg(n1,n2,n3=100)"
   ]
  },
  {
   "cell_type": "code",
   "execution_count": 17,
   "id": "809ced9f-5fdb-426b-888b-719ef865b18e",
   "metadata": {},
   "outputs": [
    {
     "data": {
      "text/plain": [
       "43.33"
      ]
     },
     "execution_count": 17,
     "metadata": {},
     "output_type": "execute_result"
    }
   ],
   "source": [
    "avg=lambda n1,n2,n3=100 : round((n1+n2+n3)/3,2)\n",
    "avg(10,20)"
   ]
  },
  {
   "cell_type": "markdown",
   "id": "c807a94a-2dc8-492f-b760-7b819c353c59",
   "metadata": {},
   "source": [
    "$Patterns-4$\n",
    "\n",
    "**if**"
   ]
  },
  {
   "cell_type": "code",
   "execution_count": 18,
   "id": "6715ed9a-6aa6-460a-a0fe-6c203f580a2b",
   "metadata": {},
   "outputs": [
    {
     "data": {
      "text/plain": [
       "'hello'"
      ]
     },
     "execution_count": 18,
     "metadata": {},
     "output_type": "execute_result"
    }
   ],
   "source": [
    "def greet(n1):\n",
    "    if n1>10:\n",
    "        return(\"hello\")\n",
    "greet(20)"
   ]
  },
  {
   "cell_type": "code",
   "execution_count": null,
   "id": "c89794b0-68fb-41a9-a80d-9b9584969300",
   "metadata": {},
   "outputs": [],
   "source": [
    "# In the list comprehension\n",
    "#[<if_out> <if condition> <else>  <else_output> <forloop>]\n",
    "\n",
    "# No for loop\n",
    "\n",
    "# <fun_name>= lambda <arg1>: <if_out> <if_condition> <else> <else_output>\n"
   ]
  },
  {
   "cell_type": "code",
   "execution_count": 21,
   "id": "4feff615-6826-4373-9c4a-d9a5922e2155",
   "metadata": {},
   "outputs": [
    {
     "data": {
      "text/plain": [
       "'bye'"
      ]
     },
     "execution_count": 21,
     "metadata": {},
     "output_type": "execute_result"
    }
   ],
   "source": [
    "greet= lambda n1 : 'hello' if n1>10 else 'bye'\n",
    "greet(10)"
   ]
  },
  {
   "cell_type": "code",
   "execution_count": 23,
   "id": "e1642185-9f13-459c-a3f5-7eb8efcc13b3",
   "metadata": {},
   "outputs": [
    {
     "data": {
      "text/plain": [
       "'20 is greater'"
      ]
     },
     "execution_count": 23,
     "metadata": {},
     "output_type": "execute_result"
    }
   ],
   "source": [
    "# wap lambda function to identidy the greatet number between two numbers\n",
    "\n",
    "maxx=lambda n1,n2: f\"{n2} is greater\" if n2>n1 else f\"{n1} is greater\"\n",
    "maxx(10,20)"
   ]
  },
  {
   "cell_type": "markdown",
   "id": "bb490ac6-4cae-4e4a-b7cf-e5a46c275a2c",
   "metadata": {},
   "source": [
    "$Pattern-5$\n",
    "\n",
    "**using list**"
   ]
  },
  {
   "cell_type": "code",
   "execution_count": null,
   "id": "219acacb-026f-42d5-9288-238a655c5b3e",
   "metadata": {},
   "outputs": [],
   "source": [
    "list1=['hyd','blr','chennai']\n",
    "# op=list2=['Hyd','Blr','Chennai']\n",
    "\n",
    "'hi how are you' ==== > 'Hi How Are You' # Title\n",
    "                ===== > 'Hi how are you' # Capitalize\n",
    "                ====== > 'HI HOW ARE YOU' # Upper\n",
    "                ====== > 'hi how are you' # Lower\n",
    "                ====== > '***hi how are you**' # Center\n",
    "\n",
    "#Really serious concern\n",
    "# Call to me \n",
    "# i dont know(100)   i forgot(50)"
   ]
  },
  {
   "cell_type": "code",
   "execution_count": 25,
   "id": "994140d0-d437-474a-8879-58e0c60c65c3",
   "metadata": {},
   "outputs": [
    {
     "data": {
      "text/plain": [
       "['Hyd', 'Blr', 'Chennai']"
      ]
     },
     "execution_count": 25,
     "metadata": {},
     "output_type": "execute_result"
    }
   ],
   "source": [
    "list1=['hyd','blr','chennai']\n",
    "# op=list2=['Hyd','Blr','Chennai']\n",
    "list2=[]\n",
    "for i in list1:\n",
    "    list2.append(i.capitalize())\n",
    "\n",
    "list2"
   ]
  },
  {
   "cell_type": "code",
   "execution_count": null,
   "id": "3e302b90-4e9c-4d17-aba6-077dee17b1d9",
   "metadata": {},
   "outputs": [],
   "source": [
    "- what is the variable name ==== > i\n",
    "\n",
    "- what is the return output ==== > i.capitalize()\n",
    "\n",
    "- from where it is coming ====== > list1\n",
    "\n",
    "lambda <variable name> : <output>,<iterable>\n",
    "\n",
    "strings are iterables\n",
    "\n",
    "list are iterable\n",
    "\n",
    "we can iterate using for loop"
   ]
  },
  {
   "cell_type": "code",
   "execution_count": 27,
   "id": "54480972-0cd8-4c72-9356-70756e87eb74",
   "metadata": {},
   "outputs": [
    {
     "data": {
      "text/plain": [
       "(<function __main__.<lambda>(i)>, ['hyd', 'blr', 'chennai'])"
      ]
     },
     "execution_count": 27,
     "metadata": {},
     "output_type": "execute_result"
    }
   ],
   "source": [
    "# lambda <variable name> : <output>,<iterable>\n",
    "lambda i : i.capitalize(),list1"
   ]
  },
  {
   "cell_type": "code",
   "execution_count": 28,
   "id": "f80ca81f-2e34-4214-89da-f5f7adf22a8f",
   "metadata": {},
   "outputs": [
    {
     "data": {
      "text/plain": [
       "(10, 20)"
      ]
     },
     "execution_count": 28,
     "metadata": {},
     "output_type": "execute_result"
    }
   ],
   "source": [
    "(10,20)"
   ]
  },
  {
   "cell_type": "markdown",
   "id": "73e39b87-16c9-442f-b7df-1e7b3154c7fb",
   "metadata": {},
   "source": [
    "**map**"
   ]
  },
  {
   "cell_type": "code",
   "execution_count": 30,
   "id": "5075d894-f75d-454e-82aa-eb30103b9c02",
   "metadata": {},
   "outputs": [
    {
     "data": {
      "text/plain": [
       "['Hyd', 'Blr', 'Chennai']"
      ]
     },
     "execution_count": 30,
     "metadata": {},
     "output_type": "execute_result"
    }
   ],
   "source": [
    "list(map(lambda i : i.capitalize(),list1))"
   ]
  },
  {
   "cell_type": "code",
   "execution_count": 33,
   "id": "053e877e-0a25-4cc2-87d1-7f6df484ad38",
   "metadata": {},
   "outputs": [
    {
     "data": {
      "text/plain": [
       "['Hyd', 'Blr', 'Chennai']"
      ]
     },
     "execution_count": 33,
     "metadata": {},
     "output_type": "execute_result"
    }
   ],
   "source": [
    "# step-1: create a normal lambda function\n",
    "#         lambda <arg>: <output>\n",
    "# step-2:  add the iterable \n",
    "#         lambda <arg>: <output>,<list>\n",
    "# step-3:  map the both function and list\n",
    "#         map(lambad <arg>: <outpu>,<list>)\n",
    "# Step-4:  save the result in a list or tuple\n",
    "#         list(map(lambad <arg>: <output>,<list>))\n",
    "\n",
    "lambda i : i.capitalize # fish\n",
    "lambda i : i.capitalize,list1 # net\n",
    "map(lambda i : i.capitalize,list1) # fish ,net\n",
    "list(map(lambda i : i.capitalize(),list1)) # catch the fish"
   ]
  },
  {
   "cell_type": "code",
   "execution_count": 34,
   "id": "da20cecd-dbb7-49e5-9318-6925c959b037",
   "metadata": {},
   "outputs": [
    {
     "name": "stdout",
     "output_type": "stream",
     "text": [
      "['Hyd', 'Blr', 'Chennai']\n",
      "['HYD', 'BLR', 'CHENNAI']\n",
      "['hyd', 'blr', 'chennai']\n",
      "['***hyd****', '***blr****', '*chennai**']\n"
     ]
    }
   ],
   "source": [
    "list1 = ['hyd','blr','chennai']\n",
    "print(list(map(lambda i: i.capitalize(), list1)))\n",
    "print(list(map(lambda i: i.upper(), list1)))\n",
    "print(list(map(lambda i: i.lower(), list1)))\n",
    "print(list(map(lambda i: i.center(10,\"*\"), list1)))"
   ]
  },
  {
   "cell_type": "code",
   "execution_count": 35,
   "id": "b7ff24eb-f486-4607-a9d5-71d208cf15fb",
   "metadata": {},
   "outputs": [
    {
     "data": {
      "text/plain": [
       "['che#nnai', 'mumb#ai']"
      ]
     },
     "execution_count": 35,
     "metadata": {},
     "output_type": "execute_result"
    }
   ],
   "source": [
    "list1 = ['hyd','blr','che#nnai','mumb#ai']\n",
    "# list2=['che#nnai','mumb#ai']\n",
    "list2=[]\n",
    "for i in list1:\n",
    "    if '#' in i:\n",
    "        list2.append(i)\n",
    "\n",
    "list2"
   ]
  },
  {
   "cell_type": "code",
   "execution_count": 38,
   "id": "a5f72f47-f5a9-4ee7-895f-caa42c03f8da",
   "metadata": {},
   "outputs": [
    {
     "data": {
      "text/plain": [
       "[False, False, True, True]"
      ]
     },
     "execution_count": 38,
     "metadata": {},
     "output_type": "execute_result"
    }
   ],
   "source": [
    "# step-1: whenever you are applying a condition on list\n",
    "#         write only condition with out using if\n",
    "lambda i: '#' in i,list1\n",
    "\n",
    "list(map(lambda i: '#' in i,list1))"
   ]
  },
  {
   "cell_type": "markdown",
   "id": "608b0bea-b82a-42d0-bb91-9c0b127bf320",
   "metadata": {},
   "source": [
    "**filter method**\n"
   ]
  },
  {
   "cell_type": "code",
   "execution_count": 39,
   "id": "5cce9cfa-39a8-4648-b278-1a913ed4c456",
   "metadata": {},
   "outputs": [
    {
     "data": {
      "text/plain": [
       "['che#nnai', 'mumb#ai']"
      ]
     },
     "execution_count": 39,
     "metadata": {},
     "output_type": "execute_result"
    }
   ],
   "source": [
    "list(filter(lambda i: '#' in i,list1))"
   ]
  },
  {
   "cell_type": "code",
   "execution_count": 41,
   "id": "c98089ff-fd3e-4a95-9e37-22d80f4eb905",
   "metadata": {},
   "outputs": [
    {
     "data": {
      "text/plain": [
       "['hyd', 'blr']"
      ]
     },
     "execution_count": 41,
     "metadata": {},
     "output_type": "execute_result"
    }
   ],
   "source": [
    "list1 = ['hyd','blr','chennai','mumbai']\n",
    "#list2=['hyd','blr'] # len(i)<=3\n",
    "\n",
    "list(filter(lambda i: len(i)<=3,list1))"
   ]
  },
  {
   "cell_type": "code",
   "execution_count": null,
   "id": "37de88f3-8f95-4309-bef1-f165444693cf",
   "metadata": {},
   "outputs": [],
   "source": []
  }
 ],
 "metadata": {
  "kernelspec": {
   "display_name": "Python 3 (ipykernel)",
   "language": "python",
   "name": "python3"
  },
  "language_info": {
   "codemirror_mode": {
    "name": "ipython",
    "version": 3
   },
   "file_extension": ".py",
   "mimetype": "text/x-python",
   "name": "python",
   "nbconvert_exporter": "python",
   "pygments_lexer": "ipython3",
   "version": "3.11.7"
  }
 },
 "nbformat": 4,
 "nbformat_minor": 5
}
