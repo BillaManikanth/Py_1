{
 "cells": [
  {
   "cell_type": "code",
   "execution_count": 1,
   "id": "65c90255-bc79-4355-bede-500ab16a8327",
   "metadata": {},
   "outputs": [
    {
     "name": "stdin",
     "output_type": "stream",
     "text": [
      "enter the number1: 100\n",
      "enter the number2: 200.25\n"
     ]
    },
    {
     "name": "stdout",
     "output_type": "stream",
     "text": [
      "the addition of 100 and 200.25 is 300.25\n",
      "the subtraction of 100 and 200.25 is -100.25\n",
      "the multiplication of 100 and 200.25 is 20025.0\n",
      "the division of 100 and 200.25 is 0.5\n"
     ]
    }
   ],
   "source": [
    "# Q1) Wap ask the user enter two numbers from keyboard\n",
    "# print addition\n",
    "# print subtraction\n",
    "# print multiplication\n",
    "# print division using f string method\n",
    "\n",
    "n1=eval(input(\"enter the number1:\"))\n",
    "n2=eval(input(\"enter the number2:\"))\n",
    "add=n1+n2\n",
    "sub=n1-n2\n",
    "mul=n1*n2\n",
    "div=round(n1/n2,2)\n",
    "print(f\"the addition of {n1} and {n2} is {add}\")\n",
    "print(f\"the subtraction of {n1} and {n2} is {sub}\")\n",
    "print(f\"the multiplication of {n1} and {n2} is {mul}\")\n",
    "print(f\"the division of {n1} and {n2} is {div}\")"
   ]
  },
  {
   "cell_type": "code",
   "execution_count": 2,
   "id": "9d8ddd41-526f-4042-b293-900560a027ed",
   "metadata": {},
   "outputs": [
    {
     "name": "stdin",
     "output_type": "stream",
     "text": [
      "enter 1ts number 100\n",
      "enter nd num 200\n"
     ]
    },
    {
     "name": "stdout",
     "output_type": "stream",
     "text": [
      "the addition of100 and 200 is300\n",
      "the subtraction of100 and 200 is-100\n",
      "the mul of100 and 200 is20000\n",
      "the div of100 and 200 is0.5\n"
     ]
    }
   ],
   "source": [
    "n1=input('enter 1ts number')\n",
    "n2=input('enter nd num')\n",
    "add=eval(n1)+eval(n2)\n",
    "sub=eval(n1)-eval(n2)\n",
    "mul=eval(n1)*eval(n2)\n",
    "div=eval(n1)/eval(n2)\n",
    "\n",
    "print(f'the addition of{n1} and {n2} is{add}')\n",
    "print(f'the subtraction of{n1} and {n2} is{sub}')\n",
    "print(f'the mul of{n1} and {n2} is{mul}')\n",
    "print(f'the div of{n1} and {n2} is{div}')"
   ]
  },
  {
   "cell_type": "code",
   "execution_count": 3,
   "id": "28c2ad18-89e1-43fa-a8bd-f59cc1fc5516",
   "metadata": {},
   "outputs": [
    {
     "name": "stdin",
     "output_type": "stream",
     "text": [
      "enter the first number1 = 10\n",
      "enter the first number2 = 20\n",
      "enter the first number3 = 30\n"
     ]
    },
    {
     "name": "stdout",
     "output_type": "stream",
     "text": [
      "avg is :- 20.0\n"
     ]
    }
   ],
   "source": [
    "# Q2) Ask the user enter 3 numbers and find the average of those numbers\n",
    "a=eval(input(\"enter the first number1 =\"))\n",
    "b=eval(input(\"enter the first number2 =\"))\n",
    "c=eval(input(\"enter the first number3 =\"))\n",
    "avg=(a+b+c)/3\n",
    "print(f\"avg is :- {avg}\")"
   ]
  },
  {
   "cell_type": "code",
   "execution_count": 5,
   "id": "5a5b20b6-e6f7-4c5b-b2c0-5d728c1e7305",
   "metadata": {},
   "outputs": [
    {
     "name": "stdin",
     "output_type": "stream",
     "text": [
      "enter the number= 11\n",
      "enter the number= 22\n",
      "enter the number= 56\n"
     ]
    },
    {
     "name": "stdout",
     "output_type": "stream",
     "text": [
      "the avg of11,22,56 is29.67\n"
     ]
    }
   ],
   "source": [
    "n1=eval(input(\"enter the number=\"))\n",
    "n2=eval(input(\"enter the number=\"))\n",
    "n3=eval(input(\"enter the number=\"))\n",
    "avg=round((n1+n2+n3)/3,2)\n",
    "print(f'the avg of{n1},{n2},{n3} is{avg}')"
   ]
  },
  {
   "cell_type": "code",
   "execution_count": 6,
   "id": "e07b045b-e89a-4965-b001-e768d9818231",
   "metadata": {},
   "outputs": [
    {
     "name": "stdin",
     "output_type": "stream",
     "text": [
      "enter the bill 1000\n",
      "enter the tip in percentage: 10\n"
     ]
    },
    {
     "name": "stdout",
     "output_type": "stream",
     "text": [
      "the total bill is: 1100.0\n"
     ]
    }
   ],
   "source": [
    "# Q3)  Ask the enter the bill\n",
    "      # ask the user ho much tip percentage\n",
    "      # calculate the total bill\n",
    "\n",
    "# 1000 rs\n",
    "# 10% : 100\n",
    "# 1000+100\n",
    "\n",
    "bill=eval(input(\"enter the bill\"))\n",
    "tip_per=eval(input(\"enter the tip in percentage:\"))\n",
    "tip_amount= tip_per*bill/100\n",
    "total_bill=bill+tip_amount\n",
    "print(\"the total bill is:\",total_bill)"
   ]
  },
  {
   "cell_type": "code",
   "execution_count": 7,
   "id": "baf6d473-70b5-4e4c-9771-cdb0b2320d11",
   "metadata": {},
   "outputs": [
    {
     "name": "stdin",
     "output_type": "stream",
     "text": [
      "Enter the bill amount:   1000\n",
      "Enter the tip percentage:   10\n"
     ]
    },
    {
     "name": "stdout",
     "output_type": "stream",
     "text": [
      "1100.0\n"
     ]
    }
   ],
   "source": [
    "bill=eval(input(\"Enter the bill amount:  \"))\n",
    "tip_per=eval(input(\"Enter the tip percentage:  \"))\n",
    "tip_amount=(bill*tip_per)/100\n",
    "total=bill+tip_amount\n",
    "print(total)"
   ]
  },
  {
   "cell_type": "code",
   "execution_count": 9,
   "id": "416fd428-b8e4-46a3-9086-877cf7e7a551",
   "metadata": {},
   "outputs": [
    {
     "name": "stdin",
     "output_type": "stream",
     "text": [
      "Enter the weight in kgs:  100\n",
      "how many pounds for 1 kg: 2.2\n"
     ]
    },
    {
     "name": "stdout",
     "output_type": "stream",
     "text": [
      "the weight in pound is 220.0\n"
     ]
    }
   ],
   "source": [
    "#Q4) ask the enter the weight in kgs\n",
    "#    display the answer in pounds\n",
    "#    1kg=2.2 pounds\n",
    "\n",
    "weight_kg=eval(input(\"Enter the weight in kgs: \"))\n",
    "pounds=eval(input(\"how many pounds for 1 kg:\"))\n",
    "weight_pound=round(pounds*weight_kg,2)\n",
    "print(f\"the weight in pound is {weight_pound}\")"
   ]
  },
  {
   "cell_type": "code",
   "execution_count": null,
   "id": "1a77f555-3af0-4115-b542-8927b579fc23",
   "metadata": {},
   "outputs": [],
   "source": [
    "n1=eval(input(\"enter the number1:\"))\n",
    "n2=eval(input(\"enter the number2:\"))\n",
    "add=n1+n2\n",
    "\n",
    "n1=100\n",
    "n2=200\n",
    "add=n1+n2"
   ]
  },
  {
   "cell_type": "code",
   "execution_count": 10,
   "id": "9e7d953d-92db-40a6-8ecb-b7aa7a87856a",
   "metadata": {},
   "outputs": [
    {
     "name": "stdout",
     "output_type": "stream",
     "text": [
      "the addition of58 and 49 is107\n"
     ]
    }
   ],
   "source": [
    "import random\n",
    "n1=random.randint(1,100)\n",
    "n2=random.randint(1,100)\n",
    "add=n1+n2\n",
    "print(f'the addition of {n1} and {n2} is{add}')"
   ]
  },
  {
   "cell_type": "code",
   "execution_count": 11,
   "id": "92029588-6e4f-4270-a77f-01eece0ad7f9",
   "metadata": {},
   "outputs": [
    {
     "name": "stdin",
     "output_type": "stream",
     "text": [
      "Enter the weight in kgs:  100\n",
      "how many pounds for 1 kg: 2.2\n"
     ]
    },
    {
     "ename": "NameError",
     "evalue": "name 'pound' is not defined",
     "output_type": "error",
     "traceback": [
      "\u001b[1;31m---------------------------------------------------------------------------\u001b[0m",
      "\u001b[1;31mNameError\u001b[0m                                 Traceback (most recent call last)",
      "Cell \u001b[1;32mIn[11], line 3\u001b[0m\n\u001b[0;32m      1\u001b[0m weight_kg\u001b[38;5;241m=\u001b[39m\u001b[38;5;28meval\u001b[39m(\u001b[38;5;28minput\u001b[39m(\u001b[38;5;124m\"\u001b[39m\u001b[38;5;124mEnter the weight in kgs: \u001b[39m\u001b[38;5;124m\"\u001b[39m))\n\u001b[0;32m      2\u001b[0m pounds\u001b[38;5;241m=\u001b[39m\u001b[38;5;28meval\u001b[39m(\u001b[38;5;28minput\u001b[39m(\u001b[38;5;124m\"\u001b[39m\u001b[38;5;124mhow many pounds for 1 kg:\u001b[39m\u001b[38;5;124m\"\u001b[39m))\n\u001b[1;32m----> 3\u001b[0m weight_pound\u001b[38;5;241m=\u001b[39m\u001b[38;5;28mround\u001b[39m(pound\u001b[38;5;241m*\u001b[39mweight_kg,\u001b[38;5;241m2\u001b[39m)\n\u001b[0;32m      4\u001b[0m \u001b[38;5;28mprint\u001b[39m(\u001b[38;5;124mf\u001b[39m\u001b[38;5;124m\"\u001b[39m\u001b[38;5;124mthe weight in pound is \u001b[39m\u001b[38;5;132;01m{\u001b[39;00mweight_pound\u001b[38;5;132;01m}\u001b[39;00m\u001b[38;5;124m\"\u001b[39m)\n",
      "\u001b[1;31mNameError\u001b[0m: name 'pound' is not defined"
     ]
    }
   ],
   "source": [
    "weight_kg=eval(input(\"Enter the weight in kgs: \"))\n",
    "pounds=eval(input(\"how many pounds for 1 kg:\"))\n",
    "weight_pound=round(pound*weight_kg,2)\n",
    "print(f\"the weight in pound is {weight_pound}"
   ]
  },
  {
   "cell_type": "code",
   "execution_count": 13,
   "id": "eec4f981-ea38-4884-8e84-30e697e02500",
   "metadata": {},
   "outputs": [
    {
     "data": {
      "text/plain": [
       "100.46"
      ]
     },
     "execution_count": 13,
     "metadata": {},
     "output_type": "execute_result"
    }
   ],
   "source": [
    "val=100.4567\n",
    "round(val,2)"
   ]
  },
  {
   "cell_type": "code",
   "execution_count": null,
   "id": "e48ff54d-acde-493d-9295-7004c632c625",
   "metadata": {},
   "outputs": [],
   "source": [
    "# Print all 4 lines 2 seconds gap\n",
    "import time\n",
    "n1=eval(input(\"enter the number1:\"))\n",
    "n2=eval(input(\"enter the number2:\"))\n",
    "add=n1+n2\n",
    "sub=n1-n2\n",
    "mul=n1*n2\n",
    "div=round(n1/n2,2)\n",
    "print(f\"the addition of {n1} and {n2} is {add}\")\n",
    "time.sleep(2)\n",
    "print(f\"the subtraction of {n1} and {n2} is {sub}\")\n",
    "time.sleep(2)\n",
    "print(f\"the multiplication of {n1} and {n2} is {mul}\")\n",
    "time.sleep(2)\n",
    "print(f\"the division of {n1} and {n2} is {div}\")"
   ]
  }
 ],
 "metadata": {
  "kernelspec": {
   "display_name": "Python 3 (ipykernel)",
   "language": "python",
   "name": "python3"
  },
  "language_info": {
   "codemirror_mode": {
    "name": "ipython",
    "version": 3
   },
   "file_extension": ".py",
   "mimetype": "text/x-python",
   "name": "python",
   "nbconvert_exporter": "python",
   "pygments_lexer": "ipython3",
   "version": "3.11.7"
  }
 },
 "nbformat": 4,
 "nbformat_minor": 5
}
