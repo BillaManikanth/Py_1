{
 "cells": [
  {
   "cell_type": "markdown",
   "id": "de0a0539-2dc7-44d7-bd9b-f0a17c829fdf",
   "metadata": {},
   "source": [
    "- How to display\n",
    "\n",
    "- type\n",
    "\n",
    "- len\n",
    "\n",
    "- max\n",
    "\n",
    "- min\n",
    "\n",
    "- sum\n",
    "\n",
    "- reversed \n",
    "\n",
    "- sorted\n",
    "\n",
    "- in\n",
    "\n",
    "- not in\n",
    "\n",
    "- index\n",
    "\n",
    "- for loop\n",
    "\n",
    "- mutable\n",
    "\n",
    "- slice\n",
    "\n",
    "- concatenation\n",
    "\n",
    "- Methods"
   ]
  },
  {
   "cell_type": "code",
   "execution_count": 1,
   "id": "25f3345d-4d18-4fc8-9857-ac53db8b4dae",
   "metadata": {},
   "outputs": [
    {
     "data": {
      "text/plain": [
       "[1, 2, 3, 4]"
      ]
     },
     "execution_count": 1,
     "metadata": {},
     "output_type": "execute_result"
    }
   ],
   "source": [
    "list1=[1,2,3,4]  # array of elements\n",
    "list1"
   ]
  },
  {
   "cell_type": "code",
   "execution_count": 2,
   "id": "4237f61e-7456-4df2-ab96-bf04ce44462d",
   "metadata": {},
   "outputs": [
    {
     "data": {
      "text/plain": [
       "list"
      ]
     },
     "execution_count": 2,
     "metadata": {},
     "output_type": "execute_result"
    }
   ],
   "source": [
    "type(list1)"
   ]
  },
  {
   "cell_type": "code",
   "execution_count": 3,
   "id": "af1ca628-c2a2-4175-9048-ff812d2060df",
   "metadata": {},
   "outputs": [
    {
     "data": {
      "text/plain": [
       "['Apple', 'Ball', 'Cat']"
      ]
     },
     "execution_count": 3,
     "metadata": {},
     "output_type": "execute_result"
    }
   ],
   "source": [
    "list2=['Apple','Ball','Cat']\n",
    "list2"
   ]
  },
  {
   "cell_type": "code",
   "execution_count": 4,
   "id": "5f6164ff-1630-4471-8756-382695b6d8f6",
   "metadata": {},
   "outputs": [
    {
     "data": {
      "text/plain": [
       "[1, 2, 3, 'Apple', 'Ball', 'Cat']"
      ]
     },
     "execution_count": 4,
     "metadata": {},
     "output_type": "execute_result"
    }
   ],
   "source": [
    "list3=[1,2,3,'Apple','Ball','Cat']\n",
    "list3"
   ]
  },
  {
   "cell_type": "code",
   "execution_count": 5,
   "id": "3362f343-2588-4bc7-a767-4b8591dd5f57",
   "metadata": {},
   "outputs": [
    {
     "data": {
      "text/plain": [
       "[1, 'Apple', 10.5, True]"
      ]
     },
     "execution_count": 5,
     "metadata": {},
     "output_type": "execute_result"
    }
   ],
   "source": [
    "list4=[1,'Apple',10.5,True]\n",
    "list4"
   ]
  },
  {
   "cell_type": "code",
   "execution_count": 6,
   "id": "f21dc7d2-7003-45a5-823a-d1d28825215e",
   "metadata": {},
   "outputs": [
    {
     "data": {
      "text/plain": [
       "[100, 100, 100]"
      ]
     },
     "execution_count": 6,
     "metadata": {},
     "output_type": "execute_result"
    }
   ],
   "source": [
    "list5=[100,100,100]\n",
    "list5"
   ]
  },
  {
   "cell_type": "code",
   "execution_count": 7,
   "id": "8b698198-8db9-4459-b73c-8867921d3af9",
   "metadata": {},
   "outputs": [
    {
     "data": {
      "text/plain": [
       "['Apple', 'Ball', [1, 2, 3]]"
      ]
     },
     "execution_count": 7,
     "metadata": {},
     "output_type": "execute_result"
    }
   ],
   "source": [
    "list6=['Apple','Ball',[1,2,3]]\n",
    "list6"
   ]
  },
  {
   "cell_type": "markdown",
   "id": "118853b1-aa0b-4bf9-8f6e-28d1eef70696",
   "metadata": {},
   "source": [
    "- List items can be heterogeous\n",
    "\n",
    "    - Which means list items can be all data types\n",
    "\n",
    "- List items can be duplicate\n",
    "\n",
    "    - Which means list can have same value multiple times\n",
    "\n",
    "- List can have another list inside: List in list"
   ]
  },
  {
   "cell_type": "code",
   "execution_count": null,
   "id": "e170b666-f01a-405a-88c3-8d326459ba9a",
   "metadata": {},
   "outputs": [],
   "source": [
    "list1=[1,2,3,4]\n",
    "list2=['Apple','Ball','Cat']\n",
    "list3=[1,2,3,'Apple','Ball','Cat']\n",
    "list4=[1,'Apple',10.5,True]\n",
    "list5=[100,100,100]\n",
    "list6=['Apple','Ball',[1,2,3]]"
   ]
  },
  {
   "cell_type": "code",
   "execution_count": 8,
   "id": "1ffe544c-0d0f-4c4e-945e-1f6fc24c23dd",
   "metadata": {},
   "outputs": [
    {
     "data": {
      "text/plain": [
       "4"
      ]
     },
     "execution_count": 8,
     "metadata": {},
     "output_type": "execute_result"
    }
   ],
   "source": [
    "len(list1)"
   ]
  },
  {
   "cell_type": "code",
   "execution_count": 10,
   "id": "b76d969d-9809-40f4-8011-f38126baea08",
   "metadata": {},
   "outputs": [
    {
     "data": {
      "text/plain": [
       "(1, 4)"
      ]
     },
     "execution_count": 10,
     "metadata": {},
     "output_type": "execute_result"
    }
   ],
   "source": [
    "min(list1),max(list1)"
   ]
  },
  {
   "cell_type": "code",
   "execution_count": 12,
   "id": "8abe27ea-ddbe-4c4f-b6b2-dc18facccfef",
   "metadata": {},
   "outputs": [
    {
     "data": {
      "text/plain": [
       "('Apple', 'Cat')"
      ]
     },
     "execution_count": 12,
     "metadata": {},
     "output_type": "execute_result"
    }
   ],
   "source": [
    "min(list2),max(list2)"
   ]
  },
  {
   "cell_type": "code",
   "execution_count": 13,
   "id": "00a3f626-8642-4a66-9439-b5b700983bcd",
   "metadata": {},
   "outputs": [
    {
     "data": {
      "text/plain": [
       "[1, 2, 3, 'Apple', 'Ball', 'Cat']"
      ]
     },
     "execution_count": 13,
     "metadata": {},
     "output_type": "execute_result"
    }
   ],
   "source": [
    "list3"
   ]
  },
  {
   "cell_type": "code",
   "execution_count": 14,
   "id": "5988f411-677c-40c2-82cc-22ba01cf7db8",
   "metadata": {},
   "outputs": [
    {
     "data": {
      "text/plain": [
       "6"
      ]
     },
     "execution_count": 14,
     "metadata": {},
     "output_type": "execute_result"
    }
   ],
   "source": [
    "len(list3)"
   ]
  },
  {
   "cell_type": "code",
   "execution_count": 15,
   "id": "c0917a4e-cd7d-4616-94ac-a4de092a9911",
   "metadata": {},
   "outputs": [
    {
     "ename": "TypeError",
     "evalue": "'<' not supported between instances of 'str' and 'int'",
     "output_type": "error",
     "traceback": [
      "\u001b[1;31m---------------------------------------------------------------------------\u001b[0m",
      "\u001b[1;31mTypeError\u001b[0m                                 Traceback (most recent call last)",
      "Cell \u001b[1;32mIn[15], line 1\u001b[0m\n\u001b[1;32m----> 1\u001b[0m \u001b[38;5;28mmin\u001b[39m(list3)\n",
      "\u001b[1;31mTypeError\u001b[0m: '<' not supported between instances of 'str' and 'int'"
     ]
    }
   ],
   "source": [
    "min(list3)"
   ]
  },
  {
   "cell_type": "code",
   "execution_count": 17,
   "id": "e46096cc-db87-4ef1-bedc-73d0147f68a0",
   "metadata": {},
   "outputs": [
    {
     "data": {
      "text/plain": [
       "[4, 3, 2, 1]"
      ]
     },
     "execution_count": 17,
     "metadata": {},
     "output_type": "execute_result"
    }
   ],
   "source": [
    "#type()\n",
    "#len()\n",
    "#min()\n",
    "#max()\n",
    "sorted(list1,reverse=True)"
   ]
  },
  {
   "cell_type": "code",
   "execution_count": 19,
   "id": "faf73729-3455-4e23-9399-cbfdfd1265c2",
   "metadata": {},
   "outputs": [
    {
     "name": "stdout",
     "output_type": "stream",
     "text": [
      "4\n",
      "3\n",
      "2\n",
      "1\n"
     ]
    }
   ],
   "source": [
    "val=reversed(list1)\n",
    "for i in val:\n",
    "    print(i)"
   ]
  },
  {
   "cell_type": "code",
   "execution_count": 20,
   "id": "2300b8a7-082d-48db-99c4-6b53d0d69187",
   "metadata": {},
   "outputs": [
    {
     "data": {
      "text/plain": [
       "[1, 2, 3, 'Apple', 'Ball', 'Cat']"
      ]
     },
     "execution_count": 20,
     "metadata": {},
     "output_type": "execute_result"
    }
   ],
   "source": [
    "list3"
   ]
  },
  {
   "cell_type": "code",
   "execution_count": 22,
   "id": "24ae139b-f265-498a-a3b5-e3275dea7716",
   "metadata": {},
   "outputs": [
    {
     "name": "stdout",
     "output_type": "stream",
     "text": [
      "Cat\n",
      "Ball\n",
      "Apple\n",
      "3\n",
      "2\n",
      "1\n"
     ]
    }
   ],
   "source": [
    "#sorted(list3) \n",
    "for i in reversed(list3):\n",
    "    print(i)"
   ]
  },
  {
   "cell_type": "code",
   "execution_count": 27,
   "id": "1e87f731-d2d5-4f80-a835-8efb5ab9266e",
   "metadata": {},
   "outputs": [
    {
     "data": {
      "text/plain": [
       "True"
      ]
     },
     "execution_count": 27,
     "metadata": {},
     "output_type": "execute_result"
    }
   ],
   "source": [
    "1 in list1\n",
    "2 in list1\n",
    "3 in list1\n",
    "33 in list1 # F\n",
    "33 not in list1"
   ]
  },
  {
   "cell_type": "code",
   "execution_count": 28,
   "id": "91cced2f-28ad-4ec3-a887-b5f9bcc7c28f",
   "metadata": {},
   "outputs": [
    {
     "name": "stdout",
     "output_type": "stream",
     "text": [
      "1\n",
      "2\n",
      "3\n",
      "4\n"
     ]
    }
   ],
   "source": [
    "1 in list1\n",
    "2 in list1\n",
    "3 in list1\n",
    "\n",
    "for i in list1:\n",
    "    print(i)"
   ]
  },
  {
   "cell_type": "code",
   "execution_count": 29,
   "id": "2a83506c-d3d3-4788-86c8-54771bf12d29",
   "metadata": {},
   "outputs": [
    {
     "name": "stdout",
     "output_type": "stream",
     "text": [
      "p\n",
      "y\n",
      "t\n",
      "h\n",
      "o\n",
      "n\n"
     ]
    }
   ],
   "source": [
    "for i in 'python':\n",
    "    print(i)"
   ]
  },
  {
   "cell_type": "code",
   "execution_count": 30,
   "id": "5626d800-3df2-46c7-bbf5-69949ed09e85",
   "metadata": {},
   "outputs": [
    {
     "name": "stdout",
     "output_type": "stream",
     "text": [
      "1\n",
      "2\n",
      "3\n",
      "4\n"
     ]
    }
   ],
   "source": [
    "for i in [1,2,3,4]:\n",
    "    print(i)"
   ]
  },
  {
   "cell_type": "code",
   "execution_count": null,
   "id": "024ac6e6-5b5d-4c16-b76d-7ab7bf5be176",
   "metadata": {},
   "outputs": [],
   "source": [
    "list12 = ['Apple', 'apple', 'APPLE', 'Ball', 'Cat', 'cat', 'CAT']\n",
    "min(list12), max(list12)\n",
    "\n",
    "list13 = ['Apple', 'apple', 'Ball', 'Cat', 'CAT']\n",
    "min(list13), max(list13)\n",
    "\n",
    "# 'A' : 65  B: 66 C: 67\n",
    "# 'a': 97\n",
    "'Apple'  'APPLE'  "
   ]
  },
  {
   "cell_type": "code",
   "execution_count": 31,
   "id": "f12f4b35-3767-42df-857e-67b568a767b7",
   "metadata": {},
   "outputs": [
    {
     "data": {
      "text/plain": [
       "True"
      ]
     },
     "execution_count": 31,
     "metadata": {},
     "output_type": "execute_result"
    }
   ],
   "source": [
    "'Apple' > 'APPLE'"
   ]
  },
  {
   "cell_type": "code",
   "execution_count": null,
   "id": "6526d2d1-9e08-4b87-bbd7-4c41f5b38b7b",
   "metadata": {},
   "outputs": [],
   "source": [
    "-7 -6 -5 -4 -3 -2 -1\n",
    "1  2  3  4  5  6  7\n",
    "0  1  2  3  4  5  6"
   ]
  },
  {
   "cell_type": "code",
   "execution_count": 35,
   "id": "b59f978b-c7f8-4a2d-960a-25a6a4251f47",
   "metadata": {},
   "outputs": [
    {
     "data": {
      "text/plain": [
       "(10, 20, 30)"
      ]
     },
     "execution_count": 35,
     "metadata": {},
     "output_type": "execute_result"
    }
   ],
   "source": [
    "list1=[10,20,30,40,50,60]\n",
    "list1[0],list1[1],list1[2]"
   ]
  },
  {
   "cell_type": "code",
   "execution_count": null,
   "id": "a4b0d4ef-7c5c-4abb-adc6-18f8162e397c",
   "metadata": {},
   "outputs": [],
   "source": [
    "# postive index\n",
    "# negative index\n",
    "# postive and negative "
   ]
  },
  {
   "cell_type": "code",
   "execution_count": 36,
   "id": "cf331dcc-124f-46ed-9e2b-eb5800cebfbb",
   "metadata": {},
   "outputs": [
    {
     "name": "stdout",
     "output_type": "stream",
     "text": [
      "p\n",
      "y\n",
      "t\n",
      "h\n",
      "o\n",
      "n\n"
     ]
    }
   ],
   "source": [
    "str='python'\n",
    "for i in range(len(str)):\n",
    "    print(str[i])"
   ]
  },
  {
   "cell_type": "code",
   "execution_count": 37,
   "id": "d9d81e44-716f-4ae6-b6c6-f856f72bf2d7",
   "metadata": {},
   "outputs": [
    {
     "name": "stdout",
     "output_type": "stream",
     "text": [
      "1\n",
      "2\n",
      "3\n",
      "4\n"
     ]
    }
   ],
   "source": [
    "list1=[1,2,3,4]\n",
    "for i in range(len(list1)):\n",
    "    print(list1[i])"
   ]
  },
  {
   "cell_type": "code",
   "execution_count": 41,
   "id": "3fdbb8dd-0bb1-4ae3-a9f6-f25296b96126",
   "metadata": {},
   "outputs": [
    {
     "data": {
      "text/plain": [
       "1"
      ]
     },
     "execution_count": 41,
     "metadata": {},
     "output_type": "execute_result"
    }
   ],
   "source": [
    "list1=[[1]]\n",
    "list1[0][0]"
   ]
  },
  {
   "cell_type": "code",
   "execution_count": 45,
   "id": "5720b9b6-fcda-4603-ae38-753a99d3d4c4",
   "metadata": {},
   "outputs": [
    {
     "data": {
      "text/plain": [
       "10"
      ]
     },
     "execution_count": 45,
     "metadata": {},
     "output_type": "execute_result"
    }
   ],
   "source": [
    "list1=[1,2,3,[10]]\n",
    "list1[3][0]"
   ]
  },
  {
   "cell_type": "code",
   "execution_count": 46,
   "id": "1678d0b1-2700-4b8d-9dd2-d075c710a354",
   "metadata": {},
   "outputs": [
    {
     "data": {
      "text/plain": [
       "4"
      ]
     },
     "execution_count": 46,
     "metadata": {},
     "output_type": "execute_result"
    }
   ],
   "source": [
    "list1=[1,2,3,['A',['B']]]\n",
    "len(list1)"
   ]
  },
  {
   "cell_type": "code",
   "execution_count": 55,
   "id": "a0878dd2-be29-48fb-a07b-42cc36618f87",
   "metadata": {},
   "outputs": [
    {
     "data": {
      "text/plain": [
       "'B'"
      ]
     },
     "execution_count": 55,
     "metadata": {},
     "output_type": "execute_result"
    }
   ],
   "source": [
    "list1[3][1][0]"
   ]
  },
  {
   "cell_type": "code",
   "execution_count": 74,
   "id": "afc2ad2b-f6f9-4112-909a-cedece5db92e",
   "metadata": {},
   "outputs": [
    {
     "data": {
      "text/plain": [
       "'Cherry'"
      ]
     },
     "execution_count": 74,
     "metadata": {},
     "output_type": "execute_result"
    }
   ],
   "source": [
    "list1=[1,2,3,['Apple',['Fruites',['Cherry']]]]\n",
    "len(list1[3])\n",
    "list1[3][1][1][0]"
   ]
  },
  {
   "cell_type": "code",
   "execution_count": 64,
   "id": "10b552b5-11fb-4b7a-b464-a1f88eb29b3f",
   "metadata": {},
   "outputs": [
    {
     "data": {
      "text/plain": [
       "'Cherry'"
      ]
     },
     "execution_count": 64,
     "metadata": {},
     "output_type": "execute_result"
    }
   ],
   "source": [
    "list1[3][1][1][0]"
   ]
  },
  {
   "cell_type": "code",
   "execution_count": 82,
   "id": "bc1bc9f8-2981-432d-b5c8-28693eb6fa1d",
   "metadata": {},
   "outputs": [
    {
     "data": {
      "text/plain": [
       "('Mango', 'Cherry')"
      ]
     },
     "execution_count": 82,
     "metadata": {},
     "output_type": "execute_result"
    }
   ],
   "source": [
    "list1=[[[1,2,3,['Apple',['Fruites',['Mango',['Cherry']]]]]]]\n",
    "# 003110: \n",
    "# 0031110 : cherry\n",
    "list1[0][0][3][1][1][0],list1[0][0][3][1][1][1][0]"
   ]
  },
  {
   "cell_type": "code",
   "execution_count": 84,
   "id": "969439f6-413e-4186-9614-2b7067a2fa67",
   "metadata": {},
   "outputs": [
    {
     "data": {
      "text/plain": [
       "'Orange'"
      ]
     },
     "execution_count": 84,
     "metadata": {},
     "output_type": "execute_result"
    }
   ],
   "source": [
    "list1=[[[[[[[[['Orange']]]]]]]]]\n",
    "list1[0][0][0][0][0][0][0][0][0]\n"
   ]
  },
  {
   "cell_type": "code",
   "execution_count": 90,
   "id": "4b902089-d530-46ae-9482-5d368e21eeed",
   "metadata": {},
   "outputs": [
    {
     "data": {
      "text/plain": [
       "'Banana'"
      ]
     },
     "execution_count": 90,
     "metadata": {},
     "output_type": "execute_result"
    }
   ],
   "source": [
    "list1=[[[[[[[['Fruites',[[['Banana']]]]]]]]]]]\n",
    "\n",
    "# 7 zeros  1   3 zeros\n",
    "list1[0][0][0][0][0][0][0][1][0][0][0]"
   ]
  },
  {
   "cell_type": "code",
   "execution_count": 97,
   "id": "3ebeabda-ef48-49a7-be35-e69b8cfd4124",
   "metadata": {},
   "outputs": [
    {
     "name": "stdout",
     "output_type": "stream",
     "text": [
      "5\n",
      "6\n"
     ]
    }
   ],
   "source": [
    "for i in '5x*x+6x+c':\n",
    "    if i.isdigit():\n",
    "        print(i)"
   ]
  },
  {
   "cell_type": "code",
   "execution_count": 95,
   "id": "3dc2a960-f64f-4fce-a7ce-cc94780fdeb7",
   "metadata": {},
   "outputs": [
    {
     "data": {
      "text/plain": [
       "False"
      ]
     },
     "execution_count": 95,
     "metadata": {},
     "output_type": "execute_result"
    }
   ],
   "source": [
    "'a'.isdigit()"
   ]
  },
  {
   "cell_type": "markdown",
   "id": "eb9adc46-5a26-425a-ba4a-76df07efb695",
   "metadata": {},
   "source": [
    "**Mutable - Immutable**"
   ]
  },
  {
   "cell_type": "code",
   "execution_count": 1,
   "id": "29b13ef7-e1e8-41d1-a0b5-38568c9f7170",
   "metadata": {},
   "outputs": [
    {
     "data": {
      "text/plain": [
       "27"
      ]
     },
     "execution_count": 1,
     "metadata": {},
     "output_type": "execute_result"
    }
   ],
   "source": [
    "3**3"
   ]
  },
  {
   "cell_type": "code",
   "execution_count": 2,
   "id": "dc26bd4f-8860-473c-8acc-dcf4003201f6",
   "metadata": {},
   "outputs": [
    {
     "data": {
      "text/plain": [
       "3"
      ]
     },
     "execution_count": 2,
     "metadata": {},
     "output_type": "execute_result"
    }
   ],
   "source": [
    "3*1**3"
   ]
  },
  {
   "cell_type": "markdown",
   "id": "b4e4db64-9ee3-4dbf-9439-933142f60cf0",
   "metadata": {},
   "source": [
    "- Python mutable concept always based on index\n",
    "\n",
    "- list are mutable means we can change the values using index"
   ]
  },
  {
   "cell_type": "code",
   "execution_count": 4,
   "id": "f13b834d-56c7-4921-b6b6-947323f7c9f0",
   "metadata": {},
   "outputs": [
    {
     "data": {
      "text/plain": [
       "[100, 2, 3, 4]"
      ]
     },
     "execution_count": 4,
     "metadata": {},
     "output_type": "execute_result"
    }
   ],
   "source": [
    "l=[1,2,3,4]\n",
    "l[0]=100\n",
    "l"
   ]
  },
  {
   "cell_type": "markdown",
   "id": "619593ac-ba53-45b6-b163-ccd05892d025",
   "metadata": {},
   "source": [
    "- type\n",
    "\n",
    "- len\n",
    "\n",
    "- max\n",
    "\n",
    "- min\n",
    "\n",
    "- sum\n",
    "\n",
    "- reversed\n",
    "\n",
    "- sorted \n",
    "\n",
    "- in\n",
    "\n",
    "- not in\n",
    "\n",
    "- index\n",
    "\n",
    "- for loop\n",
    "\n",
    "- mutable\n",
    "\n",
    "- slice \n",
    "\n",
    "- concatenation\n",
    "\n",
    "- Methods"
   ]
  },
  {
   "cell_type": "markdown",
   "id": "5068be9a-53c8-4f03-982f-edef97253a62",
   "metadata": {},
   "source": [
    "**concatenation**"
   ]
  },
  {
   "cell_type": "code",
   "execution_count": 5,
   "id": "7817fe49-029d-487d-9a4e-9ceeeeefbfec",
   "metadata": {},
   "outputs": [
    {
     "data": {
      "text/plain": [
       "[1, 2, 3, 4, 10, 20, 30, 40]"
      ]
     },
     "execution_count": 5,
     "metadata": {},
     "output_type": "execute_result"
    }
   ],
   "source": [
    "l1=[1,2,3,4]\n",
    "l2=[10,20,30,40]\n",
    "l1+l2"
   ]
  },
  {
   "cell_type": "code",
   "execution_count": null,
   "id": "bd5cc2c8-7cd9-4d42-a03f-3ac3d9ade51c",
   "metadata": {},
   "outputs": [],
   "source": [
    "l1-l2 # fail\n",
    "l1*l2 # fail\n",
    "l1/l2 # fail"
   ]
  },
  {
   "cell_type": "code",
   "execution_count": 6,
   "id": "4988003c-da5a-4bd1-81d8-dc1c36e7892b",
   "metadata": {},
   "outputs": [
    {
     "data": {
      "text/plain": [
       "[1, 2, 3, 4, 1, 2, 3, 4]"
      ]
     },
     "execution_count": 6,
     "metadata": {},
     "output_type": "execute_result"
    }
   ],
   "source": [
    "l1*2"
   ]
  },
  {
   "cell_type": "code",
   "execution_count": 7,
   "id": "e3e0859c-02e9-456c-86f4-1534f5e9aeca",
   "metadata": {},
   "outputs": [
    {
     "data": {
      "text/plain": [
       "'pythonpython'"
      ]
     },
     "execution_count": 7,
     "metadata": {},
     "output_type": "execute_result"
    }
   ],
   "source": [
    "s1='python'\n",
    "s1*2"
   ]
  },
  {
   "cell_type": "code",
   "execution_count": null,
   "id": "ad5c1344-f345-467a-9655-bce16e6457bc",
   "metadata": {},
   "outputs": [],
   "source": [
    "# l1=[1,2,3]\n",
    "# l2=[10,20,30]\n",
    "# o= [11,22,33]\n",
    "\n",
    "# l1=[1,2,3]\n",
    "# l2=[10,20,30,40]\n",
    "# o= [11,22,33,40]\n",
    "\n",
    "# # l1=[1,2,3,4]\n",
    "# l2=[10,20,30]\n",
    "# o= [11,22,33,4]"
   ]
  },
  {
   "cell_type": "markdown",
   "id": "b33f7f19-488a-4db5-84d2-3ca67df23466",
   "metadata": {},
   "source": [
    "**methods**"
   ]
  },
  {
   "cell_type": "code",
   "execution_count": 8,
   "id": "6901ee50-a8bb-4766-b0f5-38cab47f3575",
   "metadata": {},
   "outputs": [
    {
     "data": {
      "text/plain": [
       "['__add__',\n",
       " '__class__',\n",
       " '__class_getitem__',\n",
       " '__contains__',\n",
       " '__delattr__',\n",
       " '__delitem__',\n",
       " '__dir__',\n",
       " '__doc__',\n",
       " '__eq__',\n",
       " '__format__',\n",
       " '__ge__',\n",
       " '__getattribute__',\n",
       " '__getitem__',\n",
       " '__getstate__',\n",
       " '__gt__',\n",
       " '__hash__',\n",
       " '__iadd__',\n",
       " '__imul__',\n",
       " '__init__',\n",
       " '__init_subclass__',\n",
       " '__iter__',\n",
       " '__le__',\n",
       " '__len__',\n",
       " '__lt__',\n",
       " '__mul__',\n",
       " '__ne__',\n",
       " '__new__',\n",
       " '__reduce__',\n",
       " '__reduce_ex__',\n",
       " '__repr__',\n",
       " '__reversed__',\n",
       " '__rmul__',\n",
       " '__setattr__',\n",
       " '__setitem__',\n",
       " '__sizeof__',\n",
       " '__str__',\n",
       " '__subclasshook__',\n",
       " 'append',\n",
       " 'clear',\n",
       " 'copy',\n",
       " 'count',\n",
       " 'extend',\n",
       " 'index',\n",
       " 'insert',\n",
       " 'pop',\n",
       " 'remove',\n",
       " 'reverse',\n",
       " 'sort']"
      ]
     },
     "execution_count": 8,
     "metadata": {},
     "output_type": "execute_result"
    }
   ],
   "source": [
    "dir([])"
   ]
  },
  {
   "cell_type": "code",
   "execution_count": null,
   "id": "80934f19-86a8-465c-8a39-0f9bf495f0ed",
   "metadata": {},
   "outputs": [],
   "source": [
    "'append',\n",
    " 'clear',\n",
    " 'copy',\n",
    " 'count',\n",
    " 'extend',\n",
    " 'index',\n",
    " 'insert',\n",
    " 'pop',\n",
    " 'remove',\n",
    " 'reverse',\n",
    " 'sort'\n"
   ]
  },
  {
   "cell_type": "markdown",
   "id": "8e7f9324-5129-4c82-a843-e2fe10b0f218",
   "metadata": {},
   "source": [
    "**append**\n",
    "\n",
    "- append means adding a number at the end of the list\n",
    "\n",
    "- append is a very basic method we will use many times in our code\n",
    "\n",
    "- append will use mainly to store the result\n",
    "\n"
   ]
  },
  {
   "cell_type": "code",
   "execution_count": 9,
   "id": "c48b66e4-6cdd-4df8-b4f9-9c579c9aae33",
   "metadata": {},
   "outputs": [
    {
     "ename": "TypeError",
     "evalue": "list indices must be integers or slices, not str",
     "output_type": "error",
     "traceback": [
      "\u001b[1;31m---------------------------------------------------------------------------\u001b[0m",
      "\u001b[1;31mTypeError\u001b[0m                                 Traceback (most recent call last)",
      "Cell \u001b[1;32mIn[9], line 2\u001b[0m\n\u001b[0;32m      1\u001b[0m number\u001b[38;5;241m=\u001b[39m[\u001b[38;5;124m'\u001b[39m\u001b[38;5;124mone\u001b[39m\u001b[38;5;124m'\u001b[39m,\u001b[38;5;124m'\u001b[39m\u001b[38;5;124mtwo\u001b[39m\u001b[38;5;124m'\u001b[39m,\u001b[38;5;124m'\u001b[39m\u001b[38;5;124mthree\u001b[39m\u001b[38;5;124m'\u001b[39m,\u001b[38;5;124m'\u001b[39m\u001b[38;5;124mfour\u001b[39m\u001b[38;5;124m'\u001b[39m,\u001b[38;5;124m'\u001b[39m\u001b[38;5;124mfive\u001b[39m\u001b[38;5;124m'\u001b[39m]\n\u001b[1;32m----> 2\u001b[0m number[\u001b[38;5;124m'\u001b[39m\u001b[38;5;124mfour\u001b[39m\u001b[38;5;124m'\u001b[39m]\n",
      "\u001b[1;31mTypeError\u001b[0m: list indices must be integers or slices, not str"
     ]
    }
   ],
   "source": [
    "number=['one','two','three','four','five']\n",
    "number['four']"
   ]
  },
  {
   "cell_type": "code",
   "execution_count": 10,
   "id": "80eb0fbd-944c-4e83-a3c5-a20b6dc93670",
   "metadata": {},
   "outputs": [
    {
     "data": {
      "text/plain": [
       "'four'"
      ]
     },
     "execution_count": 10,
     "metadata": {},
     "output_type": "execute_result"
    }
   ],
   "source": [
    "number[3]"
   ]
  },
  {
   "cell_type": "code",
   "execution_count": 12,
   "id": "c9db2bd1-1d32-4b1d-ad96-59bca3f36c3b",
   "metadata": {},
   "outputs": [
    {
     "data": {
      "text/plain": [
       "[1, 2, 3, 4, 100]"
      ]
     },
     "execution_count": 12,
     "metadata": {},
     "output_type": "execute_result"
    }
   ],
   "source": [
    "l=[1,2,3,4]\n",
    "l.append(100)\n",
    "l"
   ]
  },
  {
   "cell_type": "code",
   "execution_count": 13,
   "id": "55690372-a294-49ea-b9f5-5cea46ed080c",
   "metadata": {},
   "outputs": [],
   "source": [
    "l=[1,2,3,4]"
   ]
  },
  {
   "cell_type": "code",
   "execution_count": 16,
   "id": "adfb79db-3d3e-4a09-abf7-c40086ce056f",
   "metadata": {},
   "outputs": [
    {
     "data": {
      "text/plain": [
       "[1, 2, 3, 4, 100, 100, 100]"
      ]
     },
     "execution_count": 16,
     "metadata": {},
     "output_type": "execute_result"
    }
   ],
   "source": [
    "l.append(100)\n",
    "l"
   ]
  },
  {
   "cell_type": "code",
   "execution_count": 19,
   "id": "39fe1ca4-2605-4bc0-8f74-7f7977616482",
   "metadata": {},
   "outputs": [
    {
     "data": {
      "text/plain": [
       "[10, 'apple']"
      ]
     },
     "execution_count": 19,
     "metadata": {},
     "output_type": "execute_result"
    }
   ],
   "source": [
    "l=[]\n",
    "l.append(10)\n",
    "l.append('apple')\n",
    "l"
   ]
  },
  {
   "cell_type": "code",
   "execution_count": 21,
   "id": "cb71a508-185a-4146-97cb-1370e9707d65",
   "metadata": {},
   "outputs": [
    {
     "data": {
      "text/plain": [
       "('', 'p')"
      ]
     },
     "execution_count": 21,
     "metadata": {},
     "output_type": "execute_result"
    }
   ],
   "source": [
    "s=''\n",
    "s1=s+'p'\n",
    "s,s1"
   ]
  },
  {
   "cell_type": "code",
   "execution_count": 23,
   "id": "530dd736-21bd-449f-9b7b-6502eac94b67",
   "metadata": {},
   "outputs": [],
   "source": [
    "# q1) wap ask the user print 1,5 numbers square\n",
    "#    save the result in a list\n",
    "l=[]\n",
    "for i in range(1,6):\n",
    "    l.append(i*i)"
   ]
  },
  {
   "cell_type": "code",
   "execution_count": 24,
   "id": "de8c35e5-29ae-4f2e-9e08-9d81ade76d51",
   "metadata": {},
   "outputs": [
    {
     "data": {
      "text/plain": [
       "[1, 4, 9, 16, 25]"
      ]
     },
     "execution_count": 24,
     "metadata": {},
     "output_type": "execute_result"
    }
   ],
   "source": [
    "l"
   ]
  },
  {
   "cell_type": "code",
   "execution_count": 27,
   "id": "6705275c-24b6-437e-a970-fcf094036316",
   "metadata": {},
   "outputs": [
    {
     "data": {
      "text/plain": [
       "['Hyd', 'Chennai']"
      ]
     },
     "execution_count": 27,
     "metadata": {},
     "output_type": "execute_result"
    }
   ],
   "source": [
    "# Q2) l=['Hyd','blr','Chennai','pune']\n",
    "# out=['Hyd','Chennai']\n",
    "\n",
    "# is title\n",
    "# Step-1: make one empty list\n",
    "# Step-2: Iterate each word from list\n",
    "# Step-3: apply is title method if condition\n",
    "# Step-3: if that condition is satisfy\n",
    "# Step-5: then append the result in empty list\n",
    "l=['Hyd','blr','Chennai','pune']\n",
    "out=[]\n",
    "for i in l:\n",
    "    if i.istitle():\n",
    "        out.append(i)\n",
    "\n",
    "out"
   ]
  },
  {
   "cell_type": "code",
   "execution_count": 29,
   "id": "9aec9bcb-caad-44e0-b6a2-311e7b103dcf",
   "metadata": {},
   "outputs": [
    {
     "data": {
      "text/plain": [
       "['HYD', 'PUNE']"
      ]
     },
     "execution_count": 29,
     "metadata": {},
     "output_type": "execute_result"
    }
   ],
   "source": [
    "# Q3) l=['HYD','blr','Chennai','PUNE']\n",
    "# out=['HYD','PUNE']\n",
    "l=['HYD','blr','Chennai','PUNE']\n",
    "out=[]\n",
    "for i in l:\n",
    "    if i.isupper():\n",
    "        out.append(i)\n",
    "\n",
    "out"
   ]
  },
  {
   "cell_type": "code",
   "execution_count": 30,
   "id": "05f006d8-9572-4e33-92e0-d911c1b28885",
   "metadata": {},
   "outputs": [
    {
     "data": {
      "text/plain": [
       "['bl#r', 'Che#nnai']"
      ]
     },
     "execution_count": 30,
     "metadata": {},
     "output_type": "execute_result"
    }
   ],
   "source": [
    "# Q4) l=['HYD','bl#r','Che#nnai','PUNE']\n",
    "# out=['bl#r','Che#nnai']\n",
    "l=['HYD','bl#r','Che#nnai','PUNE']\n",
    "out=[]\n",
    "for i in l:\n",
    "    if '#' in i:\n",
    "        out.append(i)\n",
    "\n",
    "out"
   ]
  },
  {
   "cell_type": "code",
   "execution_count": 31,
   "id": "4fc540b2-41d6-4972-855b-532ce61eda8b",
   "metadata": {},
   "outputs": [
    {
     "data": {
      "text/plain": [
       "['Chennai']"
      ]
     },
     "execution_count": 31,
     "metadata": {},
     "output_type": "execute_result"
    }
   ],
   "source": [
    "# Q5) l=['HYD','blr','Chennai','PUNE']\n",
    "# out=['Chennai']\n",
    "# >4\n",
    "l=['HYD','blr','Chennai','PUNE']\n",
    "out=[]\n",
    "for i in l:\n",
    "    if len(i)>4:\n",
    "        out.append(i)\n",
    "\n",
    "out"
   ]
  },
  {
   "cell_type": "code",
   "execution_count": null,
   "id": "c46fc2c5-7b17-4216-b6b6-79b86202c64b",
   "metadata": {},
   "outputs": [],
   "source": [
    "#Q6) can canner can not a can but canner can you make a can\n",
    "# find out the each word how many times repeated\n",
    "# step-1 : split it\n",
    "# step-2: iterate it\n",
    "# step-3: we have count method (count shoud not use)\n",
    "\n",
    "s='can canner can not a can but canner can you make a can'\n",
    "\n",
    "# try in a lab"
   ]
  },
  {
   "cell_type": "code",
   "execution_count": null,
   "id": "682a4f4a-e6b4-4690-8410-ca13993e53da",
   "metadata": {},
   "outputs": [],
   "source": [
    "# Q7) wap ask th user get the even odd numbers  \n",
    "#     you want 5 numbers\n",
    "#     5 numbers randomly\n",
    "#     evenlist and odd list\n",
    "#     append the even numbers in even list\n",
    "#     append the odd numbers in odd list\n",
    "import random\n",
    "even_list = []\n",
    "odd_list = []\n",
    "for i in range(5):\n",
    "    num = random.randint(1,100)\n",
    "    if num%2==0:\n",
    "        even_list.append(num)\n",
    "    else:\n",
    "        odd_list.append(num)\n",
    "print('even: ',even_list)\n",
    "print('odd:',odd_list)"
   ]
  },
  {
   "cell_type": "code",
   "execution_count": null,
   "id": "2945aa16-5a3a-488c-9567-eb03b7a75042",
   "metadata": {},
   "outputs": [],
   "source": [
    "'clear',\n",
    " 'copy',\n",
    " 'count',\n",
    " 'extend',\n",
    "    concatenation vs append  vs extend\n",
    " 'index',"
   ]
  },
  {
   "cell_type": "code",
   "execution_count": 32,
   "id": "a3e5425f-8a58-4733-be88-7539de853dc6",
   "metadata": {},
   "outputs": [
    {
     "data": {
      "text/plain": [
       "3"
      ]
     },
     "execution_count": 32,
     "metadata": {},
     "output_type": "execute_result"
    }
   ],
   "source": [
    "3*1**3"
   ]
  },
  {
   "cell_type": "code",
   "execution_count": 33,
   "id": "6dfe942d-9f64-43c6-af46-4aa2a749bfdc",
   "metadata": {},
   "outputs": [
    {
     "data": {
      "text/plain": [
       "1"
      ]
     },
     "execution_count": 33,
     "metadata": {},
     "output_type": "execute_result"
    }
   ],
   "source": [
    "1**3"
   ]
  },
  {
   "cell_type": "code",
   "execution_count": 35,
   "id": "83b9f195-e81e-4be9-9a4d-9dd9491dd1f2",
   "metadata": {},
   "outputs": [
    {
     "data": {
      "text/plain": [
       "'one'"
      ]
     },
     "execution_count": 35,
     "metadata": {},
     "output_type": "execute_result"
    }
   ],
   "source": [
    "number=['one','two','three','four','five']\n",
    "number[0]"
   ]
  },
  {
   "cell_type": "code",
   "execution_count": 37,
   "id": "f6148466-dd09-409c-948e-e511260ad5a5",
   "metadata": {},
   "outputs": [
    {
     "data": {
      "text/plain": [
       "['', 'ello ', 'ow are you']"
      ]
     },
     "execution_count": 37,
     "metadata": {},
     "output_type": "execute_result"
    }
   ],
   "source": [
    "s='hello how are you'\n",
    "s.split('h')"
   ]
  },
  {
   "cell_type": "code",
   "execution_count": 3,
   "id": "efb4d7c0-287d-4c66-9082-eb0fa3f6d6e3",
   "metadata": {},
   "outputs": [
    {
     "name": "stdout",
     "output_type": "stream",
     "text": [
      "can 1\n",
      "can 1\n",
      "can 2\n",
      "can 2\n",
      "can 2\n",
      "can 3\n",
      "can 3\n",
      "can 3\n",
      "can 4\n",
      "can 4\n",
      "can 4\n",
      "can 4\n",
      "can 5\n",
      "canner 0\n",
      "canner 1\n",
      "canner 1\n",
      "canner 1\n",
      "canner 1\n",
      "canner 1\n",
      "canner 1\n",
      "canner 2\n",
      "canner 2\n",
      "canner 2\n",
      "canner 2\n",
      "canner 2\n",
      "canner 2\n",
      "can 1\n",
      "can 1\n",
      "can 2\n",
      "can 2\n",
      "can 2\n",
      "can 3\n",
      "can 3\n",
      "can 3\n",
      "can 4\n",
      "can 4\n",
      "can 4\n",
      "can 4\n",
      "can 5\n",
      "not 0\n",
      "not 0\n",
      "not 0\n",
      "not 1\n",
      "not 1\n",
      "not 1\n",
      "not 1\n",
      "not 1\n",
      "not 1\n",
      "not 1\n",
      "not 1\n",
      "not 1\n",
      "not 1\n",
      "a 0\n",
      "a 0\n",
      "a 0\n",
      "a 0\n",
      "a 1\n",
      "a 1\n",
      "a 1\n",
      "a 1\n",
      "a 1\n",
      "a 1\n",
      "a 1\n",
      "a 2\n",
      "a 2\n",
      "can 1\n",
      "can 1\n",
      "can 2\n",
      "can 2\n",
      "can 2\n",
      "can 3\n",
      "can 3\n",
      "can 3\n",
      "can 4\n",
      "can 4\n",
      "can 4\n",
      "can 4\n",
      "can 5\n",
      "but 0\n",
      "but 0\n",
      "but 0\n",
      "but 0\n",
      "but 0\n",
      "but 0\n",
      "but 1\n",
      "but 1\n",
      "but 1\n",
      "but 1\n",
      "but 1\n",
      "but 1\n",
      "but 1\n",
      "canner 0\n",
      "canner 1\n",
      "canner 1\n",
      "canner 1\n",
      "canner 1\n",
      "canner 1\n",
      "canner 1\n",
      "canner 2\n",
      "canner 2\n",
      "canner 2\n",
      "canner 2\n",
      "canner 2\n",
      "canner 2\n",
      "can 1\n",
      "can 1\n",
      "can 2\n",
      "can 2\n",
      "can 2\n",
      "can 3\n",
      "can 3\n",
      "can 3\n",
      "can 4\n",
      "can 4\n",
      "can 4\n",
      "can 4\n",
      "can 5\n",
      "you 0\n",
      "you 0\n",
      "you 0\n",
      "you 0\n",
      "you 0\n",
      "you 0\n",
      "you 0\n",
      "you 0\n",
      "you 0\n",
      "you 1\n",
      "you 1\n",
      "you 1\n",
      "you 1\n",
      "make 0\n",
      "make 0\n",
      "make 0\n",
      "make 0\n",
      "make 0\n",
      "make 0\n",
      "make 0\n",
      "make 0\n",
      "make 0\n",
      "make 0\n",
      "make 1\n",
      "make 1\n",
      "make 1\n",
      "a 0\n",
      "a 0\n",
      "a 0\n",
      "a 0\n",
      "a 1\n",
      "a 1\n",
      "a 1\n",
      "a 1\n",
      "a 1\n",
      "a 1\n",
      "a 1\n",
      "a 2\n",
      "a 2\n",
      "can 1\n",
      "can 1\n",
      "can 2\n",
      "can 2\n",
      "can 2\n",
      "can 3\n",
      "can 3\n",
      "can 3\n",
      "can 4\n",
      "can 4\n",
      "can 4\n",
      "can 4\n",
      "can 5\n"
     ]
    }
   ],
   "source": [
    "s='can canner can not a can but canner can you make a can'\n",
    "l=s.split()\n",
    "for i in l:\n",
    "    count=0\n",
    "    for j in l:\n",
    "        if i==j:\n",
    "            count=count+1\n",
    "        print(i,count)"
   ]
  },
  {
   "cell_type": "code",
   "execution_count": 2,
   "id": "61274136-6350-475c-9ed2-6d0423a14e59",
   "metadata": {},
   "outputs": [
    {
     "name": "stdout",
     "output_type": "stream",
     "text": [
      "1 1\n",
      "1 2\n",
      "1 3\n",
      "2 1\n",
      "2 2\n",
      "2 3\n",
      "3 1\n",
      "3 2\n",
      "3 3\n"
     ]
    }
   ],
   "source": [
    "l=[1,2,3]\n",
    "for i in l:\n",
    "    for j in l:\n",
    "        print(i,j)"
   ]
  },
  {
   "cell_type": "code",
   "execution_count": null,
   "id": "c8037d3b-8ae2-4ae2-a89d-fa7e13931b1e",
   "metadata": {},
   "outputs": [],
   "source": [
    "l=['apple','cat','dog','ball']\n",
    "# sort it with out sort method\n",
    "\n",
    "l=[10,15,2,25,89]\n",
    "# find the maximum word find the minumum word\n",
    "\n",
    "l1=[1,2,3,4]\n",
    "l2=[10,20,30,40]\n",
    "out=[11,22,33,44]\n",
    "\n",
    "l1=[1,2,3,4,5]\n",
    "l2=[10,20,30,40]\n",
    "out=[11,22,33,44,5]\n",
    "\n",
    "s='hello how are you im good at python in naresh it'\n",
    "find the maximum length word\n",
    "find the minimum length word\n",
    "find the most repeated word"
   ]
  },
  {
   "cell_type": "markdown",
   "id": "9efc2c96-bc23-48da-90ea-e65d92c44719",
   "metadata": {},
   "source": [
    "**List comprehensions**"
   ]
  },
  {
   "cell_type": "code",
   "execution_count": null,
   "id": "86fe2b8c-d669-41ce-86e7-97624cdc8ab0",
   "metadata": {},
   "outputs": [],
   "source": [
    "# q1) wap ask the user print 1,5 numbers square\n",
    "#    save the result in a list\n",
    "l=[]\n",
    "for i in range(1,6):\n",
    "    l.append(i*i)\n",
    "\n"
   ]
  },
  {
   "cell_type": "markdown",
   "id": "145be811-adac-45e2-ace4-553648097313",
   "metadata": {},
   "source": [
    "$pattern-1$\n",
    "\n",
    "**Only for loop**\n",
    "\n",
    "# syntax\n",
    "l=[<output> <forloop>]"
   ]
  },
  {
   "cell_type": "code",
   "execution_count": 4,
   "id": "f09afcaf-ce8e-4b05-93e0-0bb7e8081d52",
   "metadata": {},
   "outputs": [],
   "source": [
    "# l=[]\n",
    "# for i in range(1,6):\n",
    "#     l.append(i*i)\n",
    "\n",
    "l1=[i*i for i in range(1,6)]"
   ]
  },
  {
   "cell_type": "code",
   "execution_count": 5,
   "id": "907fda20-0aee-4ffd-960e-20fea4130d1d",
   "metadata": {},
   "outputs": [
    {
     "data": {
      "text/plain": [
       "[1, 4, 9, 16, 25]"
      ]
     },
     "execution_count": 5,
     "metadata": {},
     "output_type": "execute_result"
    }
   ],
   "source": [
    "l1"
   ]
  },
  {
   "cell_type": "code",
   "execution_count": 6,
   "id": "42d6710d-5f12-49f6-8386-130b1dab0969",
   "metadata": {},
   "outputs": [
    {
     "data": {
      "text/plain": [
       "['hello', 'hello', 'hello', 'hello', 'hello']"
      ]
     },
     "execution_count": 6,
     "metadata": {},
     "output_type": "execute_result"
    }
   ],
   "source": [
    "# WAP ask the user say 5 times hello\n",
    "# save hello in a list \n",
    "# use list comprehension\n",
    "['hello' for i in range(5)]"
   ]
  },
  {
   "cell_type": "markdown",
   "id": "934cad79-c851-4bca-a27f-46560e82286f",
   "metadata": {},
   "source": [
    "**For loop with if condition**\n",
    "\n",
    "[<output> <for loop>  <if condition>]"
   ]
  },
  {
   "cell_type": "code",
   "execution_count": null,
   "id": "295b6c75-423b-4659-80ab-010bef269368",
   "metadata": {},
   "outputs": [],
   "source": [
    "# Q2) l=['Hyd','blr','Chennai','pune']\n",
    "# out=['Hyd','Chennai']\n",
    "\n",
    "# l=['Hyd','blr','Chennai','pune']\n",
    "# out=[]\n",
    "# for i in l:\n",
    "#     if i.istitle():\n",
    "#         out.append(i)\n",
    "\n",
    "# out\n",
    "\n",
    "# [<output> <for loop>  <if condition>]\n",
    "l=['Hyd','blr','Chennai','pune']\n",
    "out=[i for i in l if i.istitle()]"
   ]
  },
  {
   "cell_type": "markdown",
   "id": "094f1ea7-c40e-40af-a2a6-965cf706f337",
   "metadata": {},
   "source": [
    "- list comprehension will not use append\n",
    "\n",
    "- inside empty list only we are writing the code"
   ]
  },
  {
   "cell_type": "code",
   "execution_count": 7,
   "id": "62b6bd73-6e5d-479f-b9ae-3944ca3f9e13",
   "metadata": {},
   "outputs": [
    {
     "data": {
      "text/plain": [
       "['HYD', 'PUNE']"
      ]
     },
     "execution_count": 7,
     "metadata": {},
     "output_type": "execute_result"
    }
   ],
   "source": [
    "# Q3) l=['HYD','blr','Chennai','PUNE']\n",
    "# out=['HYD','PUNE']\n",
    "l=['HYD','blr','Chennai','PUNE']\n",
    "out=[i for i in l if i.isupper()]\n",
    "out"
   ]
  },
  {
   "cell_type": "code",
   "execution_count": 2,
   "id": "c6455299-1153-4bd5-b08d-3bffec48ed23",
   "metadata": {},
   "outputs": [
    {
     "data": {
      "text/plain": [
       "['bl#r', 'Che#nnai']"
      ]
     },
     "execution_count": 2,
     "metadata": {},
     "output_type": "execute_result"
    }
   ],
   "source": [
    "# Q4) l=['HYD','bl#r','Che#nnai','PUNE']\n",
    "# out=['bl#r','Che#nnai']\n",
    "l=['HYD','bl#r','Che#nnai','PUNE']\n",
    "out=[i for i in l if '#' in i]\n",
    "out"
   ]
  },
  {
   "cell_type": "markdown",
   "id": "0d10bad1-1480-4ee1-bead-a7c819fb2554",
   "metadata": {},
   "source": [
    "$pattern-3$\n",
    "\n",
    "**for-if-else**"
   ]
  },
  {
   "cell_type": "code",
   "execution_count": 11,
   "id": "9a5d750e-5d8d-4eeb-a47f-dde504f5a267",
   "metadata": {},
   "outputs": [
    {
     "data": {
      "text/plain": [
       "['odd 1',\n",
       " 'even 2',\n",
       " 'odd 3',\n",
       " 'even 4',\n",
       " 'odd 5',\n",
       " 'even 6',\n",
       " 'odd 7',\n",
       " 'even 8',\n",
       " 'odd 9',\n",
       " 'even 10']"
      ]
     },
     "execution_count": 11,
     "metadata": {},
     "output_type": "execute_result"
    }
   ],
   "source": [
    "# **for-if-else**\n",
    "# [<output> <for loop> ]\n",
    "# [<output> <for loop>  <if condition>]\n",
    "# [<if_output> <if condition> <else> <else_output> <forloop>]\n",
    "\n",
    "# out=[]\n",
    "# for i in range(1,11):\n",
    "#     if i%2==0:\n",
    "#         out.append(f\"even {i}\")\n",
    "#     else:\n",
    "#         out.append(f\"odd {i}\")\n",
    "# out\n",
    "\n",
    "[f\"even {i}\" if i%2==0 else f\"odd {i}\" for i in range(1,11)]"
   ]
  },
  {
   "cell_type": "code",
   "execution_count": 12,
   "id": "a86d2feb-9a29-4ebd-a14b-f47b6ac87f3c",
   "metadata": {},
   "outputs": [
    {
     "data": {
      "text/plain": [
       "['__add__',\n",
       " '__class__',\n",
       " '__class_getitem__',\n",
       " '__contains__',\n",
       " '__delattr__',\n",
       " '__delitem__',\n",
       " '__dir__',\n",
       " '__doc__',\n",
       " '__eq__',\n",
       " '__format__',\n",
       " '__ge__',\n",
       " '__getattribute__',\n",
       " '__getitem__',\n",
       " '__getstate__',\n",
       " '__gt__',\n",
       " '__hash__',\n",
       " '__iadd__',\n",
       " '__imul__',\n",
       " '__init__',\n",
       " '__init_subclass__',\n",
       " '__iter__',\n",
       " '__le__',\n",
       " '__len__',\n",
       " '__lt__',\n",
       " '__mul__',\n",
       " '__ne__',\n",
       " '__new__',\n",
       " '__reduce__',\n",
       " '__reduce_ex__',\n",
       " '__repr__',\n",
       " '__reversed__',\n",
       " '__rmul__',\n",
       " '__setattr__',\n",
       " '__setitem__',\n",
       " '__sizeof__',\n",
       " '__str__',\n",
       " '__subclasshook__',\n",
       " 'append',\n",
       " 'clear',\n",
       " 'copy',\n",
       " 'count',\n",
       " 'extend',\n",
       " 'index',\n",
       " 'insert',\n",
       " 'pop',\n",
       " 'remove',\n",
       " 'reverse',\n",
       " 'sort']"
      ]
     },
     "execution_count": 12,
     "metadata": {},
     "output_type": "execute_result"
    }
   ],
   "source": [
    "dir([])"
   ]
  },
  {
   "cell_type": "markdown",
   "id": "3b7f7656-b380-4169-ad5e-e0389f491760",
   "metadata": {},
   "source": [
    "$count$"
   ]
  },
  {
   "cell_type": "code",
   "execution_count": 13,
   "id": "5f4100f2-a15c-4d39-881d-429c0e364473",
   "metadata": {},
   "outputs": [
    {
     "data": {
      "text/plain": [
       "3"
      ]
     },
     "execution_count": 13,
     "metadata": {},
     "output_type": "execute_result"
    }
   ],
   "source": [
    "l=[10,10,10,100,200,300]\n",
    "l.count(10)"
   ]
  },
  {
   "cell_type": "markdown",
   "id": "d6d2f4d4-3dc9-4327-ae17-cd2f0427ee51",
   "metadata": {},
   "source": [
    "**unique vowels wrapper**"
   ]
  },
  {
   "cell_type": "code",
   "execution_count": 16,
   "id": "0f2e5706-1969-4d6f-8ff4-64538cc718dd",
   "metadata": {},
   "outputs": [
    {
     "name": "stdout",
     "output_type": "stream",
     "text": [
      "can 5\n",
      "canner 2\n",
      "not 1\n",
      "a 2\n",
      "but 1\n",
      "you 1\n",
      "make 1\n"
     ]
    }
   ],
   "source": [
    "s='can canner can not a can but canner can you make a can'\n",
    "l=s.split() # ['can','canner']\n",
    "l1=[]\n",
    "for i in l:\n",
    "    if i not in l1:\n",
    "        print(i,l.count(i))\n",
    "        l1.append(i)\n",
    "\n",
    "# step-1:  i='can'  if 'can' not in l1  True  print('can',5)  l1=['can']\n",
    "\n",
    "# step-3: i='can'  if 'can' not in l1   False"
   ]
  },
  {
   "cell_type": "markdown",
   "id": "3ea94946-614c-4e9f-8fc8-ea618048e2db",
   "metadata": {},
   "source": [
    "**Extend**"
   ]
  },
  {
   "cell_type": "code",
   "execution_count": 17,
   "id": "324ba856-18aa-475f-900b-ef33c1eaec32",
   "metadata": {},
   "outputs": [],
   "source": [
    "l1=[1,2,3]\n",
    "l2=['a','b','c']\n",
    "l1.extend(l2)"
   ]
  },
  {
   "cell_type": "code",
   "execution_count": 18,
   "id": "57efe707-64ea-4264-ab87-03eb56cbcc01",
   "metadata": {},
   "outputs": [
    {
     "data": {
      "text/plain": [
       "[1, 2, 3, 'a', 'b', 'c']"
      ]
     },
     "execution_count": 18,
     "metadata": {},
     "output_type": "execute_result"
    }
   ],
   "source": [
    "l1"
   ]
  },
  {
   "cell_type": "code",
   "execution_count": 19,
   "id": "b7ccee3a-4eda-45d6-9480-25cbb0e4a4fe",
   "metadata": {},
   "outputs": [
    {
     "data": {
      "text/plain": [
       "['a', 'b', 'c']"
      ]
     },
     "execution_count": 19,
     "metadata": {},
     "output_type": "execute_result"
    }
   ],
   "source": [
    "l2"
   ]
  },
  {
   "cell_type": "code",
   "execution_count": 20,
   "id": "a0c3c84b-e5f9-412c-9d3e-d979ca252d07",
   "metadata": {},
   "outputs": [
    {
     "data": {
      "text/plain": [
       "['a', 'b', 'c', 1, 2, 3]"
      ]
     },
     "execution_count": 20,
     "metadata": {},
     "output_type": "execute_result"
    }
   ],
   "source": [
    "l1=[1,2,3]\n",
    "l2=['a','b','c']\n",
    "l2.extend(l1)\n",
    "l2"
   ]
  },
  {
   "cell_type": "code",
   "execution_count": null,
   "id": "ce29c006-0b31-4026-b5aa-827ee0d31f37",
   "metadata": {},
   "outputs": [],
   "source": [
    "l1=[1,2,3]\n",
    "l2=['a','b','c']\n",
    "l1.extend(l2) # [1,2,3,a,b,c]\n",
    "l1.append(l2) # [1,2,3,[a,b,c]]\n",
    "l1+l2         # [1,2,3,a,b,c]"
   ]
  },
  {
   "cell_type": "code",
   "execution_count": 21,
   "id": "1065891c-ed7f-40fb-a8a5-a34fa9ebd5c9",
   "metadata": {},
   "outputs": [
    {
     "data": {
      "text/plain": [
       "[1, 2, 3, 'a', 'b', 'c']"
      ]
     },
     "execution_count": 21,
     "metadata": {},
     "output_type": "execute_result"
    }
   ],
   "source": [
    "l1=[1,2,3]\n",
    "l2=['a','b','c']\n",
    "l1+l2"
   ]
  },
  {
   "cell_type": "code",
   "execution_count": 22,
   "id": "f9a29427-342e-4de3-8c3c-29fbd19fbfe3",
   "metadata": {},
   "outputs": [
    {
     "data": {
      "text/plain": [
       "[1, 2, 3]"
      ]
     },
     "execution_count": 22,
     "metadata": {},
     "output_type": "execute_result"
    }
   ],
   "source": [
    "l1"
   ]
  },
  {
   "cell_type": "code",
   "execution_count": 23,
   "id": "b2d0c591-9768-415f-bc10-2ead918c7bc0",
   "metadata": {},
   "outputs": [
    {
     "data": {
      "text/plain": [
       "[1, 2, 3, 'a', 'b', 'c']"
      ]
     },
     "execution_count": 23,
     "metadata": {},
     "output_type": "execute_result"
    }
   ],
   "source": [
    "l1=[1,2,3]\n",
    "l2=['a','b','c']\n",
    "l1.extend(l2) \n",
    "l1"
   ]
  },
  {
   "cell_type": "markdown",
   "id": "df21b9fe-865a-4a5b-a189-c3227cdd7ae4",
   "metadata": {},
   "source": [
    "**difference between extend and concatenation**\n",
    "\n",
    "- extend will overwrite the output\n",
    "\n",
    "- concatenation will  same as it is"
   ]
  },
  {
   "cell_type": "code",
   "execution_count": 24,
   "id": "05bdace2-0cbd-481a-b7a1-6ae6d8f96197",
   "metadata": {},
   "outputs": [
    {
     "data": {
      "text/plain": [
       "['__add__',\n",
       " '__class__',\n",
       " '__class_getitem__',\n",
       " '__contains__',\n",
       " '__delattr__',\n",
       " '__delitem__',\n",
       " '__dir__',\n",
       " '__doc__',\n",
       " '__eq__',\n",
       " '__format__',\n",
       " '__ge__',\n",
       " '__getattribute__',\n",
       " '__getitem__',\n",
       " '__getstate__',\n",
       " '__gt__',\n",
       " '__hash__',\n",
       " '__iadd__',\n",
       " '__imul__',\n",
       " '__init__',\n",
       " '__init_subclass__',\n",
       " '__iter__',\n",
       " '__le__',\n",
       " '__len__',\n",
       " '__lt__',\n",
       " '__mul__',\n",
       " '__ne__',\n",
       " '__new__',\n",
       " '__reduce__',\n",
       " '__reduce_ex__',\n",
       " '__repr__',\n",
       " '__reversed__',\n",
       " '__rmul__',\n",
       " '__setattr__',\n",
       " '__setitem__',\n",
       " '__sizeof__',\n",
       " '__str__',\n",
       " '__subclasshook__',\n",
       " 'append',\n",
       " 'clear',\n",
       " 'copy',\n",
       " 'count',\n",
       " 'extend',\n",
       " 'index',\n",
       " 'insert',\n",
       " 'pop',\n",
       " 'remove',\n",
       " 'reverse',\n",
       " 'sort']"
      ]
     },
     "execution_count": 24,
     "metadata": {},
     "output_type": "execute_result"
    }
   ],
   "source": [
    "dir([])"
   ]
  },
  {
   "cell_type": "code",
   "execution_count": null,
   "id": "acc40c58-462f-4d07-92ff-f8e88bbe266d",
   "metadata": {},
   "outputs": [],
   "source": [
    "\n",
    "'insert',\n",
    "'pop',\n",
    "'remove'"
   ]
  },
  {
   "cell_type": "code",
   "execution_count": 26,
   "id": "b92fdd76-a345-4c80-80b9-f21e65e01580",
   "metadata": {},
   "outputs": [
    {
     "data": {
      "text/plain": [
       "[1, 2, 3, 4, 100]"
      ]
     },
     "execution_count": 26,
     "metadata": {},
     "output_type": "execute_result"
    }
   ],
   "source": [
    "l=[1,2,3,4]\n",
    "l.append(100)\n",
    "l"
   ]
  },
  {
   "cell_type": "code",
   "execution_count": 28,
   "id": "667812c6-b925-42d4-afce-7b53e94277d5",
   "metadata": {},
   "outputs": [
    {
     "data": {
      "text/plain": [
       "[1, 2, 3, 100, 4]"
      ]
     },
     "execution_count": 28,
     "metadata": {},
     "output_type": "execute_result"
    }
   ],
   "source": [
    "l=[1,2,3,4]\n",
    "l.insert(3,100)\n",
    "l\n",
    "\n",
    "# at second index i want insert 100"
   ]
  },
  {
   "cell_type": "code",
   "execution_count": null,
   "id": "6c3ed4b8-3479-4ef0-9061-ebf3f4f2c749",
   "metadata": {},
   "outputs": [],
   "source": [
    "# concatenation\n",
    "# extend\n",
    "# append\n",
    "# insert"
   ]
  },
  {
   "cell_type": "code",
   "execution_count": 34,
   "id": "36381971-672b-4da5-a2a6-613ae58540e2",
   "metadata": {},
   "outputs": [
    {
     "data": {
      "text/plain": [
       "[1, 4, 7, 10, 13, 16, 19]"
      ]
     },
     "execution_count": 34,
     "metadata": {},
     "output_type": "execute_result"
    }
   ],
   "source": [
    "l=[i for i in range(1,20,3)]\n",
    "l.insert(4,'apple')"
   ]
  },
  {
   "cell_type": "code",
   "execution_count": 33,
   "id": "1a168487-bbb1-4d3e-b268-4dea3ae43844",
   "metadata": {},
   "outputs": [
    {
     "data": {
      "text/plain": [
       "[1, 4, 7, 10, 'apple', 13, 16, 19]"
      ]
     },
     "execution_count": 33,
     "metadata": {},
     "output_type": "execute_result"
    }
   ],
   "source": [
    "l=[i for i in range(1,20,3)]\n",
    "l\n",
    "\n",
    "# i want inseert 'apple' after 10\n",
    "# after 10 means index=4\n",
    "# we should not count it\n",
    "# automatically the index value should come\n",
    "index=l.index(10)\n",
    "l.insert(index+1,'apple')\n",
    "l"
   ]
  },
  {
   "cell_type": "code",
   "execution_count": 31,
   "id": "c7b99a5e-0640-4961-85c7-77edb646dbc3",
   "metadata": {},
   "outputs": [
    {
     "data": {
      "text/plain": [
       "3"
      ]
     },
     "execution_count": 31,
     "metadata": {},
     "output_type": "execute_result"
    }
   ],
   "source": [
    "l.index(10)"
   ]
  },
  {
   "cell_type": "markdown",
   "id": "1eca1854-dd3d-4d93-963b-fc10d5832a97",
   "metadata": {},
   "source": [
    "**pop-remove**"
   ]
  },
  {
   "cell_type": "code",
   "execution_count": 36,
   "id": "7d92b4e0-15fb-499b-bbf8-4f14a9a73d0c",
   "metadata": {},
   "outputs": [
    {
     "data": {
      "text/plain": [
       "['apple', 'ball', 'cat', 10, 20]"
      ]
     },
     "execution_count": 36,
     "metadata": {},
     "output_type": "execute_result"
    }
   ],
   "source": [
    "l=['apple','ball','cat',10,20,'Dog']\n",
    "l.pop()\n",
    "l"
   ]
  },
  {
   "cell_type": "markdown",
   "id": "411eff7e-3bd3-4871-a940-45121e130182",
   "metadata": {},
   "source": [
    "- pop will remove the last value\n",
    "\n",
    "- inside pop we have index argument\n",
    "\n",
    "- by default index=-1  , -1 means last value\n",
    "\n",
    "- pop will remove the value , the output will overwrite\n",
    "\n",
    "- pop also return the item value, which it is removing"
   ]
  },
  {
   "cell_type": "code",
   "execution_count": 41,
   "id": "b29851de-5c7a-47a8-a3ce-19ea491a6210",
   "metadata": {},
   "outputs": [
    {
     "name": "stdout",
     "output_type": "stream",
     "text": [
      "2\n"
     ]
    },
    {
     "data": {
      "text/plain": [
       "[1, 2, 4]"
      ]
     },
     "execution_count": 41,
     "metadata": {},
     "output_type": "execute_result"
    }
   ],
   "source": [
    "l=[1,2,30,4]\n",
    "id=l.index(30)\n",
    "print(id)\n",
    "l.pop(2)\n",
    "l"
   ]
  },
  {
   "cell_type": "code",
   "execution_count": 37,
   "id": "677a1d62-f618-4f1c-8548-f3a832ae78b9",
   "metadata": {},
   "outputs": [
    {
     "data": {
      "text/plain": [
       "['apple', 'ball', 10, 20, 'Dog']"
      ]
     },
     "execution_count": 37,
     "metadata": {},
     "output_type": "execute_result"
    }
   ],
   "source": [
    "l=['apple','ball','cat',10,20,'Dog']\n",
    "l.pop(2)\n",
    "l"
   ]
  },
  {
   "cell_type": "code",
   "execution_count": 38,
   "id": "4c9d6d80-94ba-4aee-ab06-a520f38dc95e",
   "metadata": {},
   "outputs": [
    {
     "data": {
      "text/plain": [
       "['apple', 'ball', 10, 20, 'Dog']"
      ]
     },
     "execution_count": 38,
     "metadata": {},
     "output_type": "execute_result"
    }
   ],
   "source": [
    "l=['apple','ball','cat',10,20,'Dog']\n",
    "id=l.index('cat')\n",
    "l.pop(id)\n",
    "l"
   ]
  },
  {
   "cell_type": "code",
   "execution_count": null,
   "id": "bf2b9057-535e-4e5b-83c2-3c4ef5b969ab",
   "metadata": {},
   "outputs": [],
   "source": [
    "l=['apple','ball','cat',10,20,'Dog']\n",
    "l.pop()\n",
    "l\n",
    "\n",
    "l=['apple','ball','cat',10,20,'Dog']\n",
    "l.pop(2)\n",
    "l\n",
    "\n",
    "l=['apple','ball','cat',10,20,'Dog']\n",
    "id=l.index('cat')\n",
    "l.pop(id)\n",
    "l"
   ]
  },
  {
   "cell_type": "markdown",
   "id": "db8739fa-b313-4810-8529-95fd67d8c0c3",
   "metadata": {},
   "source": [
    "**Remove**"
   ]
  },
  {
   "cell_type": "code",
   "execution_count": 43,
   "id": "8cbbedd8-42e6-487f-92e1-8fe6b38554cb",
   "metadata": {},
   "outputs": [
    {
     "data": {
      "text/plain": [
       "['ball', 'cat', 10, 20, 'Dog', 'apple']"
      ]
     },
     "execution_count": 43,
     "metadata": {},
     "output_type": "execute_result"
    }
   ],
   "source": [
    "l=['apple','ball','cat',10,20,'Dog','apple']\n",
    "l.remove('apple')\n",
    "l"
   ]
  },
  {
   "cell_type": "markdown",
   "id": "87b8583c-d26d-40d9-8fc3-5c545d28b527",
   "metadata": {},
   "source": [
    "- remove will take the direct item name\n",
    "\n",
    "- pop will take only the index\n",
    "\n",
    "- both raise the error"
   ]
  },
  {
   "cell_type": "code",
   "execution_count": null,
   "id": "b0e6f398-d2bc-44d0-8e34-b78b3717a87e",
   "metadata": {},
   "outputs": [],
   "source": [
    "- append\n",
    "\n",
    "- extend\n",
    "\n",
    "- insert\n",
    "\n",
    "- clear /copy\n",
    "\n",
    "- pop/remove\n",
    "\n",
    "- sort/reverse\n",
    "\n",
    "- index\n",
    "\n",
    "- count"
   ]
  },
  {
   "cell_type": "markdown",
   "id": "4d24ecdd-497d-4388-834a-8467730a42a4",
   "metadata": {},
   "source": [
    "**sorted-sort**"
   ]
  },
  {
   "cell_type": "code",
   "execution_count": 2,
   "id": "cd3b98d7-536a-4d9a-944a-6bb07d06e298",
   "metadata": {},
   "outputs": [
    {
     "data": {
      "text/plain": [
       "[2, 3, 4, 10]"
      ]
     },
     "execution_count": 2,
     "metadata": {},
     "output_type": "execute_result"
    }
   ],
   "source": [
    "sorted([10,2,3,4])"
   ]
  },
  {
   "cell_type": "code",
   "execution_count": null,
   "id": "8e600f1e-5c51-4a23-883d-75053f708525",
   "metadata": {},
   "outputs": [],
   "source": [
    "[10,2,3,4].sort()"
   ]
  },
  {
   "cell_type": "code",
   "execution_count": 3,
   "id": "c9de4cad-9b26-4358-ba1a-8231d214627b",
   "metadata": {},
   "outputs": [
    {
     "data": {
      "text/plain": [
       "<list_reverseiterator at 0x2bbbd9de1d0>"
      ]
     },
     "execution_count": 3,
     "metadata": {},
     "output_type": "execute_result"
    }
   ],
   "source": [
    "reversed([1,2,3,4])"
   ]
  },
  {
   "cell_type": "code",
   "execution_count": null,
   "id": "cc33187d-76e1-4824-b475-4f1f77509745",
   "metadata": {},
   "outputs": [],
   "source": [
    "[1,2,3,4].reverse()"
   ]
  },
  {
   "cell_type": "code",
   "execution_count": 6,
   "id": "d51913dd-a48f-4d2b-be96-fa1016441396",
   "metadata": {},
   "outputs": [],
   "source": [
    "va=[11,2,3,4].reverse()\n",
    "va"
   ]
  },
  {
   "cell_type": "code",
   "execution_count": null,
   "id": "5d73f482-07ff-4e26-b571-19e418b61745",
   "metadata": {},
   "outputs": [],
   "source": [
    "print()\n",
    "eval()\n",
    "input()\n",
    "max()\n",
    "min()\n",
    "len()\n",
    "type()\n",
    "sorted()\n",
    "reveresd()"
   ]
  },
  {
   "cell_type": "code",
   "execution_count": 7,
   "id": "c50e5354-deb1-43ba-9d4d-30516e958ef6",
   "metadata": {},
   "outputs": [
    {
     "data": {
      "text/plain": [
       "['__add__',\n",
       " '__class__',\n",
       " '__class_getitem__',\n",
       " '__contains__',\n",
       " '__delattr__',\n",
       " '__delitem__',\n",
       " '__dir__',\n",
       " '__doc__',\n",
       " '__eq__',\n",
       " '__format__',\n",
       " '__ge__',\n",
       " '__getattribute__',\n",
       " '__getitem__',\n",
       " '__getstate__',\n",
       " '__gt__',\n",
       " '__hash__',\n",
       " '__iadd__',\n",
       " '__imul__',\n",
       " '__init__',\n",
       " '__init_subclass__',\n",
       " '__iter__',\n",
       " '__le__',\n",
       " '__len__',\n",
       " '__lt__',\n",
       " '__mul__',\n",
       " '__ne__',\n",
       " '__new__',\n",
       " '__reduce__',\n",
       " '__reduce_ex__',\n",
       " '__repr__',\n",
       " '__reversed__',\n",
       " '__rmul__',\n",
       " '__setattr__',\n",
       " '__setitem__',\n",
       " '__sizeof__',\n",
       " '__str__',\n",
       " '__subclasshook__',\n",
       " 'append',\n",
       " 'clear',\n",
       " 'copy',\n",
       " 'count',\n",
       " 'extend',\n",
       " 'index',\n",
       " 'insert',\n",
       " 'pop',\n",
       " 'remove',\n",
       " 'reverse',\n",
       " 'sort']"
      ]
     },
     "execution_count": 7,
     "metadata": {},
     "output_type": "execute_result"
    }
   ],
   "source": [
    "dir([])"
   ]
  },
  {
   "cell_type": "code",
   "execution_count": 9,
   "id": "b6f54808-4daa-4e2e-b1d8-600d4b86e705",
   "metadata": {},
   "outputs": [
    {
     "data": {
      "text/plain": [
       "[4, 3, 2, 1]"
      ]
     },
     "execution_count": 9,
     "metadata": {},
     "output_type": "execute_result"
    }
   ],
   "source": [
    "l=[1,2,3,4]\n",
    "l.reverse()\n",
    "l\n"
   ]
  },
  {
   "cell_type": "code",
   "execution_count": 10,
   "id": "60485bb7-5f76-4dc2-a462-0a6da860b513",
   "metadata": {},
   "outputs": [],
   "source": [
    "[1,2,3,4].reverse()"
   ]
  },
  {
   "cell_type": "code",
   "execution_count": 12,
   "id": "c04fe929-6f24-41f1-b85c-df9144b667d8",
   "metadata": {},
   "outputs": [
    {
     "data": {
      "text/plain": [
       "[2, 4, 10, 40]"
      ]
     },
     "execution_count": 12,
     "metadata": {},
     "output_type": "execute_result"
    }
   ],
   "source": [
    "l=[10,2,4,40]\n",
    "# sort is a method\n",
    "# sorted is a keyword\n",
    "l.sort()\n",
    "l"
   ]
  },
  {
   "cell_type": "code",
   "execution_count": 13,
   "id": "985c8b5c-6e4e-4e5e-9e68-9c5bcc3cc337",
   "metadata": {},
   "outputs": [
    {
     "data": {
      "text/plain": [
       "[2, 4, 10, 40]"
      ]
     },
     "execution_count": 13,
     "metadata": {},
     "output_type": "execute_result"
    }
   ],
   "source": [
    "sorted(l)"
   ]
  },
  {
   "cell_type": "code",
   "execution_count": null,
   "id": "7051c45b-2e7a-4c80-9f12-07cffd911c94",
   "metadata": {},
   "outputs": [],
   "source": [
    "sorted\n",
    "reversed\n",
    "\n",
    "sort/ reverse: overwriting"
   ]
  },
  {
   "cell_type": "code",
   "execution_count": null,
   "id": "23ba604d-2ce4-4b6d-bbce-908ee00f4f9f",
   "metadata": {},
   "outputs": [],
   "source": [
    "l=[1,2,3,4]\n",
    "l.split()"
   ]
  },
  {
   "cell_type": "markdown",
   "id": "b52ba237-2ad6-45f8-8f32-28c6abc6b2c4",
   "metadata": {},
   "source": [
    "- keywords are generic\n",
    "\n",
    "- sorted and reversed keyword can use for strings and lists\n",
    "\n",
    "- every data type has its own methods\n",
    "\n",
    "- whenever you work on which data type you need to work on those methods only"
   ]
  },
  {
   "cell_type": "markdown",
   "id": "c358e5a6-32d5-40f2-819d-9bcdbe6a8f7a",
   "metadata": {},
   "source": [
    "**del**"
   ]
  },
  {
   "cell_type": "code",
   "execution_count": 15,
   "id": "9719c60d-9d92-42d9-881e-43b55fd84824",
   "metadata": {},
   "outputs": [
    {
     "data": {
      "text/plain": [
       "[2, 3, 4]"
      ]
     },
     "execution_count": 15,
     "metadata": {},
     "output_type": "execute_result"
    }
   ],
   "source": [
    "l=[1,2,3,4]\n",
    "del(l[0])\n",
    "l"
   ]
  },
  {
   "cell_type": "code",
   "execution_count": 17,
   "id": "1d0c6070-1085-4214-b2fc-3da176f19af7",
   "metadata": {},
   "outputs": [],
   "source": [
    "l=[1,2,3,4]\n",
    "del(l)\n"
   ]
  },
  {
   "cell_type": "code",
   "execution_count": 18,
   "id": "a0e5b534-033f-423e-be96-582e9dba46e7",
   "metadata": {},
   "outputs": [
    {
     "ename": "NameError",
     "evalue": "name 'l' is not defined",
     "output_type": "error",
     "traceback": [
      "\u001b[1;31m---------------------------------------------------------------------------\u001b[0m",
      "\u001b[1;31mNameError\u001b[0m                                 Traceback (most recent call last)",
      "Cell \u001b[1;32mIn[18], line 1\u001b[0m\n\u001b[1;32m----> 1\u001b[0m l\n",
      "\u001b[1;31mNameError\u001b[0m: name 'l' is not defined"
     ]
    }
   ],
   "source": [
    "l"
   ]
  },
  {
   "cell_type": "markdown",
   "id": "b4f51d42-58d6-4163-ac16-d95f9ff50107",
   "metadata": {},
   "source": [
    "**zip**"
   ]
  },
  {
   "cell_type": "code",
   "execution_count": 19,
   "id": "ac235d2a-a711-4e39-bbb2-b130ba8d8065",
   "metadata": {},
   "outputs": [
    {
     "data": {
      "text/plain": [
       "[11, 14, 16]"
      ]
     },
     "execution_count": 19,
     "metadata": {},
     "output_type": "execute_result"
    }
   ],
   "source": [
    "l1=[1,2,3]\n",
    "l2=[10,12,13]\n",
    "#out=[11,14,16]\n",
    "out=[]\n",
    "for i in range(len(l1)):\n",
    "    out.append(l1[i]+l2[i])\n",
    "out\n",
    "\n",
    "# step-1: i=0  l1[0]+l2[0]  1+10=11"
   ]
  },
  {
   "cell_type": "code",
   "execution_count": 25,
   "id": "d254d457-8800-4093-96e7-e9d21aa36bf0",
   "metadata": {},
   "outputs": [
    {
     "data": {
      "text/plain": [
       "[11, 14, 16]"
      ]
     },
     "execution_count": 25,
     "metadata": {},
     "output_type": "execute_result"
    }
   ],
   "source": [
    "l1=[1,2,3]\n",
    "l2=[10,12,13]\n",
    "# apply the zip\n",
    "# zip is a iterator\n",
    "# get the for loop\n",
    "# two values we zipped\n",
    "# we need two varaibles\n",
    "# for i,j in zip(l1,l2):\n",
    "#     print(i+j)\n",
    "\n",
    "out=[i+j for i,j in zip(l1,l2)]\n",
    "out"
   ]
  },
  {
   "cell_type": "code",
   "execution_count": null,
   "id": "3f5e2dc7-5a11-4c55-936c-303e403b53bd",
   "metadata": {},
   "outputs": [],
   "source": [
    "############# Part-1################\n",
    "1) How to display\n",
    "2) types\n",
    "3) len\n",
    "4) max\n",
    "5) min\n",
    "6) sum\n",
    "7) reversed\n",
    "8) sorted\n",
    "9) in\n",
    "10) not in\n",
    "11) index\n",
    "12) for\n",
    "13) mutable\n",
    "14) slice\n",
    "15) concatenation\n",
    "\n",
    "\n",
    "########## Part-2 ###########\n",
    "Methods"
   ]
  },
  {
   "cell_type": "code",
   "execution_count": 26,
   "id": "535111f3-36bb-4a11-a9d2-617bd9ebbf24",
   "metadata": {},
   "outputs": [
    {
     "data": {
      "text/plain": [
       "tuple"
      ]
     },
     "execution_count": 26,
     "metadata": {},
     "output_type": "execute_result"
    }
   ],
   "source": [
    "# tuple\n",
    "l=(1,2)\n",
    "type(l)"
   ]
  },
  {
   "cell_type": "code",
   "execution_count": 27,
   "id": "9f70f3d0-beda-4590-b3b2-53d1a5766b96",
   "metadata": {},
   "outputs": [
    {
     "data": {
      "text/plain": [
       "['__add__',\n",
       " '__class__',\n",
       " '__class_getitem__',\n",
       " '__contains__',\n",
       " '__delattr__',\n",
       " '__dir__',\n",
       " '__doc__',\n",
       " '__eq__',\n",
       " '__format__',\n",
       " '__ge__',\n",
       " '__getattribute__',\n",
       " '__getitem__',\n",
       " '__getnewargs__',\n",
       " '__getstate__',\n",
       " '__gt__',\n",
       " '__hash__',\n",
       " '__init__',\n",
       " '__init_subclass__',\n",
       " '__iter__',\n",
       " '__le__',\n",
       " '__len__',\n",
       " '__lt__',\n",
       " '__mul__',\n",
       " '__ne__',\n",
       " '__new__',\n",
       " '__reduce__',\n",
       " '__reduce_ex__',\n",
       " '__repr__',\n",
       " '__rmul__',\n",
       " '__setattr__',\n",
       " '__sizeof__',\n",
       " '__str__',\n",
       " '__subclasshook__',\n",
       " 'count',\n",
       " 'index']"
      ]
     },
     "execution_count": 27,
     "metadata": {},
     "output_type": "execute_result"
    }
   ],
   "source": [
    "dir(l)"
   ]
  },
  {
   "cell_type": "code",
   "execution_count": 28,
   "id": "b503ef44-0324-422e-a794-2c306ae1a41c",
   "metadata": {},
   "outputs": [
    {
     "data": {
      "text/plain": [
       "3"
      ]
     },
     "execution_count": 28,
     "metadata": {},
     "output_type": "execute_result"
    }
   ],
   "source": [
    "t=(1,2,3,4,4,4)\n",
    "t.count(4)"
   ]
  },
  {
   "cell_type": "code",
   "execution_count": null,
   "id": "dc2ddbb1-cda0-471c-9841-75ca306bcda9",
   "metadata": {},
   "outputs": [],
   "source": []
  }
 ],
 "metadata": {
  "kernelspec": {
   "display_name": "Python 3 (ipykernel)",
   "language": "python",
   "name": "python3"
  },
  "language_info": {
   "codemirror_mode": {
    "name": "ipython",
    "version": 3
   },
   "file_extension": ".py",
   "mimetype": "text/x-python",
   "name": "python",
   "nbconvert_exporter": "python",
   "pygments_lexer": "ipython3",
   "version": "3.11.7"
  }
 },
 "nbformat": 4,
 "nbformat_minor": 5
}
