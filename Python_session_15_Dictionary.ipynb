{
 "cells": [
  {
   "cell_type": "markdown",
   "id": "73b54c0e-01c8-4bb0-b6a9-97c8af39e391",
   "metadata": {},
   "source": [
    "**Dictionary**\n",
    "\n",
    "- Dictionary is represents with curly braces\n",
    "\n",
    "- strings using quotes\n",
    "\n",
    "- list using square brackets\n",
    "\n",
    "- type using parnathses\n",
    "\n",
    "- Dictionary is alway a pair key and value"
   ]
  },
  {
   "cell_type": "code",
   "execution_count": 1,
   "id": "e23372d6-d521-4fb4-8cfb-3414f88ddb86",
   "metadata": {},
   "outputs": [
    {
     "name": "stdout",
     "output_type": "stream",
     "text": [
      "the Manish age is 25\n",
      "the Shubam age is 20\n",
      "the Govindh age is 15\n"
     ]
    }
   ],
   "source": [
    "name=['Manish','Shubam','Govindh']\n",
    "age=[25,20,15]\n",
    "for i,j in zip(name,age):\n",
    "    print(f\"the {i} age is {j}\")"
   ]
  },
  {
   "cell_type": "code",
   "execution_count": 2,
   "id": "afe873d3-f374-4494-86a9-88539a9da5dd",
   "metadata": {},
   "outputs": [
    {
     "data": {
      "text/plain": [
       "{'Manish': 25, 'Shubam': 20, 'Govindh': 15}"
      ]
     },
     "execution_count": 2,
     "metadata": {},
     "output_type": "execute_result"
    }
   ],
   "source": [
    "#{<key>:<value>}\n",
    "dict1={'Manish':25,'Shubam':20,'Govindh':15}\n",
    "dict1"
   ]
  },
  {
   "cell_type": "code",
   "execution_count": null,
   "id": "2eab5e6a-96c8-4f9a-8cea-fe52d7cba20f",
   "metadata": {},
   "outputs": [],
   "source": [
    "# keys are : 'Manish','Shubam','Govindh'\n",
    "# value are : 25,20,25\n",
    "# Manish and 25 together"
   ]
  },
  {
   "cell_type": "code",
   "execution_count": 3,
   "id": "80a31154-b770-4510-b12d-bba917c078d3",
   "metadata": {},
   "outputs": [
    {
     "data": {
      "text/plain": [
       "dict"
      ]
     },
     "execution_count": 3,
     "metadata": {},
     "output_type": "execute_result"
    }
   ],
   "source": [
    "type(dict1)"
   ]
  },
  {
   "cell_type": "code",
   "execution_count": null,
   "id": "cf134694-95e7-49ba-9cf3-6aa4625d45aa",
   "metadata": {},
   "outputs": [],
   "source": [
    "Quotes for 25??"
   ]
  },
  {
   "cell_type": "code",
   "execution_count": null,
   "id": "94a3bad7-e8e4-437d-8a2e-4009ca5e0382",
   "metadata": {},
   "outputs": [],
   "source": [
    "d1={'Manish':25,'Shubam':20,'Govindh':15}\n",
    "d2={'Manish':'25','Shubam':'20','Govindh':'15'} \n",
    "d3={25:'Manish',20:'Shubam',15:'Govindh'} \n",
    "d4={25:50} \n",
    "d5={'Fruites':['Apple','Cherry']} \n",
    "d6={['Apple','Cherry']:'Fruites'} \n",
    "d7={'Ajay':25,'Ajay':30}\n",
    "d8={25:'Ajay',30:'Ajay'} \n"
   ]
  },
  {
   "cell_type": "code",
   "execution_count": 4,
   "id": "d0e44c1f-64b5-457f-a314-49a5ead663cb",
   "metadata": {},
   "outputs": [
    {
     "data": {
      "text/plain": [
       "{'Manish': 25, 'Shubam': 20, 'Govindh': 15}"
      ]
     },
     "execution_count": 4,
     "metadata": {},
     "output_type": "execute_result"
    }
   ],
   "source": [
    "d1={'Manish':25,'Shubam':20,'Govindh':15}\n",
    "d1"
   ]
  },
  {
   "cell_type": "code",
   "execution_count": 5,
   "id": "ebbe840e-f0a2-4c4a-9714-5ec6798730b2",
   "metadata": {},
   "outputs": [
    {
     "data": {
      "text/plain": [
       "{'Manish': '25', 'Shubam': '20', 'Govindh': '15'}"
      ]
     },
     "execution_count": 5,
     "metadata": {},
     "output_type": "execute_result"
    }
   ],
   "source": [
    "d2={'Manish':'25','Shubam':'20','Govindh':'15'}\n",
    "d2"
   ]
  },
  {
   "cell_type": "code",
   "execution_count": 6,
   "id": "5edf774f-fcb8-48aa-959b-6312e6a6264d",
   "metadata": {},
   "outputs": [
    {
     "data": {
      "text/plain": [
       "{25: 'Manish', 20: 'Shubam', 15: 'Govindh'}"
      ]
     },
     "execution_count": 6,
     "metadata": {},
     "output_type": "execute_result"
    }
   ],
   "source": [
    "d3={25:'Manish',20:'Shubam',15:'Govindh'}\n",
    "d3\n"
   ]
  },
  {
   "cell_type": "code",
   "execution_count": 7,
   "id": "48329d2a-c275-467c-a236-3d299e3201ca",
   "metadata": {},
   "outputs": [
    {
     "data": {
      "text/plain": [
       "{25: 50}"
      ]
     },
     "execution_count": 7,
     "metadata": {},
     "output_type": "execute_result"
    }
   ],
   "source": [
    "d4={25:50} \n",
    "d4"
   ]
  },
  {
   "cell_type": "code",
   "execution_count": 8,
   "id": "a4932c03-e47c-49dc-aa16-ff637b18387e",
   "metadata": {},
   "outputs": [
    {
     "data": {
      "text/plain": [
       "{'Fruites': ['Apple', 'Cherry']}"
      ]
     },
     "execution_count": 8,
     "metadata": {},
     "output_type": "execute_result"
    }
   ],
   "source": [
    "d5={'Fruites':['Apple','Cherry']} \n",
    "d5"
   ]
  },
  {
   "cell_type": "code",
   "execution_count": 9,
   "id": "c2574021-a068-4191-abc9-a4f3b7c1f61f",
   "metadata": {},
   "outputs": [
    {
     "ename": "TypeError",
     "evalue": "unhashable type: 'list'",
     "output_type": "error",
     "traceback": [
      "\u001b[1;31m---------------------------------------------------------------------------\u001b[0m",
      "\u001b[1;31mTypeError\u001b[0m                                 Traceback (most recent call last)",
      "Cell \u001b[1;32mIn[9], line 1\u001b[0m\n\u001b[1;32m----> 1\u001b[0m d6\u001b[38;5;241m=\u001b[39m{[\u001b[38;5;124m'\u001b[39m\u001b[38;5;124mApple\u001b[39m\u001b[38;5;124m'\u001b[39m,\u001b[38;5;124m'\u001b[39m\u001b[38;5;124mCherry\u001b[39m\u001b[38;5;124m'\u001b[39m]:\u001b[38;5;124m'\u001b[39m\u001b[38;5;124mFruites\u001b[39m\u001b[38;5;124m'\u001b[39m}\n\u001b[0;32m      2\u001b[0m d6\n",
      "\u001b[1;31mTypeError\u001b[0m: unhashable type: 'list'"
     ]
    }
   ],
   "source": [
    "d6={['Apple','Cherry']:'Fruites'}\n",
    "d6"
   ]
  },
  {
   "cell_type": "code",
   "execution_count": 10,
   "id": "55eb0165-e27d-4c00-abb3-f2fcbf470552",
   "metadata": {},
   "outputs": [
    {
     "data": {
      "text/plain": [
       "{('Apple', 'Cherry'): 'Fruites'}"
      ]
     },
     "execution_count": 10,
     "metadata": {},
     "output_type": "execute_result"
    }
   ],
   "source": [
    "d7={('Apple','Cherry'):'Fruites'}\n",
    "d7"
   ]
  },
  {
   "cell_type": "code",
   "execution_count": 11,
   "id": "463c33a9-c360-4670-80d3-e70212650a0b",
   "metadata": {},
   "outputs": [
    {
     "data": {
      "text/plain": [
       "{'Ajay': 30}"
      ]
     },
     "execution_count": 11,
     "metadata": {},
     "output_type": "execute_result"
    }
   ],
   "source": [
    "d7={'Ajay':25,'Ajay':30}\n",
    "d7"
   ]
  },
  {
   "cell_type": "code",
   "execution_count": 12,
   "id": "f12f3032-dcc4-4652-90a4-31594f9e968a",
   "metadata": {},
   "outputs": [
    {
     "data": {
      "text/plain": [
       "{25: 'Ajay', 30: 'Ajay'}"
      ]
     },
     "execution_count": 12,
     "metadata": {},
     "output_type": "execute_result"
    }
   ],
   "source": [
    "d8={25:'Ajay',30:'Ajay'} \n",
    "d8"
   ]
  },
  {
   "cell_type": "code",
   "execution_count": 13,
   "id": "96779d7a-8153-4499-88d4-cd988d7e4027",
   "metadata": {},
   "outputs": [
    {
     "data": {
      "text/plain": [
       "{25: 'Ajay', 30: {'Fruites': ['Apple']}}"
      ]
     },
     "execution_count": 13,
     "metadata": {},
     "output_type": "execute_result"
    }
   ],
   "source": [
    "d9={25:'Ajay',30:\n",
    "    {'Fruites':['Apple']}\n",
    "   } \n",
    "d9"
   ]
  },
  {
   "cell_type": "markdown",
   "id": "8a32fed6-86d5-4373-b38d-7338010c753e",
   "metadata": {},
   "source": [
    "- **keys are important**\n",
    "\n",
    "- Keys have only latest value\n",
    "\n",
    "- No duplicate keys\n",
    "\n",
    "- Keys should be only one \n",
    "\n",
    "- Values can be duplicate \n",
    "\n",
    "- which means different keys can have same value\n",
    "\n",
    "- List can not be a key\n",
    "\n",
    "- tuple can be a key"
   ]
  },
  {
   "cell_type": "code",
   "execution_count": null,
   "id": "1c5907dc-4c06-4eb0-b6e9-a9105c7c4b05",
   "metadata": {},
   "outputs": [],
   "source": [
    "- min\n",
    "\n",
    "- max\n",
    "\n",
    "- len\n",
    "\n",
    "- sorted\n",
    "\n",
    "- reveresd"
   ]
  },
  {
   "cell_type": "code",
   "execution_count": null,
   "id": "b665f40c-8014-4f90-ac60-cc6afd38ee46",
   "metadata": {},
   "outputs": [],
   "source": [
    "from sklearn.pre import "
   ]
  },
  {
   "cell_type": "code",
   "execution_count": 14,
   "id": "d69d2b3e-27f4-4547-a54e-25a198abadc0",
   "metadata": {},
   "outputs": [
    {
     "data": {
      "text/plain": [
       "['BPF',\n",
       " 'LOG4',\n",
       " 'NV_MAGICCONST',\n",
       " 'RECIP_BPF',\n",
       " 'Random',\n",
       " 'SG_MAGICCONST',\n",
       " 'SystemRandom',\n",
       " 'TWOPI',\n",
       " '_ONE',\n",
       " '_Sequence',\n",
       " '_Set',\n",
       " '__all__',\n",
       " '__builtins__',\n",
       " '__cached__',\n",
       " '__doc__',\n",
       " '__file__',\n",
       " '__loader__',\n",
       " '__name__',\n",
       " '__package__',\n",
       " '__spec__',\n",
       " '_accumulate',\n",
       " '_acos',\n",
       " '_bisect',\n",
       " '_ceil',\n",
       " '_cos',\n",
       " '_e',\n",
       " '_exp',\n",
       " '_floor',\n",
       " '_index',\n",
       " '_inst',\n",
       " '_isfinite',\n",
       " '_log',\n",
       " '_os',\n",
       " '_pi',\n",
       " '_random',\n",
       " '_repeat',\n",
       " '_sha512',\n",
       " '_sin',\n",
       " '_sqrt',\n",
       " '_test',\n",
       " '_test_generator',\n",
       " '_urandom',\n",
       " '_warn',\n",
       " 'betavariate',\n",
       " 'choice',\n",
       " 'choices',\n",
       " 'expovariate',\n",
       " 'gammavariate',\n",
       " 'gauss',\n",
       " 'getrandbits',\n",
       " 'getstate',\n",
       " 'lognormvariate',\n",
       " 'normalvariate',\n",
       " 'paretovariate',\n",
       " 'randbytes',\n",
       " 'randint',\n",
       " 'random',\n",
       " 'randrange',\n",
       " 'sample',\n",
       " 'seed',\n",
       " 'setstate',\n",
       " 'shuffle',\n",
       " 'triangular',\n",
       " 'uniform',\n",
       " 'vonmisesvariate',\n",
       " 'weibullvariate']"
      ]
     },
     "execution_count": 14,
     "metadata": {},
     "output_type": "execute_result"
    }
   ],
   "source": [
    "import random\n",
    "dir(random)"
   ]
  },
  {
   "cell_type": "markdown",
   "id": "31ac7423-9ac2-4644-9938-7b0c610a5c8d",
   "metadata": {},
   "source": [
    "**indexing**"
   ]
  },
  {
   "cell_type": "code",
   "execution_count": 1,
   "id": "336a2afa-0d0c-4321-93a5-ef877da4053f",
   "metadata": {},
   "outputs": [
    {
     "ename": "KeyError",
     "evalue": "0",
     "output_type": "error",
     "traceback": [
      "\u001b[1;31m---------------------------------------------------------------------------\u001b[0m",
      "\u001b[1;31mKeyError\u001b[0m                                  Traceback (most recent call last)",
      "Cell \u001b[1;32mIn[1], line 2\u001b[0m\n\u001b[0;32m      1\u001b[0m d1\u001b[38;5;241m=\u001b[39m{\u001b[38;5;124m'\u001b[39m\u001b[38;5;124mManish\u001b[39m\u001b[38;5;124m'\u001b[39m:\u001b[38;5;241m25\u001b[39m,\u001b[38;5;124m'\u001b[39m\u001b[38;5;124mShubam\u001b[39m\u001b[38;5;124m'\u001b[39m:\u001b[38;5;241m20\u001b[39m,\u001b[38;5;124m'\u001b[39m\u001b[38;5;124mGovindh\u001b[39m\u001b[38;5;124m'\u001b[39m:\u001b[38;5;241m15\u001b[39m}\n\u001b[1;32m----> 2\u001b[0m d1[\u001b[38;5;241m0\u001b[39m]\n",
      "\u001b[1;31mKeyError\u001b[0m: 0"
     ]
    }
   ],
   "source": [
    "d1={'Manish':25,'Shubam':20,'Govindh':15}\n",
    "d1[0]"
   ]
  },
  {
   "cell_type": "code",
   "execution_count": 2,
   "id": "9c1d39ae-c297-4ea6-a81c-aae569d575b1",
   "metadata": {},
   "outputs": [
    {
     "data": {
      "text/plain": [
       "25"
      ]
     },
     "execution_count": 2,
     "metadata": {},
     "output_type": "execute_result"
    }
   ],
   "source": [
    "d1={'Manish':25,'Shubam':20,'Govindh':15}\n",
    "d1['Manish']"
   ]
  },
  {
   "cell_type": "markdown",
   "id": "8672ef84-32c8-4d60-a552-9419f25ed1ca",
   "metadata": {},
   "source": [
    "**Keys are important**\n",
    "\n",
    "- Dictionary is a **key-value** pair\n",
    "\n",
    "- There is no concept of index as numbers\n",
    "\n",
    "- If you want to retrive any value , we need to provide key as index\n",
    "\n",
    "- we can access values using only corresponding **keys**"
   ]
  },
  {
   "cell_type": "code",
   "execution_count": 3,
   "id": "98778e91-3a26-49c2-8f20-18a433396f89",
   "metadata": {},
   "outputs": [
    {
     "name": "stdout",
     "output_type": "stream",
     "text": [
      "25\n",
      "20\n",
      "15\n"
     ]
    }
   ],
   "source": [
    "d1={'Manish':25,'Shubam':20,'Govindh':15}\n",
    "print(d1['Manish'])\n",
    "print(d1['Shubam'])\n",
    "print(d1['Govindh'])\n",
    "\n",
    "print(d1[i])"
   ]
  },
  {
   "cell_type": "code",
   "execution_count": 6,
   "id": "3d252a61-d14c-4905-b2e6-8a170adee862",
   "metadata": {},
   "outputs": [
    {
     "name": "stdout",
     "output_type": "stream",
     "text": [
      "Manish 25\n",
      "Shubam 20\n",
      "Govindh 15\n"
     ]
    }
   ],
   "source": [
    "for i in d1:\n",
    "    print(i,d1[i])"
   ]
  },
  {
   "cell_type": "code",
   "execution_count": 7,
   "id": "7adb067d-99ef-453d-89f8-09e0069a16c7",
   "metadata": {},
   "outputs": [
    {
     "name": "stdout",
     "output_type": "stream",
     "text": [
      "Manish age is 25\n",
      "Shubam age is 20\n",
      "Govindh age is 15\n"
     ]
    }
   ],
   "source": [
    "for i in d1:\n",
    "    print(f\"{i} age is {d1[i]}\")"
   ]
  },
  {
   "cell_type": "code",
   "execution_count": 9,
   "id": "331c712b-c2cb-49de-8abc-387b363e6105",
   "metadata": {},
   "outputs": [
    {
     "data": {
      "text/plain": [
       "'Apple'"
      ]
     },
     "execution_count": 9,
     "metadata": {},
     "output_type": "execute_result"
    }
   ],
   "source": [
    "# How to access elements\n",
    "d1={'Fruites':['Apple']}\n",
    "d1['Fruites'][0]"
   ]
  },
  {
   "cell_type": "code",
   "execution_count": 10,
   "id": "31bff208-e832-410b-9d77-48d9bb346008",
   "metadata": {},
   "outputs": [
    {
     "data": {
      "text/plain": [
       "{'Fruites': {'Apple': ['Kashmir']}}"
      ]
     },
     "execution_count": 10,
     "metadata": {},
     "output_type": "execute_result"
    }
   ],
   "source": [
    "d1={'Fruites':{\"Apple\":['Kashmir']}}\n",
    "d1"
   ]
  },
  {
   "cell_type": "code",
   "execution_count": 13,
   "id": "ac77133c-bc95-4ba2-b734-d0a45d44d800",
   "metadata": {},
   "outputs": [
    {
     "data": {
      "text/plain": [
       "1"
      ]
     },
     "execution_count": 13,
     "metadata": {},
     "output_type": "execute_result"
    }
   ],
   "source": [
    "len(d1)"
   ]
  },
  {
   "cell_type": "code",
   "execution_count": 16,
   "id": "3beca033-dfe7-47c3-9128-f9a3d2bdc0a1",
   "metadata": {},
   "outputs": [
    {
     "data": {
      "text/plain": [
       "'Kashmir'"
      ]
     },
     "execution_count": 16,
     "metadata": {},
     "output_type": "execute_result"
    }
   ],
   "source": [
    "d1['Fruites']['Apple'][0]"
   ]
  },
  {
   "cell_type": "code",
   "execution_count": 17,
   "id": "50b70288-8904-4352-aa45-d8cc2aecbbb8",
   "metadata": {},
   "outputs": [
    {
     "data": {
      "text/plain": [
       "{'Fruites': {'Apple': [{'Kashmir': 'india'}, {'Hyd': 'TS'}]}}"
      ]
     },
     "execution_count": 17,
     "metadata": {},
     "output_type": "execute_result"
    }
   ],
   "source": [
    "d1={'Fruites':{\"Apple\":[\n",
    "                     {'Kashmir':'india'},\n",
    "                     {'Hyd':'TS'}\n",
    "                     ]\n",
    "               }\n",
    "   }\n",
    "d1"
   ]
  },
  {
   "cell_type": "code",
   "execution_count": 23,
   "id": "7216b0d7-dcfe-4b0e-bba8-d679a83aff14",
   "metadata": {},
   "outputs": [
    {
     "data": {
      "text/plain": [
       "'india'"
      ]
     },
     "execution_count": 23,
     "metadata": {},
     "output_type": "execute_result"
    }
   ],
   "source": [
    "d1['Fruites']['Apple'][0]['Kashmir']"
   ]
  },
  {
   "cell_type": "code",
   "execution_count": 25,
   "id": "474e39ae-0818-415a-b3a1-d6b911c36df1",
   "metadata": {},
   "outputs": [
    {
     "data": {
      "text/plain": [
       "'TS'"
      ]
     },
     "execution_count": 25,
     "metadata": {},
     "output_type": "execute_result"
    }
   ],
   "source": [
    "d1['Fruites']['Apple'][1]['Hyd']"
   ]
  },
  {
   "cell_type": "code",
   "execution_count": 27,
   "id": "1a6d1b32-812b-478e-b439-4c26661765ab",
   "metadata": {},
   "outputs": [
    {
     "data": {
      "text/plain": [
       "{'Fruites': {'Mango': {'Benganpalli': {'Nagpur market': {'MH': {'Shivaji': 'the boss'}}}}}}"
      ]
     },
     "execution_count": 27,
     "metadata": {},
     "output_type": "execute_result"
    }
   ],
   "source": [
    "d1={'Fruites':{'Mango':{'Benganpalli':{'Nagpur market':{'MH':{'Shivaji':'the boss'}}}}}}\n",
    "d1"
   ]
  },
  {
   "cell_type": "code",
   "execution_count": 33,
   "id": "0c11db9c-7c59-4a91-9bec-6aa9eff54133",
   "metadata": {},
   "outputs": [
    {
     "data": {
      "text/plain": [
       "'the boss'"
      ]
     },
     "execution_count": 33,
     "metadata": {},
     "output_type": "execute_result"
    }
   ],
   "source": [
    "d1['Fruites']['Mango']['Benganpalli']['Nagpur market']['MH']['Shivaji']"
   ]
  },
  {
   "cell_type": "code",
   "execution_count": 34,
   "id": "71674a83-464e-4d5e-8509-d75db31ae6de",
   "metadata": {},
   "outputs": [
    {
     "data": {
      "text/plain": [
       "1"
      ]
     },
     "execution_count": 34,
     "metadata": {},
     "output_type": "execute_result"
    }
   ],
   "source": [
    "len(d1)"
   ]
  },
  {
   "cell_type": "markdown",
   "id": "af7b1b3f-674a-4650-88c7-47ef739528d1",
   "metadata": {},
   "source": [
    "**How to create empty dictionary**\n",
    "\n",
    "- it is very important to know how to make empty list\n",
    "\n",
    "- how to make empty string\n",
    "\n",
    "- how to make empty dictionary"
   ]
  },
  {
   "cell_type": "code",
   "execution_count": 35,
   "id": "b806612c-297e-4968-9cd1-cd7e7f23026f",
   "metadata": {},
   "outputs": [
    {
     "data": {
      "text/plain": [
       "'python'"
      ]
     },
     "execution_count": 35,
     "metadata": {},
     "output_type": "execute_result"
    }
   ],
   "source": [
    "str1='python'\n",
    "str2=''\n",
    "for i in str1:\n",
    "    str2=str2+i      # str2+=i\n",
    "str2"
   ]
  },
  {
   "cell_type": "code",
   "execution_count": 36,
   "id": "c1f75d72-c64d-4d35-87d0-9f91897c3845",
   "metadata": {},
   "outputs": [
    {
     "data": {
      "text/plain": [
       "[1, 2, 3, 4]"
      ]
     },
     "execution_count": 36,
     "metadata": {},
     "output_type": "execute_result"
    }
   ],
   "source": [
    "l1=[1,2,3,4]\n",
    "l2=[]\n",
    "for i in l1:\n",
    "    l2.append(i)\n",
    "\n",
    "l2"
   ]
  },
  {
   "cell_type": "code",
   "execution_count": 40,
   "id": "435ad7a1-5ef2-42d7-8adb-dae042ceb876",
   "metadata": {},
   "outputs": [
    {
     "data": {
      "text/plain": [
       "{'Ramesh': 50, 'Suresh': 100, 'Sathish': 150, 'Manish': 200}"
      ]
     },
     "execution_count": 40,
     "metadata": {},
     "output_type": "execute_result"
    }
   ],
   "source": [
    "d={}\n",
    "d['Ramesh']=50\n",
    "d['Suresh']=100\n",
    "d['Sathish']=150\n",
    "d['Manish']=200\n",
    "d"
   ]
  },
  {
   "cell_type": "markdown",
   "id": "08178626-c532-41e5-99b6-26619ff23ff6",
   "metadata": {},
   "source": [
    "**Convert string to list**"
   ]
  },
  {
   "cell_type": "code",
   "execution_count": 42,
   "id": "6b9873c3-6a25-426b-9810-00ff33616a93",
   "metadata": {},
   "outputs": [
    {
     "data": {
      "text/plain": [
       "['hai', 'how', 'are', 'you']"
      ]
     },
     "execution_count": 42,
     "metadata": {},
     "output_type": "execute_result"
    }
   ],
   "source": [
    "# split: convert string to list\n",
    "str1='hai how are you'\n",
    "l=str1.split()\n",
    "l"
   ]
  },
  {
   "cell_type": "markdown",
   "id": "875136e8-d89a-43b2-9cc6-d5fc0fdf4e89",
   "metadata": {},
   "source": [
    "**join: convert list to string**"
   ]
  },
  {
   "cell_type": "code",
   "execution_count": 49,
   "id": "d5bdcdd6-0113-4ac9-9c51-fb69047ec8f1",
   "metadata": {},
   "outputs": [
    {
     "data": {
      "text/plain": [
       "'hai how are you'"
      ]
     },
     "execution_count": 49,
     "metadata": {},
     "output_type": "execute_result"
    }
   ],
   "source": [
    "l=['hai', 'how', 'are', 'you']\n",
    "new_str=' '.join(l)\n",
    "new_str"
   ]
  },
  {
   "cell_type": "markdown",
   "id": "a3ca9f36-2a9e-420c-847d-b367bd03f20c",
   "metadata": {},
   "source": [
    "**we have two lists to convert into dictonary**"
   ]
  },
  {
   "cell_type": "code",
   "execution_count": 51,
   "id": "78f4137b-dd11-477b-bd8d-85c6ab8f0bc1",
   "metadata": {},
   "outputs": [
    {
     "data": {
      "text/plain": [
       "{'Ramesh': 25, 'Suresh': 30, 'Manish': 35}"
      ]
     },
     "execution_count": 51,
     "metadata": {},
     "output_type": "execute_result"
    }
   ],
   "source": [
    "name=['Ramesh','Suresh','Manish']\n",
    "age=[25,30,35]\n",
    "d={}\n",
    "for i,j in zip(name,age):\n",
    "    d[i]=j\n",
    "\n",
    "d"
   ]
  },
  {
   "cell_type": "markdown",
   "id": "2453a591-0427-47ca-8703-5250d57293a2",
   "metadata": {},
   "source": [
    "**Methods**"
   ]
  },
  {
   "cell_type": "code",
   "execution_count": 54,
   "id": "ce2aca2d-3a75-4698-84f9-d59fd7dec651",
   "metadata": {},
   "outputs": [],
   "source": [
    "#dir('') # string\n",
    "#dir([]) # list\n",
    "#dir({}) # dict\n",
    "#dir(()) # tuple"
   ]
  },
  {
   "cell_type": "code",
   "execution_count": 55,
   "id": "a3c1f725-3578-4ebe-bda1-0076656b95f8",
   "metadata": {},
   "outputs": [
    {
     "data": {
      "text/plain": [
       "['__class__',\n",
       " '__class_getitem__',\n",
       " '__contains__',\n",
       " '__delattr__',\n",
       " '__delitem__',\n",
       " '__dir__',\n",
       " '__doc__',\n",
       " '__eq__',\n",
       " '__format__',\n",
       " '__ge__',\n",
       " '__getattribute__',\n",
       " '__getitem__',\n",
       " '__getstate__',\n",
       " '__gt__',\n",
       " '__hash__',\n",
       " '__init__',\n",
       " '__init_subclass__',\n",
       " '__ior__',\n",
       " '__iter__',\n",
       " '__le__',\n",
       " '__len__',\n",
       " '__lt__',\n",
       " '__ne__',\n",
       " '__new__',\n",
       " '__or__',\n",
       " '__reduce__',\n",
       " '__reduce_ex__',\n",
       " '__repr__',\n",
       " '__reversed__',\n",
       " '__ror__',\n",
       " '__setattr__',\n",
       " '__setitem__',\n",
       " '__sizeof__',\n",
       " '__str__',\n",
       " '__subclasshook__',\n",
       " 'clear',\n",
       " 'copy',\n",
       " 'fromkeys',\n",
       " 'get',\n",
       " 'items',\n",
       " 'keys',\n",
       " 'pop',\n",
       " 'popitem',\n",
       " 'setdefault',\n",
       " 'update',\n",
       " 'values']"
      ]
     },
     "execution_count": 55,
     "metadata": {},
     "output_type": "execute_result"
    }
   ],
   "source": [
    "dir({})"
   ]
  },
  {
   "cell_type": "markdown",
   "id": "0b1585e1-6d91-43ea-a852-2c9d4287bd27",
   "metadata": {},
   "source": [
    "**items-keys-values**"
   ]
  },
  {
   "cell_type": "markdown",
   "id": "352c4d14-0017-4a22-bdcb-a989a61c855d",
   "metadata": {},
   "source": [
    "- items means both keys and values come together\n",
    "\n",
    "- keys means only dictionary keys\n",
    "\n",
    "- values means only dictionary values"
   ]
  },
  {
   "cell_type": "code",
   "execution_count": 59,
   "id": "89f23f53-78da-4f1b-b876-51ac9bc379fa",
   "metadata": {},
   "outputs": [
    {
     "data": {
      "text/plain": [
       "dict_items([('Ramesh', 50), ('Suresh', 100), ('Sathish', 150), ('Manish', 200)])"
      ]
     },
     "execution_count": 59,
     "metadata": {},
     "output_type": "execute_result"
    }
   ],
   "source": [
    "d={'Ramesh': 50, 'Suresh': 100, 'Sathish': 150, 'Manish': 200}\n",
    "it=d.items()\n",
    "it"
   ]
  },
  {
   "cell_type": "code",
   "execution_count": 60,
   "id": "f1a52c50-3e70-4069-ac0c-643018502ae2",
   "metadata": {},
   "outputs": [
    {
     "data": {
      "text/plain": [
       "dict_items"
      ]
     },
     "execution_count": 60,
     "metadata": {},
     "output_type": "execute_result"
    }
   ],
   "source": [
    "type(it)"
   ]
  },
  {
   "cell_type": "code",
   "execution_count": 62,
   "id": "5beba224-49ad-4fb1-92d0-a421e683861a",
   "metadata": {},
   "outputs": [],
   "source": [
    "items_list=list(it)"
   ]
  },
  {
   "cell_type": "code",
   "execution_count": null,
   "id": "37edd742-f196-40f5-91aa-81e7e09d83cb",
   "metadata": {},
   "outputs": [],
   "source": [
    "int()\n",
    "float()\n",
    "str()\n",
    "list()"
   ]
  },
  {
   "cell_type": "code",
   "execution_count": 63,
   "id": "efa306f0-a7e3-4bfb-a2dc-f9ffcc027068",
   "metadata": {},
   "outputs": [
    {
     "data": {
      "text/plain": [
       "[('Ramesh', 50), ('Suresh', 100), ('Sathish', 150), ('Manish', 200)]"
      ]
     },
     "execution_count": 63,
     "metadata": {},
     "output_type": "execute_result"
    }
   ],
   "source": [
    "items_list"
   ]
  },
  {
   "cell_type": "code",
   "execution_count": 68,
   "id": "bdeed657-ffbf-47fa-b32a-56b96acc22b7",
   "metadata": {},
   "outputs": [
    {
     "data": {
      "text/plain": [
       "['Ramesh', 'Suresh', 'Sathish', 'Manish']"
      ]
     },
     "execution_count": 68,
     "metadata": {},
     "output_type": "execute_result"
    }
   ],
   "source": [
    "name=[]\n",
    "age=[]\n",
    "for i in items_list:\n",
    "    name.append(i[0])\n",
    "    age.append(i[1])\n",
    "name"
   ]
  },
  {
   "cell_type": "markdown",
   "id": "6b5b7090-998b-4e55-bc68-fca8e592d943",
   "metadata": {},
   "source": [
    "**Create a list using items**"
   ]
  },
  {
   "cell_type": "code",
   "execution_count": null,
   "id": "9fc202a6-9e86-4440-a512-3c8245bd5d92",
   "metadata": {},
   "outputs": [],
   "source": [
    "d={'Ramesh': 50, 'Suresh': 100, 'Sathish': 150, 'Manish': 200}\n",
    "it=d.items() # items\n",
    "items_list=list(it) # list type\n",
    "name=[]\n",
    "age=[]\n",
    "for i in items_list:\n",
    "    name.append(i[0])\n",
    "    age.append(i[1])\n",
    "name"
   ]
  },
  {
   "cell_type": "code",
   "execution_count": 74,
   "id": "8d86dc87-e7f6-4280-9968-8cc2b5df6910",
   "metadata": {},
   "outputs": [
    {
     "data": {
      "text/plain": [
       "'0123456789'"
      ]
     },
     "execution_count": 74,
     "metadata": {},
     "output_type": "execute_result"
    }
   ],
   "source": [
    "import string\n",
    "dir(string)\n",
    "string.ascii_lowercase\n",
    "\n",
    "# step-1: create lowercase letters list using string package\n",
    "# step-2: create a digits list 1 to 26\n",
    "# step-3: create a dictionary {'a':1,'b':2,....'z':26}\n",
    "# step-4: enter a string: hai\n",
    "# step-5: output:  8-1-9"
   ]
  },
  {
   "cell_type": "code",
   "execution_count": null,
   "id": "210ea233-4106-4d76-b7e0-1fc01299c968",
   "metadata": {},
   "outputs": [],
   "source": [
    "# Methods of the dictionary"
   ]
  }
 ],
 "metadata": {
  "kernelspec": {
   "display_name": "Python 3 (ipykernel)",
   "language": "python",
   "name": "python3"
  },
  "language_info": {
   "codemirror_mode": {
    "name": "ipython",
    "version": 3
   },
   "file_extension": ".py",
   "mimetype": "text/x-python",
   "name": "python",
   "nbconvert_exporter": "python",
   "pygments_lexer": "ipython3",
   "version": "3.11.7"
  }
 },
 "nbformat": 4,
 "nbformat_minor": 5
}
