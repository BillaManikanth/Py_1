{
 "cells": [
  {
   "cell_type": "code",
   "execution_count": 1,
   "id": "5c9a18cd-6987-473f-8d84-483bcbba23fb",
   "metadata": {},
   "outputs": [],
   "source": [
    "num=100"
   ]
  },
  {
   "cell_type": "markdown",
   "id": "b782db74-fb09-4e58-80f1-35c32a43a080",
   "metadata": {},
   "source": [
    "**type**"
   ]
  },
  {
   "cell_type": "code",
   "execution_count": 3,
   "id": "93e2a92f-266b-4fcf-9694-8c5420ac7528",
   "metadata": {},
   "outputs": [
    {
     "data": {
      "text/plain": [
       "int"
      ]
     },
     "execution_count": 3,
     "metadata": {},
     "output_type": "execute_result"
    }
   ],
   "source": [
    "type(num)"
   ]
  },
  {
   "cell_type": "markdown",
   "id": "995790a3-ac26-438f-9fc2-e06c0ecbd492",
   "metadata": {},
   "source": [
    "- integer\n",
    "\n",
    "- float\n",
    "\n",
    "- string\n",
    "\n",
    "- Boolean\n",
    "\n",
    "- complex\n",
    "\n",
    "- list\n",
    "\n",
    "- tuple\n",
    "\n",
    "- dictionary\n",
    "\n",
    "- set"
   ]
  },
  {
   "cell_type": "code",
   "execution_count": null,
   "id": "530ff578-53fd-4dce-8b6f-3a1da164f921",
   "metadata": {},
   "outputs": [],
   "source": [
    "# Python basic concepts- Part1\n",
    "\n",
    "- Variables\n",
    "\n",
    "- Data types\n",
    "\n",
    "- Data types conversion (type casting)\n",
    "\n",
    "- print statements\n",
    "\n",
    "- overview about packages\n",
    "\n",
    "- Write your first end to end program\n",
    "\n",
    "- Conditions (if-else)\n",
    "\n",
    "- Functions \n",
    "\n",
    "- loops (for-while)\n",
    "\n",
    "\n",
    "# Python part-2\n",
    "\n",
    "- strings \n",
    "\n",
    "- list\n",
    "\n",
    "- dictionary\n",
    "\n",
    "- tuple (assesment)\n",
    "\n",
    "- sets\n",
    "\n",
    "- file handling\n",
    "\n",
    "- lambda functions\n",
    "\n",
    "\n",
    "# Python part-3: OOPS concepts\n",
    "\n"
   ]
  },
  {
   "cell_type": "markdown",
   "id": "3070b3bc-7351-400b-bb91-66925f21892f",
   "metadata": {},
   "source": [
    "**Integer**\n",
    "\n",
    "- In real time we will use decimal number system\n",
    "\n",
    "- what ever the input but python will give output in\n",
    "  decimal number foramt\n",
    "  \n",
    "- binary \n",
    "\n",
    "  - binary includes only 0 and 1\n",
    "\n",
    "  - bi means =2\n",
    "\n",
    "  - representation is  :  0b111, 0B101\n",
    "\n",
    "  - wrong representation is :  0b123\n",
    "\n"
   ]
  },
  {
   "cell_type": "code",
   "execution_count": 5,
   "id": "b64b2ae4-5795-45de-b405-f59a56718341",
   "metadata": {},
   "outputs": [
    {
     "data": {
      "text/plain": [
       "int"
      ]
     },
     "execution_count": 5,
     "metadata": {},
     "output_type": "execute_result"
    }
   ],
   "source": [
    "num=111\n",
    "type(num)"
   ]
  },
  {
   "cell_type": "code",
   "execution_count": 6,
   "id": "a294276d-aab8-4f6a-9871-0cc5a939a055",
   "metadata": {},
   "outputs": [
    {
     "data": {
      "text/plain": [
       "int"
      ]
     },
     "execution_count": 6,
     "metadata": {},
     "output_type": "execute_result"
    }
   ],
   "source": [
    "num1=0b111\n",
    "type(num1)"
   ]
  },
  {
   "cell_type": "code",
   "execution_count": null,
   "id": "6f3ee324-44e0-4791-a838-be3e7d1a03a5",
   "metadata": {},
   "outputs": [],
   "source": [
    "- decimal\n",
    "\n",
    "- binary\n",
    "\n",
    "- octa\n",
    "\n",
    "- hexa"
   ]
  },
  {
   "cell_type": "code",
   "execution_count": null,
   "id": "a2f8c37e-c189-4d50-b6a2-c0371e921f23",
   "metadata": {},
   "outputs": [],
   "source": [
    "mars : math binary\n",
    "\n",
    "how old are you?"
   ]
  },
  {
   "cell_type": "code",
   "execution_count": 7,
   "id": "3d5819a1-aea8-46a8-8520-770d981b9726",
   "metadata": {},
   "outputs": [
    {
     "data": {
      "text/plain": [
       "7"
      ]
     },
     "execution_count": 7,
     "metadata": {},
     "output_type": "execute_result"
    }
   ],
   "source": [
    "0b111"
   ]
  },
  {
   "cell_type": "code",
   "execution_count": 8,
   "id": "b5a05200-296a-484b-8792-64d44bae1066",
   "metadata": {},
   "outputs": [
    {
     "data": {
      "text/plain": [
       "15"
      ]
     },
     "execution_count": 8,
     "metadata": {},
     "output_type": "execute_result"
    }
   ],
   "source": [
    "0b1111"
   ]
  },
  {
   "cell_type": "code",
   "execution_count": 9,
   "id": "2b546f97-81ce-4eb9-b998-85fd1a3392e2",
   "metadata": {},
   "outputs": [
    {
     "data": {
      "text/plain": [
       "5"
      ]
     },
     "execution_count": 9,
     "metadata": {},
     "output_type": "execute_result"
    }
   ],
   "source": [
    "0b101"
   ]
  },
  {
   "cell_type": "code",
   "execution_count": 10,
   "id": "e72a11e6-88c6-43f6-9cbe-9e9fa43d720a",
   "metadata": {},
   "outputs": [
    {
     "data": {
      "text/plain": [
       "14"
      ]
     },
     "execution_count": 10,
     "metadata": {},
     "output_type": "execute_result"
    }
   ],
   "source": [
    "0b1110"
   ]
  },
  {
   "cell_type": "code",
   "execution_count": 11,
   "id": "4d586b66-11a8-45e5-884f-076285f229d6",
   "metadata": {},
   "outputs": [
    {
     "data": {
      "text/plain": [
       "42"
      ]
     },
     "execution_count": 11,
     "metadata": {},
     "output_type": "execute_result"
    }
   ],
   "source": [
    "0b101010"
   ]
  },
  {
   "cell_type": "markdown",
   "id": "2d7ccf27-a3b3-43cd-8130-ce31469e3b5f",
   "metadata": {},
   "source": [
    "- octa \n",
    "\n",
    "  - octa means =8\n",
    "\n",
    "  - octa includes only 0 1 2 3 4 5 6 7\n",
    "\n",
    "  - representation is  :  0o123, 0O456\n",
    "\n",
    "  - wrong representation is :  0o897"
   ]
  },
  {
   "cell_type": "code",
   "execution_count": 1,
   "id": "1af9eb89-8d54-4c25-8a22-a92368b9dc34",
   "metadata": {},
   "outputs": [
    {
     "data": {
      "text/plain": [
       "83"
      ]
     },
     "execution_count": 1,
     "metadata": {},
     "output_type": "execute_result"
    }
   ],
   "source": [
    "0o123"
   ]
  },
  {
   "cell_type": "code",
   "execution_count": 3,
   "id": "b81048bd-bbec-488b-9ba1-1feaf5da46fa",
   "metadata": {},
   "outputs": [
    {
     "data": {
      "text/plain": [
       "375"
      ]
     },
     "execution_count": 3,
     "metadata": {},
     "output_type": "execute_result"
    }
   ],
   "source": [
    "0o567"
   ]
  },
  {
   "cell_type": "markdown",
   "id": "0faf4f5b-7c41-4fa7-93e1-41578d11af9f",
   "metadata": {},
   "source": [
    "- hexa \n",
    "\n",
    "  - hexa means =16\n",
    "\n",
    "  - hexa includes only 0 1 2 3 4 5 6 7 8  9 A B C D E F\n",
    "\n",
    "  - A=10  B=11  C=12  D=13  E= 14  F=15\n",
    "\n",
    "  - representation is  :  0x123, 0xabc\n",
    "\n",
    "  - wrong representation is :  0xabz"
   ]
  },
  {
   "cell_type": "code",
   "execution_count": 5,
   "id": "430b1148-6769-417e-a5e2-fa30fc75baf3",
   "metadata": {},
   "outputs": [
    {
     "data": {
      "text/plain": [
       "291"
      ]
     },
     "execution_count": 5,
     "metadata": {},
     "output_type": "execute_result"
    }
   ],
   "source": [
    "0x123"
   ]
  },
  {
   "cell_type": "code",
   "execution_count": 6,
   "id": "98e67b25-0751-4a75-8c46-a39a0abf353a",
   "metadata": {},
   "outputs": [
    {
     "data": {
      "text/plain": [
       "2748"
      ]
     },
     "execution_count": 6,
     "metadata": {},
     "output_type": "execute_result"
    }
   ],
   "source": [
    "0xabc\n",
    "\n",
    "# 256*10+ 16*11+1*12"
   ]
  },
  {
   "cell_type": "code",
   "execution_count": null,
   "id": "b4bc5375-8f5a-4453-a74f-8f736c8f8819",
   "metadata": {},
   "outputs": [],
   "source": [
    "2^2    2^1    2^0\n",
    "------------------\n",
    "4       2      1\n",
    "------------------\n",
    "0       0      0   = 0  \n",
    "0       0      1   = 1\n",
    "0       1      0   = 2\n",
    "0       1      1   = 3\n",
    "1       0      0   = 4\n",
    "1       0      1   = 5\n",
    "1       1      0   = 6\n",
    "1       1      1   = 7"
   ]
  },
  {
   "cell_type": "code",
   "execution_count": 8,
   "id": "6c1bbe04-b846-4b7c-83ec-fee537d52390",
   "metadata": {},
   "outputs": [
    {
     "data": {
      "text/plain": [
       "6"
      ]
     },
     "execution_count": 8,
     "metadata": {},
     "output_type": "execute_result"
    }
   ],
   "source": [
    "0b110"
   ]
  },
  {
   "cell_type": "code",
   "execution_count": 9,
   "id": "92d22aab-6596-4964-ad75-c61be9ec3790",
   "metadata": {},
   "outputs": [
    {
     "data": {
      "text/plain": [
       "2733"
      ]
     },
     "execution_count": 9,
     "metadata": {},
     "output_type": "execute_result"
    }
   ],
   "source": [
    "0b101010101101\n"
   ]
  },
  {
   "cell_type": "code",
   "execution_count": null,
   "id": "255114b0-2a91-4d1f-86a9-48da210c9113",
   "metadata": {},
   "outputs": [],
   "source": [
    "2^3    2^2    2^1    2^0\n",
    "    ------------------\n",
    " 8   4       2      1\n",
    "    ------------------\n",
    " 0  0       0      0   = 0  \n",
    " 0  0       0      1   = 1\n",
    " 0  0       1      0   = 2\n",
    " 0  0       1      1   = 3\n",
    " 0  1       0      0   = 4\n",
    " 0  1       0      1   = 5\n",
    " 0  1       1      0   = 6\n",
    " 0  1       1      1   = 7\n",
    " 1  0       0      0   = 8  \n",
    " 1  0       0      1   = 9\n",
    " 1  0       1      0   = 10\n",
    " 1  0       1      1   = 11\n",
    " 1  1       0      0   = 12\n",
    " 1  1       0      1   = 13\n",
    " 1  1       1      0   = 14\n",
    " 1  1       1      1   = 15\n"
   ]
  },
  {
   "cell_type": "markdown",
   "id": "41077c5c-4d68-42ca-8316-1213acead0ea",
   "metadata": {},
   "source": [
    "**float**"
   ]
  },
  {
   "cell_type": "code",
   "execution_count": 10,
   "id": "54e158bd-8704-46ca-a41a-c48a161f9c61",
   "metadata": {},
   "outputs": [
    {
     "data": {
      "text/plain": [
       "float"
      ]
     },
     "execution_count": 10,
     "metadata": {},
     "output_type": "execute_result"
    }
   ],
   "source": [
    "number_float=123.56\n",
    "type(number_float)"
   ]
  },
  {
   "cell_type": "code",
   "execution_count": 11,
   "id": "b99e2129-4ee7-4f3b-b8e6-2ac36de56684",
   "metadata": {},
   "outputs": [
    {
     "data": {
      "text/plain": [
       "10.0"
      ]
     },
     "execution_count": 11,
     "metadata": {},
     "output_type": "execute_result"
    }
   ],
   "source": [
    "1e1"
   ]
  },
  {
   "cell_type": "code",
   "execution_count": 12,
   "id": "74bb761a-5e13-41d2-87b3-46cd726c9f0c",
   "metadata": {},
   "outputs": [
    {
     "data": {
      "text/plain": [
       "100.0"
      ]
     },
     "execution_count": 12,
     "metadata": {},
     "output_type": "execute_result"
    }
   ],
   "source": [
    "1e2"
   ]
  },
  {
   "cell_type": "code",
   "execution_count": 13,
   "id": "dcbd22f9-8708-4a97-88a5-ecbaf4dc5322",
   "metadata": {},
   "outputs": [
    {
     "data": {
      "text/plain": [
       "1000.0"
      ]
     },
     "execution_count": 13,
     "metadata": {},
     "output_type": "execute_result"
    }
   ],
   "source": [
    "1e3"
   ]
  },
  {
   "cell_type": "code",
   "execution_count": 14,
   "id": "37887225-857b-469d-9642-c8963e316a7a",
   "metadata": {},
   "outputs": [
    {
     "data": {
      "text/plain": [
       "(10.0, 100.0, 1000.0, 1000.0)"
      ]
     },
     "execution_count": 14,
     "metadata": {},
     "output_type": "execute_result"
    }
   ],
   "source": [
    "1e1,1e2,1e3,1e3"
   ]
  },
  {
   "cell_type": "code",
   "execution_count": 15,
   "id": "f82a175a-1bf3-4f15-8005-421392186a79",
   "metadata": {},
   "outputs": [
    {
     "data": {
      "text/plain": [
       "(10.0, 100.0, 1000.0, 1000.0)"
      ]
     },
     "execution_count": 15,
     "metadata": {},
     "output_type": "execute_result"
    }
   ],
   "source": [
    "1e+1,1e+2,1e+3,1e+3"
   ]
  },
  {
   "cell_type": "code",
   "execution_count": 17,
   "id": "3b1737b7-f06f-4e24-8420-dfd1a872ac4b",
   "metadata": {},
   "outputs": [
    {
     "data": {
      "text/plain": [
       "(0.1, 0.01, 0.001)"
      ]
     },
     "execution_count": 17,
     "metadata": {},
     "output_type": "execute_result"
    }
   ],
   "source": [
    "1e-1,1e-2,1e-3\n",
    "# 1/10, 1/100,1000"
   ]
  },
  {
   "cell_type": "code",
   "execution_count": null,
   "id": "cb11f185-14fb-42f4-9112-523cd9f936c9",
   "metadata": {},
   "outputs": [],
   "source": [
    "# You need to check some answer will be zero\n",
    "# 0.0\n",
    "# 1e-13\n",
    "7.74619736e-15\n",
    "7.74619736/1000000000000000000\n",
    "0.0000000000000007746197 ~=0"
   ]
  },
  {
   "cell_type": "code",
   "execution_count": null,
   "id": "80209cff-91c5-4479-8d15-ce2fe86e006a",
   "metadata": {},
   "outputs": [],
   "source": [
    "1e-10\n",
    "1/(10000000000000)= 0.0000000000001"
   ]
  },
  {
   "cell_type": "markdown",
   "id": "c5a36d9e-4c6e-4403-9a54-219e9b3df390",
   "metadata": {},
   "source": [
    "**Boolean**\n",
    "\n",
    "- True  = 1\n",
    "\n",
    "- False = 0"
   ]
  },
  {
   "cell_type": "code",
   "execution_count": 18,
   "id": "cd03aca6-1f08-40f8-8373-0a7211584584",
   "metadata": {},
   "outputs": [
    {
     "data": {
      "text/plain": [
       "bool"
      ]
     },
     "execution_count": 18,
     "metadata": {},
     "output_type": "execute_result"
    }
   ],
   "source": [
    "ans=True\n",
    "type(ans)"
   ]
  },
  {
   "cell_type": "code",
   "execution_count": 19,
   "id": "9d021194-e3ce-40ec-85a8-462b0b504a8d",
   "metadata": {},
   "outputs": [
    {
     "data": {
      "text/plain": [
       "bool"
      ]
     },
     "execution_count": 19,
     "metadata": {},
     "output_type": "execute_result"
    }
   ],
   "source": [
    "wrong_ans=False\n",
    "type(wrong_ans)"
   ]
  },
  {
   "cell_type": "code",
   "execution_count": 20,
   "id": "533ae9af-3b42-4cee-8cba-36858fafbe9f",
   "metadata": {},
   "outputs": [
    {
     "data": {
      "text/plain": [
       "True"
      ]
     },
     "execution_count": 20,
     "metadata": {},
     "output_type": "execute_result"
    }
   ],
   "source": [
    "true=True\n",
    "true"
   ]
  },
  {
   "cell_type": "code",
   "execution_count": null,
   "id": "2fafc288-b2d7-4602-a3d7-ce6370b53c41",
   "metadata": {},
   "outputs": [],
   "source": [
    "Omkar can we give wrong_ans=False and wrong_ans=5\n"
   ]
  },
  {
   "cell_type": "code",
   "execution_count": 21,
   "id": "4e95f2e6-0c97-4e4f-858e-3506d8b51ba1",
   "metadata": {},
   "outputs": [
    {
     "data": {
      "text/plain": [
       "5"
      ]
     },
     "execution_count": 21,
     "metadata": {},
     "output_type": "execute_result"
    }
   ],
   "source": [
    "wrong_ans=False\n",
    "wrong_ans=5\n",
    "wrong_ans"
   ]
  },
  {
   "cell_type": "code",
   "execution_count": 22,
   "id": "4c3dd2ba-76ac-438b-808b-757f03aea8fa",
   "metadata": {},
   "outputs": [
    {
     "data": {
      "text/plain": [
       "int"
      ]
     },
     "execution_count": 22,
     "metadata": {},
     "output_type": "execute_result"
    }
   ],
   "source": [
    "type(wrong_ans)\n",
    "# Data type also change"
   ]
  },
  {
   "cell_type": "markdown",
   "id": "57b8a4f0-ca68-4ae8-a5c2-f309ca21ec67",
   "metadata": {},
   "source": [
    "$String$\n",
    "\n",
    "**string**\n",
    "\n",
    "- string"
   ]
  },
  {
   "cell_type": "code",
   "execution_count": 23,
   "id": "74a7762c-99bd-4fc3-ade5-b80f844d6202",
   "metadata": {},
   "outputs": [
    {
     "data": {
      "text/plain": [
       "'python'"
      ]
     },
     "execution_count": 23,
     "metadata": {},
     "output_type": "execute_result"
    }
   ],
   "source": [
    "name1='python'\n",
    "name1"
   ]
  },
  {
   "cell_type": "code",
   "execution_count": 24,
   "id": "9b3a7ce1-3681-4fc4-a1b9-f22021d5e5fa",
   "metadata": {},
   "outputs": [
    {
     "data": {
      "text/plain": [
       "'naresh it'"
      ]
     },
     "execution_count": 24,
     "metadata": {},
     "output_type": "execute_result"
    }
   ],
   "source": [
    "name2=\"naresh it\"\n",
    "name2"
   ]
  },
  {
   "cell_type": "code",
   "execution_count": 25,
   "id": "bb7da89b-8559-4170-bf6b-45e85f1aefe7",
   "metadata": {},
   "outputs": [
    {
     "data": {
      "text/plain": [
       "str"
      ]
     },
     "execution_count": 25,
     "metadata": {},
     "output_type": "execute_result"
    }
   ],
   "source": [
    "type(name1)"
   ]
  },
  {
   "cell_type": "code",
   "execution_count": null,
   "id": "f49afbd6-6089-4555-aa87-3c9880d487eb",
   "metadata": {},
   "outputs": [],
   "source": [
    "integer ==== int\n",
    "boolean ==== bool\n",
    "string  ==== str\n",
    "float   ==== float"
   ]
  },
  {
   "cell_type": "code",
   "execution_count": null,
   "id": "22f1c5a1-cbf1-49dd-bfcd-aa475ead3c3b",
   "metadata": {},
   "outputs": [],
   "source": [
    "i like 'python'"
   ]
  },
  {
   "cell_type": "code",
   "execution_count": 27,
   "id": "9734aaa3-14ef-4383-9bce-89769194dd59",
   "metadata": {},
   "outputs": [
    {
     "data": {
      "text/plain": [
       "'i \"like\" python'"
      ]
     },
     "execution_count": 27,
     "metadata": {},
     "output_type": "execute_result"
    }
   ],
   "source": [
    "name3='i \"like\" python'\n",
    "name3"
   ]
  },
  {
   "cell_type": "code",
   "execution_count": 28,
   "id": "1f563279-13b9-4603-9f52-731504c59e31",
   "metadata": {},
   "outputs": [
    {
     "data": {
      "text/plain": [
       "\"i 'like' python\""
      ]
     },
     "execution_count": 28,
     "metadata": {},
     "output_type": "execute_result"
    }
   ],
   "source": [
    "name3=\"i 'like' python\"\n",
    "name3"
   ]
  },
  {
   "cell_type": "markdown",
   "id": "4531c4f5-53a6-4973-86d2-2f261f5fc058",
   "metadata": {},
   "source": [
    "**Note**\n",
    "\n",
    "- Entire sentence in single quotes, then highlited word in double quotes\n",
    "\n",
    "- Entire sentence in double quotes, then highlited word in single quotes"
   ]
  },
  {
   "cell_type": "code",
   "execution_count": 35,
   "id": "e1e2291b-191b-4db5-aa1f-680ea5e4e51f",
   "metadata": {},
   "outputs": [
    {
     "data": {
      "text/plain": [
       "'hello how are you\\n        how do you do\\n        im good\\n        how is DS class'"
      ]
     },
     "execution_count": 35,
     "metadata": {},
     "output_type": "execute_result"
    }
   ],
   "source": [
    "str1=\"\"\"hello how are you\n",
    "        how do you do\n",
    "        im good\n",
    "        how is DS class\"\"\"\n",
    "str1\n",
    "# \\n = new line\n",
    "# there is multiple lines are there in output"
   ]
  },
  {
   "cell_type": "code",
   "execution_count": 36,
   "id": "12b825d8-2456-4a94-a840-412e9728d79d",
   "metadata": {},
   "outputs": [
    {
     "name": "stdout",
     "output_type": "stream",
     "text": [
      "hello how are you\n",
      "        how do you do\n",
      "        im good\n",
      "        how is DS class\n"
     ]
    }
   ],
   "source": [
    "print(str1)"
   ]
  },
  {
   "cell_type": "markdown",
   "id": "338610cd-948b-4d1f-bc82-2c0c628b9d9a",
   "metadata": {},
   "source": [
    "- strings can represent in single quotes or double quotes or triple quotes\n",
    "\n",
    "- When a person writing something in triple quotes : **Doc String**\n",
    "\n",
    "- Triple quotes are used for conveying information like markdown in Jupyter notebook\n",
    "\n",
    "- Triple quotes are not used for coding part\n",
    "\n"
   ]
  },
  {
   "cell_type": "code",
   "execution_count": null,
   "id": "4c259244-67c2-478e-905a-e9dd439de792",
   "metadata": {},
   "outputs": [],
   "source": [
    "Type casting"
   ]
  }
 ],
 "metadata": {
  "kernelspec": {
   "display_name": "Python 3 (ipykernel)",
   "language": "python",
   "name": "python3"
  },
  "language_info": {
   "codemirror_mode": {
    "name": "ipython",
    "version": 3
   },
   "file_extension": ".py",
   "mimetype": "text/x-python",
   "name": "python",
   "nbconvert_exporter": "python",
   "pygments_lexer": "ipython3",
   "version": "3.11.7"
  }
 },
 "nbformat": 4,
 "nbformat_minor": 5
}
