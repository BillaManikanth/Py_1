{
 "cells": [
  {
   "cell_type": "markdown",
   "id": "b16e9cd7-7ccd-4349-913a-ec483641a729",
   "metadata": {},
   "source": [
    "**Loops**\n",
    "\n",
    "- Function: Reuse of the code\n",
    "\n",
    "- Loop:  Reuse the code for multiple times unless the given conditions satiesfies\n",
    "\n",
    "  - For\n",
    " \n",
    "  - While\n",
    " \n",
    "- Any loop requires 3 things\n",
    "\n",
    "  - start point\n",
    " \n",
    "  - what is the condition to stop\n",
    " \n",
    "  - Increment or decrement\n",
    " \n",
    "- in for loop we will apply all above 3 in a single line\n",
    "\n",
    "- in while loop we will apply all above 3 in 3 different lines"
   ]
  },
  {
   "cell_type": "markdown",
   "id": "be064ee7-f58f-46c2-b6a4-e848a825c112",
   "metadata": {},
   "source": [
    "**For loop**\n",
    "\n",
    "$method-1$"
   ]
  },
  {
   "cell_type": "code",
   "execution_count": null,
   "id": "57ce8875-6dca-4cd8-9048-9239e0c1324f",
   "metadata": {},
   "outputs": [],
   "source": [
    "# syntax\n",
    "for i in range(<stop>):\n",
    "    print(i)"
   ]
  },
  {
   "cell_type": "code",
   "execution_count": 1,
   "id": "2e2de8be-b719-4cae-a058-2eb8739ff7bf",
   "metadata": {},
   "outputs": [
    {
     "name": "stdout",
     "output_type": "stream",
     "text": [
      "0\n",
      "1\n",
      "2\n"
     ]
    }
   ],
   "source": [
    "print(0)\n",
    "print(1)\n",
    "print(2)\n",
    "\n",
    "print(i)"
   ]
  },
  {
   "cell_type": "code",
   "execution_count": 2,
   "id": "cefa95bd-1541-4985-90d0-7714f54069dc",
   "metadata": {},
   "outputs": [
    {
     "name": "stdout",
     "output_type": "stream",
     "text": [
      "0\n",
      "1\n",
      "2\n"
     ]
    }
   ],
   "source": [
    "for i in range(3):\n",
    "    print(i)"
   ]
  },
  {
   "cell_type": "markdown",
   "id": "b4f72a7d-c560-4ae0-9f29-703a55b4ca18",
   "metadata": {},
   "source": [
    "**Note**: range(stop)\n",
    "\n",
    "- The default start point is zero\n",
    "\n",
    "    **Python index starts with zero**\n",
    "\n",
    "- Default increment is 1\n",
    "\n",
    "- Last value= stop-1"
   ]
  },
  {
   "cell_type": "markdown",
   "id": "370cd572-eb18-43ba-b75d-c9a32f278e6c",
   "metadata": {},
   "source": [
    "**range(5)**\n",
    "\n",
    "- start value=0\n",
    "\n",
    "- increment=1\n",
    "\n",
    "- Last value= 5-1=4"
   ]
  },
  {
   "cell_type": "code",
   "execution_count": 3,
   "id": "b981dbbc-ea6c-4ce5-b150-54c3be46a013",
   "metadata": {},
   "outputs": [
    {
     "name": "stdout",
     "output_type": "stream",
     "text": [
      "0\n",
      "1\n",
      "2\n",
      "3\n",
      "4\n"
     ]
    }
   ],
   "source": [
    "for i in range(5):\n",
    "    print(i)"
   ]
  },
  {
   "cell_type": "code",
   "execution_count": 8,
   "id": "410c81b1-b498-417f-9270-974ac2328b92",
   "metadata": {},
   "outputs": [
    {
     "name": "stdout",
     "output_type": "stream",
     "text": [
      "0 1 2\n"
     ]
    }
   ],
   "source": [
    "print(0,end=' ')\n",
    "print(1,end=' ')\n",
    "print(2)"
   ]
  },
  {
   "cell_type": "code",
   "execution_count": 9,
   "id": "31211a80-d3e3-4ec9-87d2-b3f46e36e72c",
   "metadata": {},
   "outputs": [
    {
     "name": "stdout",
     "output_type": "stream",
     "text": [
      "0 1 2 3 4 "
     ]
    }
   ],
   "source": [
    "for i in range(5):\n",
    "    print(i,end=' ')"
   ]
  },
  {
   "cell_type": "code",
   "execution_count": 11,
   "id": "d1ac47a2-5ee7-4e33-a333-a71d97f9eaae",
   "metadata": {},
   "outputs": [
    {
     "name": "stdout",
     "output_type": "stream",
     "text": [
      "0 hello\n",
      "1 hello\n",
      "2 hello\n",
      "3 hello\n",
      "4 hello\n"
     ]
    }
   ],
   "source": [
    "# I want to print 3 times hello\n",
    "for i in range(5):\n",
    "    print(i,'hello')"
   ]
  },
  {
   "cell_type": "markdown",
   "id": "b9199a8a-cbbb-4f23-afde-110082f3b058",
   "metadata": {},
   "source": [
    "$method-2$\n",
    "\n",
    "**range(start,stop)**\n",
    "\n",
    "- start value = start\n",
    "\n",
    "- Default incremnt by 1\n",
    "\n",
    "- Last value= stop-1"
   ]
  },
  {
   "cell_type": "code",
   "execution_count": null,
   "id": "0dade420-e352-48fc-88a1-369610507555",
   "metadata": {},
   "outputs": [],
   "source": [
    "# syntax\n",
    "for i in range(<start>,<stop>):\n",
    "    print(i)"
   ]
  },
  {
   "cell_type": "code",
   "execution_count": 12,
   "id": "059edbd6-cace-42ef-82b6-2ca968db4edf",
   "metadata": {},
   "outputs": [
    {
     "name": "stdout",
     "output_type": "stream",
     "text": [
      "2 3 4 5 6 7 8 9 "
     ]
    }
   ],
   "source": [
    "for i in range(2,10):\n",
    "    print(i,end=' ')\n",
    "\n",
    "# start=2   increment =1   last =10-1=9"
   ]
  },
  {
   "cell_type": "code",
   "execution_count": 13,
   "id": "633b7a00-0990-4387-9615-2a23ad53ffaa",
   "metadata": {},
   "outputs": [
    {
     "name": "stdout",
     "output_type": "stream",
     "text": [
      "the square of 1 is 1\n",
      "the square of 2 is 4\n",
      "the square of 3 is 9\n",
      "the square of 4 is 16\n",
      "the square of 5 is 25\n"
     ]
    }
   ],
   "source": [
    "# WAP ask the user print the square of the numbers from 1 to 5\n",
    "for i in range(1,6):\n",
    "    print(f\"the square of {i} is {i*i}\")"
   ]
  },
  {
   "cell_type": "code",
   "execution_count": 15,
   "id": "c8ad8e34-5848-4463-b0da-2f857227c39e",
   "metadata": {},
   "outputs": [
    {
     "name": "stdout",
     "output_type": "stream",
     "text": [
      "the square of 78 is 6084\n",
      "the square of 30 is 900\n",
      "the square of 63 is 3969\n",
      "the square of 43 is 1849\n",
      "the square of 23 is 529\n"
     ]
    }
   ],
   "source": [
    "# WAP ask the user take 5 random numbers between 10 to 100\n",
    "# and print the square of the random numbers\n",
    "# how many times you need to apply the loop : 5\n",
    "# Every time random number should come \n",
    "# get the square\n",
    "\n",
    "import random\n",
    "num=random.randint(1,100)\n",
    "print(f\"the square of {num} is {num*num}\")\n",
    "\n",
    "import random\n",
    "num=random.randint(1,100)\n",
    "print(f\"the square of {num} is {num*num}\")\n",
    "\n",
    "import random\n",
    "num=random.randint(1,100)\n",
    "print(f\"the square of {num} is {num*num}\")\n",
    "\n",
    "import random\n",
    "num=random.randint(1,100)\n",
    "print(f\"the square of {num} is {num*num}\")\n",
    "\n",
    "import random\n",
    "num=random.randint(1,100)\n",
    "print(f\"the square of {num} is {num*num}\")"
   ]
  },
  {
   "cell_type": "code",
   "execution_count": 16,
   "id": "01a2834d-d79e-42ea-9d6b-d75a078587fa",
   "metadata": {},
   "outputs": [
    {
     "name": "stdout",
     "output_type": "stream",
     "text": [
      "the square of 86 is 7396\n",
      "the square of 99 is 9801\n",
      "the square of 26 is 676\n",
      "the square of 34 is 1156\n",
      "the square of 19 is 361\n"
     ]
    }
   ],
   "source": [
    "import random\n",
    "for i in range(5):\n",
    "    num=random.randint(1,100)\n",
    "    print(f\"the square of {num} is {num*num}\")"
   ]
  },
  {
   "cell_type": "code",
   "execution_count": 17,
   "id": "cb7f3494-8d5f-4e2b-85b7-0ed219027e19",
   "metadata": {},
   "outputs": [
    {
     "name": "stdout",
     "output_type": "stream",
     "text": [
      "the square of 4 is 16\n",
      "the square of 5 is 25\n",
      "the square of 54 is 2916\n",
      "the square of 64 is 4096\n",
      "the square of 66 is 4356\n"
     ]
    }
   ],
   "source": [
    "# Create a function on reuse code lines\n",
    "# call that function inside the for loop\n",
    "def square():\n",
    "    num=random.randint(1,100)\n",
    "    print(f\"the square of {num} is {num*num}\")\n",
    "\n",
    "for i in range(5):\n",
    "    square()"
   ]
  },
  {
   "cell_type": "code",
   "execution_count": 18,
   "id": "74c22e24-475c-40de-a098-c753df4bdfe7",
   "metadata": {},
   "outputs": [
    {
     "name": "stdout",
     "output_type": "stream",
     "text": [
      "the square of 52 is 2704\n",
      "the square of 36 is 1296\n",
      "the square of 21 is 441\n",
      "the square of 96 is 9216\n",
      "the square of 13 is 169\n"
     ]
    }
   ],
   "source": [
    "def square():\n",
    "    num=random.randint(1,100)\n",
    "    return(f\"the square of {num} is {num*num}\")\n",
    "\n",
    "for i in range(5):\n",
    "    ans=square()\n",
    "    print(ans)"
   ]
  },
  {
   "cell_type": "code",
   "execution_count": 19,
   "id": "bac5c3bb-aed4-444d-bc0a-f6fa83847330",
   "metadata": {},
   "outputs": [
    {
     "name": "stdout",
     "output_type": "stream",
     "text": [
      "the square of 29 is 841\n",
      "the square of 38 is 1444\n",
      "the square of 88 is 7744\n",
      "the square of 60 is 3600\n",
      "the square of 20 is 400\n"
     ]
    }
   ],
   "source": [
    "import random\n",
    "def square1():\n",
    "    for i in range(5):\n",
    "        num=random.randint(1,100)\n",
    "        print(f\"the square of {num} is {num*num}\")\n",
    "\n",
    "square1()"
   ]
  },
  {
   "cell_type": "code",
   "execution_count": null,
   "id": "c8e49fc8-8ce3-42ad-83c3-7b17c184f527",
   "metadata": {},
   "outputs": [],
   "source": [
    "def add():\n",
    "    a=10\n",
    "    b=20\n",
    "    print(a+b)\n",
    "\n",
    "for i in range(5):\n",
    "    ans=add()\n",
    "    print(ans)"
   ]
  },
  {
   "cell_type": "code",
   "execution_count": null,
   "id": "a56f3522-7449-41e0-980b-425402fbb572",
   "metadata": {},
   "outputs": [],
   "source": [
    "import random\n",
    "def square1 ():\n",
    "    for i in range (0,5) :\n",
    "        num=random.randint(100,1000)\n",
    "        print(f\"The square of {num} is {num*num}\")\n",
    "    \n",
    "square1()"
   ]
  },
  {
   "cell_type": "code",
   "execution_count": 20,
   "id": "a1f5db8d-ee78-4f27-ae0b-5b2eb70ed84f",
   "metadata": {},
   "outputs": [
    {
     "name": "stdout",
     "output_type": "stream",
     "text": [
      "11 is an odd number\n",
      "12 is an even number\n",
      "13 is an odd number\n",
      "14 is an even number\n",
      "15 is an odd number\n",
      "16 is an even number\n",
      "17 is an odd number\n",
      "18 is an even number\n",
      "19 is an odd number\n",
      "20 is an even number\n",
      "21 is an odd number\n"
     ]
    }
   ],
   "source": [
    "# wap ask the user print the even or odd values between 11 to 21\n",
    "for i in range(11,22):\n",
    "    if i%2==0:\n",
    "        print(f'{i} is an even number')\n",
    "    else:\n",
    "        print(f'{i} is an odd number')"
   ]
  },
  {
   "cell_type": "code",
   "execution_count": 21,
   "id": "0d2c5d25-cf51-4e7e-9e0c-b9dfad530f5f",
   "metadata": {},
   "outputs": [
    {
     "name": "stdin",
     "output_type": "stream",
     "text": [
      "enter the number: 4\n"
     ]
    },
    {
     "name": "stdout",
     "output_type": "stream",
     "text": [
      "4 is an even number\n"
     ]
    },
    {
     "name": "stdin",
     "output_type": "stream",
     "text": [
      "enter the number: 7\n"
     ]
    },
    {
     "name": "stdout",
     "output_type": "stream",
     "text": [
      "7 is an odd number\n"
     ]
    },
    {
     "name": "stdin",
     "output_type": "stream",
     "text": [
      "enter the number: 8\n"
     ]
    },
    {
     "name": "stdout",
     "output_type": "stream",
     "text": [
      "8 is an even number\n"
     ]
    },
    {
     "name": "stdin",
     "output_type": "stream",
     "text": [
      "enter the number: 9\n"
     ]
    },
    {
     "name": "stdout",
     "output_type": "stream",
     "text": [
      "9 is an odd number\n"
     ]
    },
    {
     "name": "stdin",
     "output_type": "stream",
     "text": [
      "enter the number: 2\n"
     ]
    },
    {
     "name": "stdout",
     "output_type": "stream",
     "text": [
      "2 is an even number\n"
     ]
    }
   ],
   "source": [
    "# wap ask the user enter a value from keyboard 5 times \n",
    "# print that value is even or odd\n",
    "for i in range(5):\n",
    "    num=eval(input(\"enter the number:\"))\n",
    "    if num%2==0:\n",
    "        print(f'{num} is an even number')\n",
    "    else:\n",
    "        print(f'{num} is an odd number')"
   ]
  },
  {
   "cell_type": "code",
   "execution_count": null,
   "id": "8b8de4c7-b83d-4ffd-8418-2dd4a5231714",
   "metadata": {},
   "outputs": [],
   "source": [
    "# WAP ask the user print the square of the numbers from 1 to 5\n",
    "\n",
    "# WAP ask the user take 5 random numbers between 10 to 100\n",
    "# and print the square of the random numbers\n",
    "\n",
    "# Create a function on reuse code lines\n",
    "# call that function inside the for loop\n",
    "\n",
    "# wap ask the user print the even or odd values between 11 to 21\n",
    "\n",
    "# wap ask the user enter a value from keyboard 5 times \n",
    "# print that value is even or odd"
   ]
  },
  {
   "cell_type": "markdown",
   "id": "44f63285-ff72-44c0-b2ae-38a2958bdd30",
   "metadata": {},
   "source": [
    "$method-3$\n",
    "\n",
    "**range(start,stop,step)**\n",
    "\n",
    "- start= always a start value\n",
    "\n",
    "- step: Increment value\n",
    "\n",
    "    - If increment value is postive\n",
    "\n",
    "    - positive value means postive directions(Forward)\n",
    "\n",
    "        - Last= stop-1\n",
    "\n",
    "    - If increment value is negative\n",
    "\n",
    "    - negative value means negative directions(Backward)\n",
    "\n",
    "        - Last =stop+1"
   ]
  },
  {
   "cell_type": "code",
   "execution_count": 22,
   "id": "6e988a2f-7e74-493b-a0f5-a47aaca3076b",
   "metadata": {},
   "outputs": [
    {
     "name": "stdout",
     "output_type": "stream",
     "text": [
      "2 4 6 8 10 12 14 16 18 "
     ]
    }
   ],
   "source": [
    "#case-1\n",
    "for i in range(2,20,2):\n",
    "    print(i,end=' ')\n",
    "\n",
    "# start=2\n",
    "# step=2  +ve direction\n",
    "# last=stop-1=20-1=19\n",
    "    \n",
    "# First write start value and stop value\n",
    "# Then look at direction postive or negative\n",
    "# then make the conclusion"
   ]
  },
  {
   "cell_type": "code",
   "execution_count": 4,
   "id": "3662b9c1-4e09-4bb0-8cce-44f5988b691e",
   "metadata": {},
   "outputs": [],
   "source": [
    "#case-2\n",
    "for i in range(2,20,-2):\n",
    "    print(i,end=' ')\n",
    "\n",
    "# start=2\n",
    "# step=2  negative direction\n",
    "# Last= stop+1: 20+1=21"
   ]
  },
  {
   "cell_type": "code",
   "execution_count": 24,
   "id": "c6805921-7aff-42bd-9b07-b327ed88817e",
   "metadata": {},
   "outputs": [
    {
     "name": "stdout",
     "output_type": "stream",
     "text": [
      "2 0 -2 -4 -6 -8 -10 -12 -14 -16 -18 "
     ]
    }
   ],
   "source": [
    "#case-3\n",
    "for i in range(2,-20,-2):\n",
    "    print(i,end=' ')\n",
    "\n",
    "# start=2\n",
    "# step=2  negative\n",
    "# last= stop+1= -20+1=-19"
   ]
  },
  {
   "cell_type": "code",
   "execution_count": 25,
   "id": "e402c3da-ce26-4ad3-9aad-70ba05132905",
   "metadata": {},
   "outputs": [
    {
     "name": "stdout",
     "output_type": "stream",
     "text": [
      "-2 -4 -6 -8 -10 -12 -14 -16 -18 "
     ]
    }
   ],
   "source": [
    "#case-4\n",
    "for i in range(-2,-20,-2):\n",
    "    print(i,end=' ')\n",
    "\n",
    "# start=-2\n",
    "# step=2  negative\n",
    "# Last= stop+1= -20+1=-19"
   ]
  },
  {
   "cell_type": "code",
   "execution_count": 26,
   "id": "6754ca45-8ce2-4279-8a1f-254e6bc88300",
   "metadata": {},
   "outputs": [],
   "source": [
    "#case-5\n",
    "for i in range(-2,20,-2):\n",
    "    print(i,end=' ')\n",
    "\n",
    "# start=-2\n",
    "# step=2  negative\n",
    "# Last= 20+1=21\n"
   ]
  },
  {
   "cell_type": "code",
   "execution_count": null,
   "id": "052d8ccc-532c-4f4d-8d21-6ac7fb6a077e",
   "metadata": {},
   "outputs": [],
   "source": [
    "#case-1\n",
    "for i in range(2,20,2):\n",
    "    print(i,end=' ')\n",
    "\n",
    "#case-2\n",
    "for i in range(2,20,-2):\n",
    "    print(i,end=' ')\n",
    "\n",
    "#case-3\n",
    "for i in range(2,-20,-2):\n",
    "    print(i,end=' ')\n",
    "\n",
    "#case-4\n",
    "for i in range(-2,-20,-2):\n",
    "    print(i,end=' ')\n",
    "\n",
    "#case-5\n",
    "for i in range(-2,20,-2):\n",
    "    print(i,end=' ')"
   ]
  },
  {
   "cell_type": "code",
   "execution_count": null,
   "id": "c9dbae77-4a0f-4561-a171-822cc81474e2",
   "metadata": {},
   "outputs": [],
   "source": [
    "1)range(3,19,3)  # p\n",
    "2)range(3,19,-3) # NP\n",
    "3)range(3,-19,3) # NP \n",
    "4)range(3,-19,-3) # P\n",
    "5)range(-3,19,3) # P\n",
    "6)range(-3,-19,3) #NP\n",
    "7)range(-3,-19,-3) #P \n",
    "8)range(-3,19,-3) # NP\n",
    "9)range(19,3,-3) # P\n",
    "10)range(-19,3,-3) # NP\n",
    "11)range(-19,-3,-3) #Np \n",
    "12)range(-19,3,3) # p\n",
    "13)range(19,3,3)# NP"
   ]
  },
  {
   "cell_type": "code",
   "execution_count": null,
   "id": "24ab9217-6199-4374-98fc-a4f1bb898466",
   "metadata": {},
   "outputs": [],
   "source": [
    "range(19,3,-3)\n",
    "\n",
    "# s=19\n",
    "# last = "
   ]
  },
  {
   "cell_type": "code",
   "execution_count": null,
   "id": "d58cf327-a1da-4f9f-a125-6d007d811b17",
   "metadata": {},
   "outputs": [],
   "source": [
    "# 1)WAP ask the user print the square of the numbers from 1 to 5\n",
    "\n",
    "# 2)WAP ask the user take 5 random numbers between 10 to 100\n",
    "# and print the square of the random numbers\n",
    "\n",
    "# 3)Create a function on reuse code lines\n",
    "# call that function inside the for loop\n",
    "\n",
    "# 4)wap ask the user print the even or odd values between 11 to 21\n",
    "\n",
    "# 5)wap ask the user enter a value from keyboard 5 times \n",
    "# print that value is even or odd"
   ]
  },
  {
   "cell_type": "code",
   "execution_count": 9,
   "id": "8e96df45-8c22-412a-9b33-29a533100ae8",
   "metadata": {},
   "outputs": [
    {
     "name": "stdout",
     "output_type": "stream",
     "text": [
      "9x1=9\n",
      "9x2=18\n",
      "9x3=27\n",
      "9x4=36\n",
      "9x5=45\n",
      "9x6=54\n",
      "9x7=63\n",
      "9x8=72\n",
      "9x9=81\n",
      "9x10=90\n"
     ]
    }
   ],
   "source": [
    "#6)Wap to create 9th table \n",
    "# 9x1=9\n",
    "# 9x2=18\n",
    "# 9x3=27\n",
    "# 9x4=36\n",
    "#\n",
    "# 9x10=90\n",
    "\n",
    "for i in range(1,11):\n",
    "    print(f\"9x{i}={9*i}\")\n",
    "\n"
   ]
  },
  {
   "cell_type": "code",
   "execution_count": 13,
   "id": "5cc22c01-7f59-4484-8e16-c33254db470e",
   "metadata": {},
   "outputs": [
    {
     "name": "stdout",
     "output_type": "stream",
     "text": [
      "1\n",
      "2\n",
      "5\n",
      "10\n",
      "25\n"
     ]
    }
   ],
   "source": [
    "#7Q) WAP to print the divisiors of number 50\n",
    "# what is the meaning of divisors\n",
    "# if 50 divided by 2 then the reminder is zer0\n",
    "# 2 is the divisor of 50\n",
    "\n",
    "# 50%1=0\n",
    "# 50%2=0\n",
    "# 50%3=0\n",
    "# 50%5=0\n",
    "# 50%5=0\n",
    "\n",
    "\n",
    "# 50%50=0\n",
    "\n",
    "# You need to write the output first\n",
    "# Then undestand what is changing and what is common\n",
    "\n",
    "for i in range(1,50+1):\n",
    "    if 50%i==0:\n",
    "        print(i)\n",
    "# step-1: i=1   if 50%1==0  True  print(1) : 1\n",
    "# step-2: i=2   if 50%2==0  True  print(2) : 2\n",
    "# step-3: i=3   if 50%3==0  False  "
   ]
  },
  {
   "cell_type": "code",
   "execution_count": 11,
   "id": "81fde3d8-6309-48ae-ba1c-f7d0d6c8c9ba",
   "metadata": {},
   "outputs": [
    {
     "name": "stdin",
     "output_type": "stream",
     "text": [
      "enter the number which you want divisors: 75\n"
     ]
    },
    {
     "name": "stdout",
     "output_type": "stream",
     "text": [
      "1\n",
      "3\n",
      "5\n",
      "15\n",
      "25\n",
      "75\n"
     ]
    }
   ],
   "source": [
    "num=eval(input(\"enter the number which you want divisors:\"))\n",
    "for i in range(1,num+1):\n",
    "    if num%i==0:\n",
    "        print(i)"
   ]
  },
  {
   "cell_type": "code",
   "execution_count": 12,
   "id": "4fae566e-c8ee-4afe-9140-c3429723af37",
   "metadata": {},
   "outputs": [
    {
     "name": "stdout",
     "output_type": "stream",
     "text": [
      "1\n",
      "2\n",
      "4\n",
      "17\n",
      "34\n",
      "68\n"
     ]
    }
   ],
   "source": [
    "def divsors(num):\n",
    "    for i in range(1,num+1):\n",
    "        if num%i==0:\n",
    "            print(i)\n",
    "\n",
    "divsors(68)"
   ]
  },
  {
   "cell_type": "code",
   "execution_count": null,
   "id": "e5f7cf7e-8cce-42d8-a460-c6dce1941a0e",
   "metadata": {},
   "outputs": [],
   "source": [
    "for i in range(1,5+1):\n",
    "    print(i,end=' ')"
   ]
  },
  {
   "cell_type": "markdown",
   "id": "893eb5ca-2315-4b35-898e-42e10c6474b9",
   "metadata": {},
   "source": [
    "**Summation wrapper**"
   ]
  },
  {
   "cell_type": "code",
   "execution_count": 19,
   "id": "82931685-8d01-4675-944a-0471e7dcd0fa",
   "metadata": {},
   "outputs": [
    {
     "name": "stdout",
     "output_type": "stream",
     "text": [
      "The sum of first 10 natural numbers are: 55\n"
     ]
    }
   ],
   "source": [
    "#Q8) WAP print the sum of first 10 natural numbers\n",
    "# 1 to 10\n",
    "# 1+2+3+4+5+6+7+8+9+10=55\n",
    "\n",
    "# Whenever you want to do any sum program\n",
    "# It is like wrapper\n",
    "\n",
    "# 1+0=1\n",
    "# 2+1=3\n",
    "# 3+3=6\n",
    "# 4+6=10\n",
    "# 5+10=15\n",
    "\n",
    "#summ=0\n",
    "#summ=summ+i\n",
    "# summ=0+1    summ=1\n",
    "# summ=1+2    summ=3\n",
    "# summ= 3+3   summ=6\n",
    "# summ=6+4   summ=10\n",
    "\n",
    "\n",
    "# summ=0\n",
    "# <for loop>\n",
    "#   summ=summ+i\n",
    "#   print(summ)\n",
    "\n",
    "s=0\n",
    "for i in range(1,11):\n",
    "    s=s+i\n",
    "    \n",
    "print(\"The sum of first 10 natural numbers are:\",s)"
   ]
  },
  {
   "cell_type": "markdown",
   "id": "576c504a-971c-4ccd-ae63-1c89cfd7956a",
   "metadata": {},
   "source": [
    "- do not give variable name as sum, becuase sum is keywords\n",
    "\n",
    "- if you do print inside it will print every answer\n",
    "\n",
    "- if you print ouside the last value will print"
   ]
  },
  {
   "cell_type": "code",
   "execution_count": 20,
   "id": "4932ad9c-728e-453d-9225-40041b8fa866",
   "metadata": {},
   "outputs": [
    {
     "data": {
      "text/plain": [
       "6"
      ]
     },
     "execution_count": 20,
     "metadata": {},
     "output_type": "execute_result"
    }
   ],
   "source": [
    "l=[1,2,3]\n",
    "sum(l)\n",
    "print(a)\n",
    "type()"
   ]
  },
  {
   "cell_type": "code",
   "execution_count": 21,
   "id": "e41cd32d-33fe-4b2b-b942-f94e3222ec24",
   "metadata": {},
   "outputs": [
    {
     "name": "stdout",
     "output_type": "stream",
     "text": [
      "the sum of 1st natural number : 55\n"
     ]
    }
   ],
   "source": [
    "s=0\n",
    "for i in range(1,11):\n",
    "    s=s+i\n",
    "print(\"the sum of 1st natural number :\",s)"
   ]
  },
  {
   "cell_type": "code",
   "execution_count": 23,
   "id": "cfa2cd62-2b13-4059-87c3-a4eb5a8af788",
   "metadata": {},
   "outputs": [
    {
     "data": {
      "text/plain": [
       "['False',\n",
       " 'None',\n",
       " 'True',\n",
       " 'and',\n",
       " 'as',\n",
       " 'assert',\n",
       " 'async',\n",
       " 'await',\n",
       " 'break',\n",
       " 'class',\n",
       " 'continue',\n",
       " 'def',\n",
       " 'del',\n",
       " 'elif',\n",
       " 'else',\n",
       " 'except',\n",
       " 'finally',\n",
       " 'for',\n",
       " 'from',\n",
       " 'global',\n",
       " 'if',\n",
       " 'import',\n",
       " 'in',\n",
       " 'is',\n",
       " 'lambda',\n",
       " 'nonlocal',\n",
       " 'not',\n",
       " 'or',\n",
       " 'pass',\n",
       " 'raise',\n",
       " 'return',\n",
       " 'try',\n",
       " 'while',\n",
       " 'with',\n",
       " 'yield']"
      ]
     },
     "execution_count": 23,
     "metadata": {},
     "output_type": "execute_result"
    }
   ],
   "source": [
    "import keyword\n",
    "keyword.kwlist"
   ]
  },
  {
   "cell_type": "markdown",
   "id": "8db31f3b-6f58-4876-99e4-d13535dd9c3a",
   "metadata": {},
   "source": [
    "- not callable, remove the brackets\n",
    "\n",
    "- bound method means add the brackets\n",
    "\n",
    "- function means add the brackets"
   ]
  },
  {
   "cell_type": "markdown",
   "id": "6923fd5b-3165-41e7-a0cd-d646a525db3c",
   "metadata": {},
   "source": [
    "**Counter wrapper**"
   ]
  },
  {
   "cell_type": "code",
   "execution_count": 24,
   "id": "424f540c-a79e-4888-a40d-76ba04f3b1b5",
   "metadata": {},
   "outputs": [
    {
     "name": "stdin",
     "output_type": "stream",
     "text": [
      "enter the Number which you want divisiors  50\n"
     ]
    },
    {
     "name": "stdout",
     "output_type": "stream",
     "text": [
      " number of divisiors of 50 is =  6\n"
     ]
    }
   ],
   "source": [
    "#9Q) How many divisors are availble for 50\n",
    "# tell the divisors: 1, 2,5,10,25,50\n",
    "# Now I want to print : the number of divisors are 6\n",
    "\n",
    "# count=0\n",
    "# <for>\n",
    "#   <if>\n",
    "#    count=count+1\n",
    "\n",
    "count = 0\n",
    "num = eval(input(\"enter the Number which you want divisiors \"))\n",
    "for i in range(1,num + 1):\n",
    "    if num % i == 0 :\n",
    "        count = count + 1 \n",
    "print(f\" number of divisiors of {num} is =  {count}\")"
   ]
  },
  {
   "cell_type": "code",
   "execution_count": 7,
   "id": "ed89fa8b-bf50-4688-adfc-c39e7e0684eb",
   "metadata": {},
   "outputs": [
    {
     "name": "stdin",
     "output_type": "stream",
     "text": [
      "enter the number which you want divisors: 10\n"
     ]
    },
    {
     "name": "stdout",
     "output_type": "stream",
     "text": [
      "4\n"
     ]
    }
   ],
   "source": [
    "count=0\n",
    "num=eval(input(\"enter the number which you want divisors:\"))\n",
    "for i in range(1,num+1):\n",
    "    if num%i==0:\n",
    "        count=count+1\n",
    "print(count)\n",
    "\n",
    "# step-1:  count=0  num=10  i=1  if 10%1==0  True  count=0+1=1\n",
    "# step-2:  count=1  num=10  i=2  if 10%2==0  True  count=1+1=2\n",
    "# step-2:  count=2  num=10  i=3  if 10%3==0  False  \n",
    "\n",
    "# step-5:  count=2  num=10  i=5  if 10%5==0  T   count=2+1=3  "
   ]
  },
  {
   "cell_type": "code",
   "execution_count": null,
   "id": "519a9371-5a74-4c38-a819-8328f78d985a",
   "metadata": {},
   "outputs": [],
   "source": [
    "summ=0\n",
    "summ=summ+i\n",
    "\n",
    "count=0\n",
    "count=count+1"
   ]
  },
  {
   "cell_type": "code",
   "execution_count": 28,
   "id": "9f76e5c1-3bc0-4e8f-a9ac-3272db842381",
   "metadata": {},
   "outputs": [
    {
     "name": "stdout",
     "output_type": "stream",
     "text": [
      "5\n"
     ]
    },
    {
     "name": "stdin",
     "output_type": "stream",
     "text": [
      "Enter a nuumber:  6\n"
     ]
    },
    {
     "name": "stdout",
     "output_type": "stream",
     "text": [
      "you lost\n",
      "4\n"
     ]
    },
    {
     "name": "stdin",
     "output_type": "stream",
     "text": [
      "Enter a nuumber:  4\n"
     ]
    },
    {
     "name": "stdout",
     "output_type": "stream",
     "text": [
      "you won\n",
      "3\n"
     ]
    },
    {
     "name": "stdin",
     "output_type": "stream",
     "text": [
      "Enter a nuumber:  3\n"
     ]
    },
    {
     "name": "stdout",
     "output_type": "stream",
     "text": [
      "you won\n"
     ]
    }
   ],
   "source": [
    "# 10Q)\n",
    "# Ask the user enter one number from keyboard\n",
    "# ask the user get the second number randomly from 1 to 10\n",
    "# if num1 == num2  then print you won\n",
    "# otherwise print you lost\n",
    "# Iterate these lines 3 times\n",
    "\n",
    "import random\n",
    "for i in range(3):\n",
    "    num1=random.randint(1,10)\n",
    "    print(num1)\n",
    "    num2=eval(input(\"Enter a nuumber: \"))\n",
    "    if num1==num2:\n",
    "        print(\"you won\")\n",
    "    else:\n",
    "        print(\"you lost\")"
   ]
  },
  {
   "cell_type": "code",
   "execution_count": 29,
   "id": "39da72cd-aa98-4c54-b0ba-db150e21dd4e",
   "metadata": {},
   "outputs": [
    {
     "name": "stdout",
     "output_type": "stream",
     "text": [
      "2\n"
     ]
    },
    {
     "name": "stdin",
     "output_type": "stream",
     "text": [
      "Enter a nuumber:  3\n"
     ]
    },
    {
     "name": "stdout",
     "output_type": "stream",
     "text": [
      "you lost\n",
      "7\n"
     ]
    },
    {
     "name": "stdin",
     "output_type": "stream",
     "text": [
      "Enter a nuumber:  7\n"
     ]
    },
    {
     "name": "stdout",
     "output_type": "stream",
     "text": [
      "you won\n"
     ]
    }
   ],
   "source": [
    "# Case-1: \n",
    "import random\n",
    "for i in range(3):\n",
    "    num1=random.randint(1,10)\n",
    "    print(num1)\n",
    "    num2=eval(input(\"Enter a nuumber: \"))\n",
    "    if num1==num2:\n",
    "        print(\"you won\")\n",
    "        break\n",
    "    else:\n",
    "        print(\"you lost\")"
   ]
  },
  {
   "cell_type": "code",
   "execution_count": null,
   "id": "eac11b46-f408-4ec2-a249-30dd519a30c5",
   "metadata": {},
   "outputs": [],
   "source": [
    "# Case-2: give 5 chances\n",
    "# whenever fail print the number of chances left\n",
    "\n",
    "# case-3: Suppose your all chances are over\n",
    "#  print your account locked try after 24hours"
   ]
  },
  {
   "cell_type": "markdown",
   "id": "258177ac-c3fe-4712-9551-fa1dba0fd97b",
   "metadata": {},
   "source": [
    "**in operator**\n",
    "\n",
    "- There are two operators are in for loop\n",
    "\n",
    "- one is: **range** operator\n",
    "\n",
    "- Second one is: **in** operator\n",
    "\n",
    "- range operator mainly for numbers\n",
    "\n",
    "- in operator for charcters"
   ]
  },
  {
   "cell_type": "code",
   "execution_count": 2,
   "id": "34cf8cfe-997d-4300-98e9-b31cab6fa826",
   "metadata": {},
   "outputs": [
    {
     "data": {
      "text/plain": [
       "False"
      ]
     },
     "execution_count": 2,
     "metadata": {},
     "output_type": "execute_result"
    }
   ],
   "source": [
    "name='python'\n",
    "'p' in name\n",
    "'y' in name\n",
    "'t' in name\n",
    "'H' in name"
   ]
  },
  {
   "cell_type": "code",
   "execution_count": null,
   "id": "bdec003c-f86f-49aa-a8f2-bb7b99cd01fa",
   "metadata": {},
   "outputs": [],
   "source": [
    "name='python'\n",
    "'p' in name\n",
    "'y' in name\n",
    "'t' in name\n",
    "'h' in name\n",
    "'o' in name\n",
    "'n' in name\n",
    "\n",
    "i in name"
   ]
  },
  {
   "cell_type": "code",
   "execution_count": 3,
   "id": "740ff619-63d9-46c2-87f6-84e843b26e6d",
   "metadata": {},
   "outputs": [
    {
     "name": "stdout",
     "output_type": "stream",
     "text": [
      "p\n",
      "y\n",
      "t\n",
      "h\n",
      "o\n",
      "n\n"
     ]
    }
   ],
   "source": [
    "for i in name:\n",
    "    print(i)"
   ]
  },
  {
   "cell_type": "code",
   "execution_count": 4,
   "id": "d0f32c06-6a50-4efa-9f6c-2ffc88677207",
   "metadata": {},
   "outputs": [
    {
     "name": "stdout",
     "output_type": "stream",
     "text": [
      "n\n",
      "a\n",
      "m\n",
      "e\n"
     ]
    }
   ],
   "source": [
    "for i in 'name':\n",
    "    print(i)"
   ]
  },
  {
   "cell_type": "code",
   "execution_count": 5,
   "id": "c8e25a40-7ea1-4686-b945-53a35350d299",
   "metadata": {},
   "outputs": [
    {
     "name": "stdout",
     "output_type": "stream",
     "text": [
      "p y t h o n "
     ]
    }
   ],
   "source": [
    "for i in name:\n",
    "    print(i,end=' ')"
   ]
  },
  {
   "cell_type": "code",
   "execution_count": 6,
   "id": "4df2d606-273a-4c68-817b-537fcf65e7cb",
   "metadata": {},
   "outputs": [
    {
     "data": {
      "text/plain": [
       "False"
      ]
     },
     "execution_count": 6,
     "metadata": {},
     "output_type": "execute_result"
    }
   ],
   "source": [
    "'A'=='a'"
   ]
  },
  {
   "cell_type": "code",
   "execution_count": 7,
   "id": "173c6a05-3603-4cf0-aa11-551207fd5bf6",
   "metadata": {},
   "outputs": [
    {
     "data": {
      "text/plain": [
       "False"
      ]
     },
     "execution_count": 7,
     "metadata": {},
     "output_type": "execute_result"
    }
   ],
   "source": [
    "'A'>'a'"
   ]
  },
  {
   "cell_type": "code",
   "execution_count": 9,
   "id": "d4087930-1b8e-41c4-8bf9-2311965a2204",
   "metadata": {},
   "outputs": [
    {
     "data": {
      "text/plain": [
       "True"
      ]
     },
     "execution_count": 9,
     "metadata": {},
     "output_type": "execute_result"
    }
   ],
   "source": [
    "'a'>'A'"
   ]
  },
  {
   "cell_type": "markdown",
   "id": "f87092fe-e915-4ae1-8090-b322b8b58541",
   "metadata": {},
   "source": [
    "**ASCII**\n",
    "\n",
    "- American standard Code for Information Intercahnge"
   ]
  },
  {
   "cell_type": "code",
   "execution_count": null,
   "id": "eb3abd48-9eb6-4ad0-96e5-bd5dd186db74",
   "metadata": {},
   "outputs": [],
   "source": [
    "'A': 65  'B': 66\n",
    "'a':97"
   ]
  },
  {
   "cell_type": "markdown",
   "id": "fad9e75c-c381-4e8b-888c-2b0653c04a86",
   "metadata": {},
   "source": [
    "**ord-chr**\n",
    "\n",
    "- ord is the keyword which provides ASCII number of Charecters\n",
    "\n",
    "- char is the keyword which provides charecters for given ASCII number"
   ]
  },
  {
   "cell_type": "code",
   "execution_count": 11,
   "id": "7a8953cf-f32d-40e9-9203-af408200ffde",
   "metadata": {},
   "outputs": [
    {
     "data": {
      "text/plain": [
       "(65, 97)"
      ]
     },
     "execution_count": 11,
     "metadata": {},
     "output_type": "execute_result"
    }
   ],
   "source": [
    "ord('A'), ord('a')"
   ]
  },
  {
   "cell_type": "code",
   "execution_count": 13,
   "id": "ecbeb7da-d10c-4ac0-b910-948f38655df7",
   "metadata": {},
   "outputs": [
    {
     "data": {
      "text/plain": [
       "('A', 'a')"
      ]
     },
     "execution_count": 13,
     "metadata": {},
     "output_type": "execute_result"
    }
   ],
   "source": [
    "chr(65),chr(97)"
   ]
  },
  {
   "cell_type": "code",
   "execution_count": null,
   "id": "825e44b2-24f2-4907-96d3-9c62d5f4cb62",
   "metadata": {},
   "outputs": [],
   "source": [
    "# I want to print all ascii number of A to Z\n",
    "# using for loop\n",
    "ord('A')\n",
    "ord('B')\n",
    "ord('C')\n",
    "\n",
    "ord(i)"
   ]
  },
  {
   "cell_type": "markdown",
   "id": "00b5f34f-9fba-4388-ade2-ee630beb9f0b",
   "metadata": {},
   "source": [
    "**PACKAGE NAME: strings**"
   ]
  },
  {
   "cell_type": "code",
   "execution_count": 15,
   "id": "29861b3d-6139-48e3-bd6f-92567650a4da",
   "metadata": {},
   "outputs": [
    {
     "name": "stdout",
     "output_type": "stream",
     "text": [
      "A 65\n",
      "B 66\n",
      "C 67\n",
      "D 68\n",
      "E 69\n",
      "F 70\n",
      "G 71\n",
      "H 72\n",
      "I 73\n",
      "J 74\n",
      "K 75\n",
      "L 76\n",
      "M 77\n",
      "N 78\n",
      "O 79\n",
      "P 80\n",
      "Q 81\n",
      "R 82\n",
      "S 83\n",
      "T 84\n",
      "U 85\n",
      "V 86\n",
      "W 87\n",
      "X 88\n",
      "Y 89\n",
      "Z 90\n"
     ]
    }
   ],
   "source": [
    "for i in 'ABCDEFGHIJKLMNOPQRSTUVWXYZ':\n",
    "    print(i,ord(i))"
   ]
  },
  {
   "cell_type": "code",
   "execution_count": null,
   "id": "c32e9ac7-8a1b-4f74-87cd-76b393c3fac3",
   "metadata": {},
   "outputs": [],
   "source": [
    "# package name:string\n",
    "# import <package name>\n",
    "# dir(<packagename>)\n",
    "# any method \n",
    "# <packagename>.<methodname>"
   ]
  },
  {
   "cell_type": "code",
   "execution_count": 16,
   "id": "b65d562a-c94c-40dd-bf53-eafe44b9c323",
   "metadata": {},
   "outputs": [],
   "source": [
    "import string"
   ]
  },
  {
   "cell_type": "code",
   "execution_count": 17,
   "id": "b21a5453-4d8e-4553-96ad-1b44c40c237a",
   "metadata": {},
   "outputs": [
    {
     "data": {
      "text/plain": [
       "['Formatter',\n",
       " 'Template',\n",
       " '_ChainMap',\n",
       " '__all__',\n",
       " '__builtins__',\n",
       " '__cached__',\n",
       " '__doc__',\n",
       " '__file__',\n",
       " '__loader__',\n",
       " '__name__',\n",
       " '__package__',\n",
       " '__spec__',\n",
       " '_re',\n",
       " '_sentinel_dict',\n",
       " '_string',\n",
       " 'ascii_letters',\n",
       " 'ascii_lowercase',\n",
       " 'ascii_uppercase',\n",
       " 'capwords',\n",
       " 'digits',\n",
       " 'hexdigits',\n",
       " 'octdigits',\n",
       " 'printable',\n",
       " 'punctuation',\n",
       " 'whitespace']"
      ]
     },
     "execution_count": 17,
     "metadata": {},
     "output_type": "execute_result"
    }
   ],
   "source": [
    "dir(string)"
   ]
  },
  {
   "cell_type": "code",
   "execution_count": 18,
   "id": "ba6e7e62-8406-4c01-9c8b-f6327b603fcc",
   "metadata": {},
   "outputs": [
    {
     "data": {
      "text/plain": [
       "'abcdefghijklmnopqrstuvwxyzABCDEFGHIJKLMNOPQRSTUVWXYZ'"
      ]
     },
     "execution_count": 18,
     "metadata": {},
     "output_type": "execute_result"
    }
   ],
   "source": [
    "string.ascii_letters"
   ]
  },
  {
   "cell_type": "code",
   "execution_count": 19,
   "id": "2bb91245-2dd2-485d-86ac-fe7c9430da3b",
   "metadata": {},
   "outputs": [
    {
     "data": {
      "text/plain": [
       "'abcdefghijklmnopqrstuvwxyz'"
      ]
     },
     "execution_count": 19,
     "metadata": {},
     "output_type": "execute_result"
    }
   ],
   "source": [
    "string.ascii_lowercase"
   ]
  },
  {
   "cell_type": "code",
   "execution_count": 20,
   "id": "1ff7ec11-b440-4932-84fe-971813087421",
   "metadata": {},
   "outputs": [
    {
     "data": {
      "text/plain": [
       "'ABCDEFGHIJKLMNOPQRSTUVWXYZ'"
      ]
     },
     "execution_count": 20,
     "metadata": {},
     "output_type": "execute_result"
    }
   ],
   "source": [
    "string.ascii_uppercase"
   ]
  },
  {
   "cell_type": "code",
   "execution_count": 21,
   "id": "ee328f7e-2c3b-4808-a348-492783f1dbba",
   "metadata": {},
   "outputs": [
    {
     "name": "stdout",
     "output_type": "stream",
     "text": [
      "The ASCII value of A is 65\n",
      "The ASCII value of B is 66\n",
      "The ASCII value of C is 67\n",
      "The ASCII value of D is 68\n",
      "The ASCII value of E is 69\n",
      "The ASCII value of F is 70\n",
      "The ASCII value of G is 71\n",
      "The ASCII value of H is 72\n",
      "The ASCII value of I is 73\n",
      "The ASCII value of J is 74\n",
      "The ASCII value of K is 75\n",
      "The ASCII value of L is 76\n",
      "The ASCII value of M is 77\n",
      "The ASCII value of N is 78\n",
      "The ASCII value of O is 79\n",
      "The ASCII value of P is 80\n",
      "The ASCII value of Q is 81\n",
      "The ASCII value of R is 82\n",
      "The ASCII value of S is 83\n",
      "The ASCII value of T is 84\n",
      "The ASCII value of U is 85\n",
      "The ASCII value of V is 86\n",
      "The ASCII value of W is 87\n",
      "The ASCII value of X is 88\n",
      "The ASCII value of Y is 89\n",
      "The ASCII value of Z is 90\n"
     ]
    }
   ],
   "source": [
    "for i in string.ascii_uppercase:\n",
    "    print(f\"The ASCII value of {i} is {ord(i)}\")"
   ]
  },
  {
   "cell_type": "code",
   "execution_count": 26,
   "id": "1e6a6204-c509-4a8c-8b99-f79fd7f4750e",
   "metadata": {},
   "outputs": [
    {
     "name": "stdout",
     "output_type": "stream",
     "text": [
      "33:! 34:\" 35:# 36:$ 37:% 38:& 39:' 40:( 41:) 42:* 43:+ 44:, 45:- 46:. 47:/ 48:0 49:1 50:2 51:3 52:4 53:5 54:6 55:7 56:8 57:9 58:: 59:; 60:< 61:= 62:> 63:? 64:@ 65:A 66:B 67:C 68:D 69:E 70:F 71:G 72:H 73:I 74:J 75:K 76:L 77:M 78:N 79:O 80:P 81:Q 82:R 83:S 84:T 85:U 86:V 87:W 88:X 89:Y 90:Z 91:[ 92:\\ 93:] 94:^ 95:_ 96:` 97:a 98:b 99:c 100:d 101:e 102:f 103:g 104:h 105:i 106:j 107:k 108:l 109:m 110:n 111:o 112:p 113:q 114:r 115:s 116:t 117:u 118:v 119:w 120:x 121:y 122:z 123:{ 124:| 125:} 126:~ "
     ]
    }
   ],
   "source": [
    "# I want to know ho many ascii number are available\n",
    "#65 -90  A -Z\n",
    "#97 -122 a-z\n",
    "\n",
    "for i in range(33,127):\n",
    "    print(f\"{i}:{chr(i)}\",end=' ')"
   ]
  },
  {
   "cell_type": "code",
   "execution_count": 28,
   "id": "05416d08-4ced-4f5a-8fe5-8646c155b912",
   "metadata": {},
   "outputs": [
    {
     "name": "stdout",
     "output_type": "stream",
     "text": [
      "3077:అ 3078:ఆ 3079:ఇ 3080:ఈ 3081:ఉ 3082:ఊ 3083:ఋ 3084:ఌ 3085:఍ 3086:ఎ 3087:ఏ 3088:ఐ 3089:఑ 3090:ఒ 3091:ఓ 3092:ఔ 3093:క 3094:ఖ 3095:గ 3096:ఘ 3097:ఙ 3098:చ 3099:ఛ 3100:జ 3101:ఝ 3102:ఞ 3103:ట 3104:ఠ 3105:డ 3106:ఢ 3107:ణ 3108:త 3109:థ 3110:ద 3111:ధ 3112:న 3113:఩ 3114:ప 3115:ఫ 3116:బ 3117:భ 3118:మ 3119:య 3120:ర 3121:ఱ 3122:ల 3123:ళ 3124:ఴ 3125:వ 3126:శ 3127:ష 3128:స 3129:హ 3130:఺ 3131:఻ 3132:఼ 3133:ఽ 3134:ా 3135:ి 3136:ీ 3137:ు 3138:ూ 3139:ృ 3140:ౄ 3141:౅ 3142:ె 3143:ే 3144:ై 3145:౉ 3146:ొ 3147:ో 3148:ౌ 3149:్ 3150:౎ 3151:౏ 3152:౐ 3153:౑ 3154:౒ 3155:౓ 3156:౔ 3157:ౕ 3158:ౖ 3159:౗ 3160:ౘ 3161:ౙ 3162:ౚ 3163:౛ 3164:౜ 3165:ౝ 3166:౞ 3167:౟ 3168:ౠ 3169:ౡ 3170:ౢ 3171:ౣ 3172:౤ 3173:౥ 3174:౦ 3175:౧ 3176:౨ 3177:౩ 3178:౪ 3179:౫ 3180:౬ 3181:౭ 3182:౮ 3183:౯ 3184:౰ 3185:౱ 3186:౲ 3187:౳ 3188:౴ 3189:౵ 3190:౶ 3191:౷ 3192:౸ 3193:౹ 3194:౺ 3195:౻ 3196:౼ 3197:౽ 3198:౾ 3199:౿ 3200:ಀ 3201:ಁ 3202:ಂ 3203:ಃ 3204:಄ 3205:ಅ 3206:ಆ 3207:ಇ 3208:ಈ 3209:ಉ 3210:ಊ 3211:ಋ 3212:ಌ 3213:಍ 3214:ಎ 3215:ಏ 3216:ಐ 3217:಑ 3218:ಒ 3219:ಓ 3220:ಔ 3221:ಕ 3222:ಖ 3223:ಗ 3224:ಘ 3225:ಙ 3226:ಚ 3227:ಛ 3228:ಜ 3229:ಝ 3230:ಞ 3231:ಟ 3232:ಠ 3233:ಡ 3234:ಢ 3235:ಣ 3236:ತ 3237:ಥ 3238:ದ 3239:ಧ 3240:ನ 3241:಩ 3242:ಪ 3243:ಫ 3244:ಬ 3245:ಭ 3246:ಮ 3247:ಯ 3248:ರ 3249:ಱ 3250:ಲ 3251:ಳ 3252:಴ 3253:ವ 3254:ಶ 3255:ಷ 3256:ಸ 3257:ಹ 3258:಺ 3259:಻ 3260:಼ 3261:ಽ 3262:ಾ 3263:ಿ 3264:ೀ 3265:ು 3266:ೂ 3267:ೃ 3268:ೄ 3269:೅ 3270:ೆ 3271:ೇ 3272:ೈ 3273:೉ 3274:ೊ 3275:ೋ 3276:ೌ 3277:್ 3278:೎ 3279:೏ 3280:೐ 3281:೑ 3282:೒ 3283:೓ 3284:೔ 3285:ೕ 3286:ೖ 3287:೗ 3288:೘ 3289:೙ 3290:೚ 3291:೛ 3292:೜ 3293:ೝ 3294:ೞ 3295:೟ 3296:ೠ 3297:ೡ 3298:ೢ 3299:ೣ 3300:೤ 3301:೥ 3302:೦ 3303:೧ 3304:೨ 3305:೩ 3306:೪ 3307:೫ 3308:೬ 3309:೭ 3310:೮ 3311:೯ 3312:೰ 3313:ೱ 3314:ೲ 3315:ೳ 3316:೴ 3317:೵ 3318:೶ 3319:೷ 3320:೸ 3321:೹ 3322:೺ 3323:೻ 3324:೼ 3325:೽ 3326:೾ 3327:೿ 3328:ഀ 3329:ഁ 3330:ം 3331:ഃ 3332:ഄ 3333:അ 3334:ആ 3335:ഇ 3336:ഈ 3337:ഉ 3338:ഊ 3339:ഋ 3340:ഌ 3341:഍ 3342:എ 3343:ഏ 3344:ഐ 3345:഑ 3346:ഒ 3347:ഓ 3348:ഔ 3349:ക 3350:ഖ 3351:ഗ 3352:ഘ 3353:ങ 3354:ച 3355:ഛ 3356:ജ 3357:ഝ 3358:ഞ 3359:ട 3360:ഠ 3361:ഡ 3362:ഢ 3363:ണ 3364:ത 3365:ഥ 3366:ദ 3367:ധ 3368:ന 3369:ഩ 3370:പ 3371:ഫ 3372:ബ 3373:ഭ 3374:മ 3375:യ 3376:ര 3377:റ 3378:ല 3379:ള 3380:ഴ 3381:വ 3382:ശ 3383:ഷ 3384:സ 3385:ഹ 3386:ഺ 3387:഻ 3388:഼ 3389:ഽ 3390:ാ 3391:ി 3392:ീ 3393:ു 3394:ൂ 3395:ൃ 3396:ൄ 3397:൅ 3398:െ 3399:േ 3400:ൈ 3401:൉ 3402:ൊ 3403:ോ 3404:ൌ 3405:് 3406:ൎ 3407:൏ 3408:൐ 3409:൑ 3410:൒ 3411:൓ 3412:ൔ 3413:ൕ 3414:ൖ 3415:ൗ 3416:൘ 3417:൙ 3418:൚ "
     ]
    }
   ],
   "source": [
    "for i in range(3077,3419):\n",
    "    print(f\"{i}:{chr(i)}\",end=' ')"
   ]
  },
  {
   "cell_type": "code",
   "execution_count": null,
   "id": "bb332a85-f6a9-4188-b4f6-bffad0511ea1",
   "metadata": {},
   "outputs": [],
   "source": [
    "import string\n",
    "string.ascii_uppercase"
   ]
  },
  {
   "cell_type": "code",
   "execution_count": null,
   "id": "3afb6046-cf64-4d44-b755-e21cccc2a7fd",
   "metadata": {},
   "outputs": [],
   "source": [
    "string='mohith'\n",
    "string.asc"
   ]
  }
 ],
 "metadata": {
  "kernelspec": {
   "display_name": "Python 3 (ipykernel)",
   "language": "python",
   "name": "python3"
  },
  "language_info": {
   "codemirror_mode": {
    "name": "ipython",
    "version": 3
   },
   "file_extension": ".py",
   "mimetype": "text/x-python",
   "name": "python",
   "nbconvert_exporter": "python",
   "pygments_lexer": "ipython3",
   "version": "3.11.7"
  }
 },
 "nbformat": 4,
 "nbformat_minor": 5
}
