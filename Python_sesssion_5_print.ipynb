{
 "cells": [
  {
   "cell_type": "code",
   "execution_count": null,
   "id": "d6026183-4b54-4c4f-9ddd-cd29b37be323",
   "metadata": {},
   "outputs": [],
   "source": [
    "# Print is used to see some answers\n",
    "# In jupyter notebook we no need to provide print statement in order to see answer\n",
    "# If more than two answers are there we can check all answers using print statment"
   ]
  },
  {
   "cell_type": "code",
   "execution_count": 1,
   "id": "c3056ee9-2261-4b22-807e-9b50426c8d1c",
   "metadata": {},
   "outputs": [
    {
     "data": {
      "text/plain": [
       "10"
      ]
     },
     "execution_count": 1,
     "metadata": {},
     "output_type": "execute_result"
    }
   ],
   "source": [
    "a=10\n",
    "a"
   ]
  },
  {
   "cell_type": "code",
   "execution_count": 2,
   "id": "9530d04f-b472-4da4-b997-3e18f2f00c50",
   "metadata": {},
   "outputs": [
    {
     "name": "stdout",
     "output_type": "stream",
     "text": [
      "10\n"
     ]
    }
   ],
   "source": [
    "print(a)"
   ]
  },
  {
   "cell_type": "code",
   "execution_count": 3,
   "id": "9699c8ec-bc34-4b5e-afd2-aec573cdb816",
   "metadata": {},
   "outputs": [
    {
     "data": {
      "text/plain": [
       "20"
      ]
     },
     "execution_count": 3,
     "metadata": {},
     "output_type": "execute_result"
    }
   ],
   "source": [
    "a=10\n",
    "b=20\n",
    "a\n",
    "b"
   ]
  },
  {
   "cell_type": "code",
   "execution_count": 4,
   "id": "1d680658-1b2f-4f8a-af63-d3099d2da4bc",
   "metadata": {},
   "outputs": [
    {
     "name": "stdout",
     "output_type": "stream",
     "text": [
      "10\n",
      "20\n"
     ]
    }
   ],
   "source": [
    "a=10\n",
    "b=20\n",
    "print(a)\n",
    "print(b)"
   ]
  },
  {
   "cell_type": "code",
   "execution_count": 5,
   "id": "8b279a14-4368-4e35-8f93-4f3973b63088",
   "metadata": {},
   "outputs": [
    {
     "name": "stdout",
     "output_type": "stream",
     "text": [
      "10\n",
      "10 20\n",
      "python\n",
      "10 20 python\n"
     ]
    }
   ],
   "source": [
    "print(10)\n",
    "print(10,20)\n",
    "print('python')\n",
    "print(10,20,'python')"
   ]
  },
  {
   "cell_type": "code",
   "execution_count": 7,
   "id": "9cf80473-e256-41a7-9a5e-7ba152f5f82d",
   "metadata": {},
   "outputs": [
    {
     "name": "stdout",
     "output_type": "stream",
     "text": [
      "50\n",
      "50\n"
     ]
    },
    {
     "ename": "TypeError",
     "evalue": "'add' is an invalid keyword argument for print()",
     "output_type": "error",
     "traceback": [
      "\u001b[1;31m---------------------------------------------------------------------------\u001b[0m",
      "\u001b[1;31mTypeError\u001b[0m                                 Traceback (most recent call last)",
      "Cell \u001b[1;32mIn[7], line 6\u001b[0m\n\u001b[0;32m      4\u001b[0m \u001b[38;5;28mprint\u001b[39m(num1\u001b[38;5;241m+\u001b[39mnum2)\n\u001b[0;32m      5\u001b[0m \u001b[38;5;28mprint\u001b[39m(add)\n\u001b[1;32m----> 6\u001b[0m \u001b[38;5;28mprint\u001b[39m(add\u001b[38;5;241m=\u001b[39mnum1\u001b[38;5;241m+\u001b[39mnum2)\n",
      "\u001b[1;31mTypeError\u001b[0m: 'add' is an invalid keyword argument for print()"
     ]
    }
   ],
   "source": [
    "num1=20\n",
    "num2=30\n",
    "add=num1+num2\n",
    "print(num1+num2)\n",
    "print(add)\n",
    "print(add=num1+num2)  # Not works\n",
    "# the addition of 20 and 30 is 50"
   ]
  },
  {
   "cell_type": "code",
   "execution_count": 23,
   "id": "79dd98e6-0816-47a2-9876-4c8a65c02844",
   "metadata": {},
   "outputs": [
    {
     "name": "stdout",
     "output_type": "stream",
     "text": [
      "the addition of 200 and 30 is 230\n"
     ]
    }
   ],
   "source": [
    "num1=200\n",
    "num2=30\n",
    "add=num1+num2\n",
    "print(\"the addition of\",num1,'and',num2,'is',add)"
   ]
  },
  {
   "cell_type": "code",
   "execution_count": 35,
   "id": "cb1b1bf2-95ca-443e-bb61-bd154c70aa99",
   "metadata": {},
   "outputs": [
    {
     "name": "stdout",
     "output_type": "stream",
     "text": [
      "hello my name is python , im 10 years old from hyd\n"
     ]
    }
   ],
   "source": [
    "name='python'\n",
    "age=10\n",
    "city='hyd'\n",
    "# hello my name is python, im 10 years old from hyd\n",
    "print(\"hello my name is\",name,',','im',age,'years old from',city)"
   ]
  },
  {
   "cell_type": "markdown",
   "id": "d2800e6f-2785-4d50-ad29-8be06a6b279f",
   "metadata": {},
   "source": [
    "**format**"
   ]
  },
  {
   "cell_type": "code",
   "execution_count": 33,
   "id": "5975463d-7bf5-48e1-bdf3-caa9310d966b",
   "metadata": {},
   "outputs": [
    {
     "name": "stdout",
     "output_type": "stream",
     "text": [
      "the addition of 200 and 300 is 500\n",
      "the addition of 200 and 300 is 500\n"
     ]
    }
   ],
   "source": [
    "num1=200\n",
    "num2=300\n",
    "add=num1+num2\n",
    "print(\"the addition of\",num1,'and',num2,'is',add)\n",
    "print(\"the addition of {} and {} is {}\".format(num1,num2,add))"
   ]
  },
  {
   "cell_type": "markdown",
   "id": "da1d24ee-d9e7-48c9-adb1-005e9d1201d0",
   "metadata": {},
   "source": [
    "- First decide how the print statement should be\n",
    "\n",
    "- Then replace the variables postition as curly braces\n",
    "\n",
    "- Then apply .format method"
   ]
  },
  {
   "cell_type": "code",
   "execution_count": 38,
   "id": "2169a746-85d3-4de7-b42f-f2a77a5e7aae",
   "metadata": {},
   "outputs": [
    {
     "name": "stdout",
     "output_type": "stream",
     "text": [
      "the addition of 200 , 300 is: 500\n"
     ]
    }
   ],
   "source": [
    "num1=200\n",
    "num2=300\n",
    "add=num1+num2\n",
    "print(\"the addition of {} , {} is: {}\".format(num1,num2,add))"
   ]
  },
  {
   "cell_type": "code",
   "execution_count": 41,
   "id": "2fa9622a-f12c-4c4a-bdb1-17a350f0cc15",
   "metadata": {},
   "outputs": [
    {
     "name": "stdout",
     "output_type": "stream",
     "text": [
      "hello my name is python, im 10 years old from hyd\n",
      "hello my name is hyd, im 10 years old from python\n"
     ]
    }
   ],
   "source": [
    "name='python'\n",
    "age=10\n",
    "city='hyd'\n",
    "print(\"hello my name is python, im 10 years old from hyd\")\n",
    "print(\"hello my name is {}, im {} years old from {}\".format(city,age,name))"
   ]
  },
  {
   "cell_type": "code",
   "execution_count": 50,
   "id": "4bf3a766-8b60-41a3-8abe-105c0ec750c7",
   "metadata": {},
   "outputs": [
    {
     "name": "stdout",
     "output_type": "stream",
     "text": [
      "the average of num1 ,num2 and num3 is : avg\n",
      "the average of 100,22 and 30 is :50.666666666666664\n"
     ]
    }
   ],
   "source": [
    "num1=100\n",
    "num2=22\n",
    "num3=30\n",
    "avg=(num1+num2+num3)/3\n",
    "\n",
    "print(\"the average of num1 ,num2 and num3 is : avg\")\n",
    "print(\"the average of {},{} and {} is :{}\".format(num1,num2,num3,avg))"
   ]
  },
  {
   "cell_type": "markdown",
   "id": "4cf1b96f-06d7-4b60-8254-983f1ff73980",
   "metadata": {},
   "source": [
    "**round**"
   ]
  },
  {
   "cell_type": "code",
   "execution_count": 57,
   "id": "c8f47336-21ed-45ad-8eac-78b04ad42140",
   "metadata": {},
   "outputs": [
    {
     "data": {
      "text/plain": [
       "125.68"
      ]
     },
     "execution_count": 57,
     "metadata": {},
     "output_type": "execute_result"
    }
   ],
   "source": [
    "val=125.6789\n",
    "round(val,2)"
   ]
  },
  {
   "cell_type": "code",
   "execution_count": null,
   "id": "34f4393e-edf1-4dcd-a8c0-06f984af30ef",
   "metadata": {},
   "outputs": [],
   "source": [
    "n1=5\n",
    "n2=10\n",
    "n3=15\n",
    "avg= (n1+n2+n3/3)\n",
    "print('The average of {} and {} aand {} is {}'.format(n1,n2,n3,avg))"
   ]
  },
  {
   "cell_type": "code",
   "execution_count": 60,
   "id": "2f960ec4-4054-4730-adc5-09d9cf1657dc",
   "metadata": {},
   "outputs": [
    {
     "name": "stdout",
     "output_type": "stream",
     "text": [
      "the average of num1 ,num2 and num3 is : avg\n",
      "the average of 100,22 and 30 is :50.67\n"
     ]
    }
   ],
   "source": [
    "num1=100\n",
    "num2=22\n",
    "num3=30\n",
    "avg=(num1+num2+num3)/3\n",
    "avg1=round(avg,2)\n",
    "\n",
    "print(\"the average of num1 ,num2 and num3 is : avg\")\n",
    "print(\"the average of {},{} and {} is :{}\".format(num1,num2,num3,avg1))"
   ]
  },
  {
   "cell_type": "code",
   "execution_count": 61,
   "id": "43306aa5-f47b-4f91-94b3-016fc44fd385",
   "metadata": {},
   "outputs": [
    {
     "name": "stdout",
     "output_type": "stream",
     "text": [
      "The average of 5 and 10 mariyu 15  is 10.0\n"
     ]
    }
   ],
   "source": [
    "n1=5\n",
    "n2=10\n",
    "n3=15\n",
    "avg= (n1+n2+n3)/3\n",
    "print('The average of {} and {} mariyu {}  is {}'.format(n1,n2,n3,avg))"
   ]
  },
  {
   "cell_type": "markdown",
   "id": "e6d33c6b-b6bd-4226-a0b5-e22da04e61ff",
   "metadata": {},
   "source": [
    "**f string method**\n",
    "\n",
    "- variables should be inside curly braces\n",
    "\n",
    "- and write everything inside quotes\n",
    "\n",
    "- at starting simply add f"
   ]
  },
  {
   "cell_type": "code",
   "execution_count": 66,
   "id": "a5f32f75-745a-4394-80ec-2bbcc23ce664",
   "metadata": {},
   "outputs": [
    {
     "name": "stdout",
     "output_type": "stream",
     "text": [
      "the addition of 200 , 300 is: 500\n"
     ]
    }
   ],
   "source": [
    "num1=200\n",
    "num2=300\n",
    "add=num1+num2\n",
    "print(f\"the addition of {num1} , {num2} is: {add}\")"
   ]
  },
  {
   "cell_type": "code",
   "execution_count": 67,
   "id": "907653bd-fbec-4a5b-bf63-68298b687650",
   "metadata": {},
   "outputs": [
    {
     "name": "stdout",
     "output_type": "stream",
     "text": [
      "the average of 100,200 and 300 is 200.0\n"
     ]
    }
   ],
   "source": [
    "num1=100\n",
    "num2=200\n",
    "num3=300\n",
    "avg=(num1+num2+num3)/3\n",
    "print (\"the average of {},{} and {} is {}\".format(num1,num2,num3,avg))"
   ]
  },
  {
   "cell_type": "markdown",
   "id": "f65ce9cb-dadc-4aba-a742-3b060a44a09f",
   "metadata": {},
   "source": [
    "f string method is the best method for realtime"
   ]
  },
  {
   "cell_type": "code",
   "execution_count": 70,
   "id": "a5f3684e-d263-4609-bd3f-059940594a2a",
   "metadata": {},
   "outputs": [
    {
     "name": "stdout",
     "output_type": "stream",
     "text": [
      "the average of 100,200 and 300 is 200.0\n"
     ]
    }
   ],
   "source": [
    "num1=100\n",
    "num2=200\n",
    "num3=300\n",
    "avg=(num1+num2+num3)/3\n",
    "print (f\"the average of {num1},{num2} and {num3} is {avg}\")"
   ]
  },
  {
   "cell_type": "code",
   "execution_count": 72,
   "id": "0c45e5cd-93c5-4525-b52d-9b3210849a78",
   "metadata": {},
   "outputs": [
    {
     "name": "stdout",
     "output_type": "stream",
     "text": [
      "hello my name is,python,im,10,years old from,hyd\n"
     ]
    }
   ],
   "source": [
    "print(f\"hello my name is,{name},im,{age},years old from,{city}\")"
   ]
  },
  {
   "cell_type": "code",
   "execution_count": null,
   "id": "2540c2bb-e3a1-48b2-bbd8-50ecccdf84db",
   "metadata": {},
   "outputs": [],
   "source": [
    "num1=200\n",
    "num2=30\n",
    "add=num1+num2\n",
    "print(\"the addition of\",num1,'and',num2,'is',add)\n",
    "\n",
    "num1=200\n",
    "num2=300\n",
    "add=num1+num2\n",
    "print(\"the addition of {} , {} is: {}\".format(num1,num2,add))\n",
    "\n",
    "num1=200\n",
    "num2=300\n",
    "add=num1+num2\n",
    "print(f\"the addition of {num1} , {num2} is: {add}\")"
   ]
  },
  {
   "cell_type": "markdown",
   "id": "78d3b617-ef66-4518-9d0d-5b84d9a2bbdc",
   "metadata": {},
   "source": [
    "**end**"
   ]
  },
  {
   "cell_type": "code",
   "execution_count": 76,
   "id": "2d3dddd5-f0da-4d1d-8fad-2ce9e5d1421e",
   "metadata": {},
   "outputs": [
    {
     "name": "stdout",
     "output_type": "stream",
     "text": [
      "hello good morning\n"
     ]
    }
   ],
   "source": [
    "print('hello',end=' ')  # 1\n",
    "print('good morning') # 2   \n",
    "\n",
    "# hello good morning"
   ]
  },
  {
   "cell_type": "code",
   "execution_count": 83,
   "id": "3d5db0d0-a6e3-4fcb-8e9d-8b5dc412ee66",
   "metadata": {},
   "outputs": [
    {
     "name": "stdout",
     "output_type": "stream",
     "text": [
      "1@2python3\n"
     ]
    }
   ],
   "source": [
    "print(1,end=' ')\n",
    "print(2,end=' ')\n",
    "print(3)\n",
    "\n",
    "# 1 2 3"
   ]
  },
  {
   "cell_type": "markdown",
   "id": "9c8a7e96-3890-40c7-a9be-43bc9bdb77dd",
   "metadata": {},
   "source": [
    "**sep**\n",
    "\n",
    "- One print statement only\n",
    "\n",
    "- In side one print statement we have multiple values\n",
    "\n",
    "- I want to seperate these multiple values with anything"
   ]
  },
  {
   "cell_type": "code",
   "execution_count": 86,
   "id": "7b5123cb-390f-4d77-ad7b-7311108e5075",
   "metadata": {},
   "outputs": [
    {
     "name": "stdout",
     "output_type": "stream",
     "text": [
      "hello hai\n"
     ]
    }
   ],
   "source": [
    "print(\"hello\",\"hai\",sep=' ')\n",
    "# hello & hai"
   ]
  },
  {
   "cell_type": "code",
   "execution_count": 89,
   "id": "c78c2cc9-da75-4007-856e-62faf319d37a",
   "metadata": {},
   "outputs": [
    {
     "name": "stdout",
     "output_type": "stream",
     "text": [
      "3 .\n"
     ]
    }
   ],
   "source": [
    "print(3,'.')"
   ]
  },
  {
   "cell_type": "code",
   "execution_count": 92,
   "id": "619293b4-f031-4fdd-9e6a-bdc4ed2d5e5f",
   "metadata": {},
   "outputs": [
    {
     "name": "stdout",
     "output_type": "stream",
     "text": [
      "3.\n"
     ]
    }
   ],
   "source": [
    "print(3,'.',sep='')"
   ]
  },
  {
   "cell_type": "markdown",
   "id": "3b696942-14ee-4761-92be-b2aea826bcbc",
   "metadata": {},
   "source": [
    "- format\n",
    "\n",
    "- f\n",
    "\n",
    "- end\n",
    "\n",
    "   - multiple print statments\n",
    "\n",
    "- sep\n",
    "\n",
    "  - single print, multiple values"
   ]
  },
  {
   "cell_type": "code",
   "execution_count": 101,
   "id": "7eb2ffba-aa30-45b4-a909-ee800cce18da",
   "metadata": {},
   "outputs": [
    {
     "name": "stdout",
     "output_type": "stream",
     "text": [
      "1 2 3 .\n"
     ]
    }
   ],
   "source": [
    "print(1,2,3,'.')"
   ]
  },
  {
   "cell_type": "code",
   "execution_count": 106,
   "id": "9d5b976a-632a-4f01-90e3-3c48c70eed76",
   "metadata": {},
   "outputs": [
    {
     "name": "stdout",
     "output_type": "stream",
     "text": [
      "1,2,3,.\n"
     ]
    }
   ],
   "source": [
    "print(1,2,3,'.',sep='')"
   ]
  },
  {
   "cell_type": "code",
   "execution_count": 105,
   "id": "45cdd44e-9b01-41c9-af99-8413252f18db",
   "metadata": {},
   "outputs": [
    {
     "name": "stdout",
     "output_type": "stream",
     "text": [
      "1 2 3.\n"
     ]
    }
   ],
   "source": [
    "print(1,2,end=' ')\n",
    "print(3,'.',sep='')"
   ]
  },
  {
   "cell_type": "code",
   "execution_count": null,
   "id": "f4ca84d1-a899-4c32-a46a-9cfbd8175cd0",
   "metadata": {},
   "outputs": [],
   "source": []
  }
 ],
 "metadata": {
  "kernelspec": {
   "display_name": "Python 3 (ipykernel)",
   "language": "python",
   "name": "python3"
  },
  "language_info": {
   "codemirror_mode": {
    "name": "ipython",
    "version": 3
   },
   "file_extension": ".py",
   "mimetype": "text/x-python",
   "name": "python",
   "nbconvert_exporter": "python",
   "pygments_lexer": "ipython3",
   "version": "3.11.7"
  }
 },
 "nbformat": 4,
 "nbformat_minor": 5
}
