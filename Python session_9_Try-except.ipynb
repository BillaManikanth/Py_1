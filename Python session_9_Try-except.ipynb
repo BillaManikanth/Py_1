{
 "cells": [
  {
   "cell_type": "markdown",
   "id": "cc707a35-6960-4b8b-8a03-555c653dd167",
   "metadata": {},
   "source": [
    "**try-except**\n",
    "\n",
    "- Generally python is a sequencital process\n",
    "\n",
    "- which mean if you get error, the compiler will not execute other statements\n",
    "\n",
    "- There is a situations even though if you got error at particular lines\n",
    "\n",
    "- Compiler should execute some part of the code\n",
    "\n",
    "- This is possibile by using try-except method\n",
    "\n",
    "- we have two blocks  \n",
    "\n",
    "    - try block\n",
    "\n",
    "        - original code will run under try block\n",
    "\n",
    "    - except block\n",
    "\n",
    "        - if any error comes it will redirect to except block"
   ]
  },
  {
   "cell_type": "code",
   "execution_count": 2,
   "id": "c9d2a39c-b5c1-4c9c-9544-984c4403835c",
   "metadata": {},
   "outputs": [
    {
     "ename": "ZeroDivisionError",
     "evalue": "division by zero",
     "output_type": "error",
     "traceback": [
      "\u001b[1;31m---------------------------------------------------------------------------\u001b[0m",
      "\u001b[1;31mZeroDivisionError\u001b[0m                         Traceback (most recent call last)",
      "Cell \u001b[1;32mIn[2], line 3\u001b[0m\n\u001b[0;32m      1\u001b[0m a\u001b[38;5;241m=\u001b[39m\u001b[38;5;241m10\u001b[39m\n\u001b[0;32m      2\u001b[0m b\u001b[38;5;241m=\u001b[39m\u001b[38;5;241m0\u001b[39m\n\u001b[1;32m----> 3\u001b[0m a\u001b[38;5;241m/\u001b[39mb\n\u001b[0;32m      4\u001b[0m \u001b[38;5;28mprint\u001b[39m(\u001b[38;5;124m\"\u001b[39m\u001b[38;5;124mhello\u001b[39m\u001b[38;5;124m\"\u001b[39m)\n",
      "\u001b[1;31mZeroDivisionError\u001b[0m: division by zero"
     ]
    }
   ],
   "source": [
    "a=10\n",
    "b=0\n",
    "a/b\n",
    "print(\"hello\")"
   ]
  },
  {
   "cell_type": "markdown",
   "id": "b8cd22c1-839d-4f33-8eef-3e5d7e5615d9",
   "metadata": {},
   "source": [
    "**case-1**\n",
    "\n",
    "- whenever we got the error in try block\n",
    "\n",
    "- the comipler will execute statements of except block"
   ]
  },
  {
   "cell_type": "code",
   "execution_count": 4,
   "id": "5d2eed4b-25d0-4b1d-8e6d-5fc82df6e458",
   "metadata": {},
   "outputs": [
    {
     "name": "stdout",
     "output_type": "stream",
     "text": [
      "the value a is: 10\n",
      "hello\n"
     ]
    }
   ],
   "source": [
    "try:\n",
    "    a=10\n",
    "    b=0\n",
    "    print(\"the value a is:\",a)\n",
    "    a/b\n",
    "    print(\"you will get error\")\n",
    "except:\n",
    "    print(\"hello\")"
   ]
  },
  {
   "cell_type": "markdown",
   "id": "180669fb-cb48-4d0e-b6b4-d46be84cfb2a",
   "metadata": {},
   "source": [
    "**case-2**\n",
    "\n",
    "- If there is no error in the try block\n",
    "\n",
    "- the comipler will not execute statements of except block"
   ]
  },
  {
   "cell_type": "code",
   "execution_count": 6,
   "id": "5429d90b-2650-491e-83c3-2470259e439c",
   "metadata": {},
   "outputs": [
    {
     "name": "stdout",
     "output_type": "stream",
     "text": [
      "the value a is: 10\n",
      "the value b is: 10\n",
      "you will not get error\n"
     ]
    }
   ],
   "source": [
    "try:\n",
    "    a=10\n",
    "    b=10\n",
    "    print(\"the value a is:\",a)\n",
    "    print(\"the value b is:\",b)\n",
    "    print(a/b)\n",
    "    print(\"you will not get error\")\n",
    "except:\n",
    "    print(\"hello\")"
   ]
  },
  {
   "cell_type": "code",
   "execution_count": 8,
   "id": "bf3f99c3-fc4b-43cd-86fa-bb475f8676bb",
   "metadata": {},
   "outputs": [
    {
     "name": "stdout",
     "output_type": "stream",
     "text": [
      "10\n",
      "20\n"
     ]
    }
   ],
   "source": [
    "a=10\n",
    "b=20\n",
    "print(a)\n",
    "print(b)"
   ]
  },
  {
   "cell_type": "code",
   "execution_count": 10,
   "id": "3755d18b-c81a-4f81-90ce-c2a0dd65e9b6",
   "metadata": {},
   "outputs": [
    {
     "name": "stdout",
     "output_type": "stream",
     "text": [
      "hai\n",
      "hello\n"
     ]
    },
    {
     "name": "stdin",
     "output_type": "stream",
     "text": [
      "enter a num1: python\n"
     ]
    },
    {
     "name": "stdout",
     "output_type": "stream",
     "text": [
      "error is there\n",
      "check the code\n",
      "bye\n"
     ]
    }
   ],
   "source": [
    "print(\"hai\")\n",
    "print(\"hello\")\n",
    "\n",
    "try:\n",
    "    a=eval(input(\"enter a num1:\"))\n",
    "    b=eval(input(\"enter a num2:\"))\n",
    "    add=a+b\n",
    "    print(f\"the addition of {a} and {b} is: {add}\")\n",
    "except:\n",
    "    print(\"error is there\")\n",
    "    print(\"check the code\")\n",
    "    \n",
    "print(\"bye\")"
   ]
  },
  {
   "cell_type": "code",
   "execution_count": 11,
   "id": "8ee14dd7-8a01-48d3-bf8f-c750c7d28732",
   "metadata": {},
   "outputs": [
    {
     "name": "stdout",
     "output_type": "stream",
     "text": [
      "hai\n",
      "hello\n"
     ]
    },
    {
     "name": "stdin",
     "output_type": "stream",
     "text": [
      "enter a num1: python\n"
     ]
    },
    {
     "name": "stdout",
     "output_type": "stream",
     "text": [
      "error is there\n",
      "check the code\n",
      "n2 is gretar\n",
      "bye\n"
     ]
    }
   ],
   "source": [
    "print(\"hai\")\n",
    "print(\"hello\")\n",
    "######################################\n",
    "try:\n",
    "    a=eval(input(\"enter a num1:\"))\n",
    "    b=eval(input(\"enter a num2:\"))\n",
    "    add=a+b\n",
    "    print(f\"the addition of {a} and {b} is: {add}\")\n",
    "except:\n",
    "    print(\"error is there\")\n",
    "    print(\"check the code\")\n",
    "    n1=100\n",
    "    n2=200\n",
    "    if n1>n2:\n",
    "        print(\"n1 is greater\")\n",
    "    else:\n",
    "        print(\"n2 is gretar\")\n",
    "###################################################################    \n",
    "print(\"bye\")\n"
   ]
  },
  {
   "cell_type": "markdown",
   "id": "1e97f30b-39dc-4510-9c23-5b5b66cdb75a",
   "metadata": {},
   "source": [
    "**Capture the errors**\n",
    "\n",
    "- Mainly try and except is used to capture the errors"
   ]
  },
  {
   "cell_type": "code",
   "execution_count": null,
   "id": "7ce961f6-4776-4ef3-92a9-0619c4c1092f",
   "metadata": {},
   "outputs": [],
   "source": [
    "print(\"hai\")\n",
    "print(\"hello\")\n",
    "\n",
    "try:\n",
    "    a=int(input(\"enter a num1:\"))\n",
    "    b=eval(input(\"enter a num2:\"))\n",
    "    add=a/b\n",
    "    print(f\"the addition of {a} and {b} is: {add}\")\n",
    "except:\n",
    "    print(\"error is there\")\n",
    "    print(\"check the code\")\n",
    "    \n",
    "print(\"bye\")\n",
    "\n"
   ]
  },
  {
   "cell_type": "markdown",
   "id": "5f818fd5-8719-4019-97e8-c65e64c8b169",
   "metadata": {},
   "source": [
    "- syntax error\n",
    "\n",
    "  - if you miss the ) , \"\", :\n",
    "\n",
    "- name error\n",
    "\n",
    "    - if you not defined any name that in black color\n",
    "\n",
    "- indentation error\n",
    "\n",
    "    - after : we need some space\n",
    "\n",
    "- division error\n",
    "\n",
    "    - some number divided by zero\n",
    "\n",
    "- value error\n",
    "\n",
    "    - number type conversion\n",
    "\n",
    "- type error\n",
    "\n",
    "    - any math operations on engish letters"
   ]
  },
  {
   "cell_type": "code",
   "execution_count": 14,
   "id": "a7550037-7160-43b8-9349-28b2ecb7ff0d",
   "metadata": {},
   "outputs": [
    {
     "name": "stdin",
     "output_type": "stream",
     "text": [
      "enter a num1: python\n",
      "enter a num1: naresh\n"
     ]
    },
    {
     "ename": "TypeError",
     "evalue": "can't multiply sequence by non-int of type 'str'",
     "output_type": "error",
     "traceback": [
      "\u001b[1;31m---------------------------------------------------------------------------\u001b[0m",
      "\u001b[1;31mTypeError\u001b[0m                                 Traceback (most recent call last)",
      "Cell \u001b[1;32mIn[14], line 3\u001b[0m\n\u001b[0;32m      1\u001b[0m n1\u001b[38;5;241m=\u001b[39m\u001b[38;5;28minput\u001b[39m(\u001b[38;5;124m\"\u001b[39m\u001b[38;5;124menter a num1:\u001b[39m\u001b[38;5;124m\"\u001b[39m)\n\u001b[0;32m      2\u001b[0m n2\u001b[38;5;241m=\u001b[39m\u001b[38;5;28minput\u001b[39m(\u001b[38;5;124m\"\u001b[39m\u001b[38;5;124menter a num1:\u001b[39m\u001b[38;5;124m\"\u001b[39m)\n\u001b[1;32m----> 3\u001b[0m n1\u001b[38;5;241m*\u001b[39mn2\n",
      "\u001b[1;31mTypeError\u001b[0m: can't multiply sequence by non-int of type 'str'"
     ]
    }
   ],
   "source": [
    "n1=input(\"enter a num1:\")\n",
    "n2=input(\"enter a num1:\")\n",
    "n1*n2"
   ]
  },
  {
   "cell_type": "code",
   "execution_count": 17,
   "id": "dd85fbe6-b050-47bd-9b09-01f137aeedfa",
   "metadata": {},
   "outputs": [
    {
     "name": "stdin",
     "output_type": "stream",
     "text": [
      "enter a num1: 10\n",
      "enter a num2: 0\n"
     ]
    },
    {
     "name": "stdout",
     "output_type": "stream",
     "text": [
      "value error\n"
     ]
    }
   ],
   "source": [
    "try:\n",
    "    a=int(input(\"enter a num1:\"))\n",
    "    b=eval(input(\"enter a num2:\"))\n",
    "    add=a/b\n",
    "    print(f\"the addition of {a} and {b} is: {add}\")\n",
    "except:\n",
    "    print(\"value error\")"
   ]
  },
  {
   "cell_type": "code",
   "execution_count": 28,
   "id": "3ef53f68-ed35-44ab-b286-b3b3d3bfda0e",
   "metadata": {},
   "outputs": [
    {
     "name": "stdin",
     "output_type": "stream",
     "text": [
      "enter a num1: 10\n",
      "enter a num2: 10\n"
     ]
    },
    {
     "name": "stdout",
     "output_type": "stream",
     "text": [
      "the addition of 10 and 10 is: 1.0\n"
     ]
    }
   ],
   "source": [
    "try:\n",
    "    a=int(input(\"enter a num1:\"))\n",
    "    b=eval(input(\"enter a num2:\"))\n",
    "    add=a/b\n",
    "    print(f\"the addition of {a} and {b} is: {add}\")\n",
    "except Exception as e:\n",
    "    print(e)"
   ]
  },
  {
   "cell_type": "markdown",
   "id": "b1506ad0-566c-4d64-aad7-75e29911dcbb",
   "metadata": {},
   "source": [
    "**syntax errors will not capture by exception block**"
   ]
  },
  {
   "cell_type": "code",
   "execution_count": null,
   "id": "5d286501-1f51-4079-8995-dc97c8d2f856",
   "metadata": {},
   "outputs": [],
   "source": [
    "# Apply try-exception block for even -odd program\n",
    "# wap implment above the code \n",
    "# by taking number randomly between 10,100\n",
    "\n",
    "import random\n",
    "try:\n",
    "    num=random.randint(10,100)\n",
    "    if num%2==0:\n",
    "        print(f\"the {num} is even\")\n",
    "    else:\n",
    "        print(f\"the {num} is odd\")\n",
    "except Exception as e:\n",
    "    print(e)"
   ]
  },
  {
   "cell_type": "code",
   "execution_count": null,
   "id": "3a70c675-8fbd-4779-923f-921ed7da39a6",
   "metadata": {},
   "outputs": [],
   "source": [
    "# Game program\n",
    "# there are two numbers\n",
    "# num1 comes from random\n",
    "# num2 is taking from the keyboard\n",
    "# if both numbers are equal \n",
    "#     then print  you won\n",
    "# else \n",
    "#       print you loss\n",
    "import random\n",
    "num1=random.randint(1,10)\n",
    "print(num1)\n",
    "num2=eval(input(\"enter the number:\"))\n",
    "if num1==num2:\n",
    "    print(\"won\")\n",
    "else:\n",
    "    print(\"loss\")"
   ]
  },
  {
   "cell_type": "code",
   "execution_count": null,
   "id": "a6d1dbb0-7998-43ae-b437-dfa9eff5d7d0",
   "metadata": {},
   "outputs": [],
   "source": [
    "# wap ask the user enter how much distance need to travel\n",
    "#     ask the user enter charge per km\n",
    "#     if the distance >25 km \n",
    "#          then print total charge\n",
    "#     otherwise\n",
    "#          print free ride\n",
    "\n",
    "dist = eval(input(\"How much distance need to travel :\"))\n",
    "if dist > 25:\n",
    "    charge = eval(input(\"Enter charge per km: \"))\n",
    "    print(f\"Total charge : {dist*charge}\")\n",
    "else:\n",
    "    print(\"It is free ride\")"
   ]
  },
  {
   "cell_type": "code",
   "execution_count": null,
   "id": "15f65dc4-939f-4c27-8fa8-69fc07d3c4c0",
   "metadata": {},
   "outputs": [],
   "source": [
    "# wap ask the user enter a number\n",
    "# if number equal to 1 then print 1: if\n",
    "# if number equal to 2 then print 2: elif\n",
    "# if number equal to 3 then print 3: elif\n",
    "# if number equal to 4 then print 4: elif\n",
    "# other wise print bye: else\n",
    "\n",
    "num = eval(input(\"enter a number\"))\n",
    "if num==1:\n",
    "    print(f\"{num} is mach\")\n",
    "elif num==2:\n",
    "    print(f\"{num} is mach\")\n",
    "elif num==3:\n",
    "    print(f\"{num} is mach\")\n",
    "elif num==4:\n",
    "    print(f\"{num} is mach\")\n",
    "else:\n",
    "    print(\"number not mach\")"
   ]
  },
  {
   "cell_type": "code",
   "execution_count": null,
   "id": "a4f5c884-e53e-4bd0-b89b-d0e14511e228",
   "metadata": {},
   "outputs": [],
   "source": [
    "# wap ask the user\n",
    "# enter marks percentage\n",
    "# If percentage greater than 90 then print A grade\n",
    "# If percentage between 70 and 90 then print B grade\n",
    "# If percentage between 50 and 70 then print C grade\n",
    "# If percentage between 35 and 50 then print D grade\n",
    "# otherwise print fail\n",
    "\n",
    "per=eval(input('enter percentage '))\n",
    "if per>=90:                  \n",
    "    print('A grade')\n",
    "elif per>=70 :            \n",
    "    print('B grade')\n",
    "elif per>=50 :            \n",
    "    print('C grade')\n",
    "elif per>=35 :            \n",
    "    print('D grade')\n",
    "else :\n",
    "    print('fail')"
   ]
  },
  {
   "cell_type": "code",
   "execution_count": null,
   "id": "5fd047c0-510a-4177-9349-adca97c07a6b",
   "metadata": {},
   "outputs": [],
   "source": [
    "# wap ask the user\n",
    "# enter age\n",
    "# If age greater than 90 then print lucky man\n",
    "# If age between 70 and 90 then print old man\n",
    "# If age between 50 and 70 then print SC\n",
    "# If age between 35 and 50 then print Middile aged\n",
    "# If age between 20 and 35 then print young\n",
    "# If age between 13 and 20 then print teen\n",
    "# otherwise print kid\n",
    "\n",
    "\n",
    "age=eval(input('enter percentage '))\n",
    "if age>=90:                  \n",
    "    print('Lucky person')\n",
    "elif age>=70 :            \n",
    "    print('OLD')\n",
    "elif age>=50 :            \n",
    "    print('SC')\n",
    "elif age>=35 :            \n",
    "    print('MA')\n",
    "elif age>=20 :            \n",
    "    print('young')\n",
    "elif age>=13 :            \n",
    "    print('teen')\n",
    "else :\n",
    "    print('kid')"
   ]
  },
  {
   "cell_type": "code",
   "execution_count": null,
   "id": "eef7dba6-f9e8-4897-baa0-075f829f45ee",
   "metadata": {},
   "outputs": [],
   "source": [
    "num1= eval(input(\"Enter the 1st num :\"))\n",
    "num2= eval(input(\"Enter the 2nd num :\"))\n",
    "\n",
    "print(\"Enter the operation 1 for addition\")\n",
    "print(\"Enter the operation 2 for subtraction\")\n",
    "print(\"Enter the operation 3 for multiplication\")\n",
    "print(\"Enter the operation 4 for division\")\n",
    "\n",
    "operation=eval(input(\"Enter the values between 1 to 4 :\"))\n",
    "if operation==1:\n",
    "    add=num1+num2\n",
    "    print(f\"The sum is {add}\")\n",
    "elif operation==2:\n",
    "    sub=num1-num2\n",
    "    print(f\"The subtraction is {sub}\") \n",
    "elif operation==3:\n",
    "    mul=num1*num2\n",
    "    print(f\"The multiplication is {mul}\")\n",
    "elif operation==4:\n",
    "    div=num1%num2\n",
    "    print(f\"The division is {div}\")\n",
    "else:\n",
    "    print(f\"not a valid operation\")"
   ]
  },
  {
   "cell_type": "code",
   "execution_count": null,
   "id": "a401a211-eb4a-4c25-b288-40f9220212e0",
   "metadata": {},
   "outputs": [],
   "source": [
    "gender= input(\"enter the gender:\")\n",
    "if gender=='male':\n",
    "    age=eval(input(\"enter the age:\"))\n",
    "    if age>=30:\n",
    "        print(\"MAM\")\n",
    "    else:\n",
    "        print(\"boy\")\n",
    "elif gender=='female':\n",
    "    age=eval(input(\"enter the age:\"))\n",
    "    if age>=30:\n",
    "        print(\"MAW\")\n",
    "    else:\n",
    "        print(\"girl\")\n",
    "else:\n",
    "    print('valid gender')"
   ]
  },
  {
   "cell_type": "code",
   "execution_count": null,
   "id": "8c1fce0d-5e56-478d-b7b8-6b9cf3fdb995",
   "metadata": {},
   "outputs": [],
   "source": [
    "gender = (input(\"enter the gender : \"))\n",
    "if gender ==  'female':\n",
    "    print(\"Enter yes if you have  ID CARD\")\n",
    "    print(\"Enter No if you dont have  ID CARD\")\n",
    "    id  = (input(\" Enter Yes or No \"))    \n",
    "    if  id == 'yes' :\n",
    "        print(\"Enjoy Free Ride\")\n",
    "    else:\n",
    "        dis = eval(input(\"how much distnace need to travel\"))\n",
    "        charge = eval(input(\"enter charge per km\"))\n",
    "        print(f\"total charge is {dis*charge}\")\n",
    "elif gender ==  'male':  \n",
    "    dis = eval(input(\"how much distnace need to travel\"))\n",
    "    charge = eval(input(\"enter charge per km\"))\n",
    "    print(f\"total charge is {dis*charge}\")\n",
    "else :\n",
    "    print('enter valid gender')"
   ]
  },
  {
   "cell_type": "code",
   "execution_count": 35,
   "id": "8ad40757-48a3-4449-af38-b32081a82baa",
   "metadata": {},
   "outputs": [
    {
     "name": "stdin",
     "output_type": "stream",
     "text": [
      "enter percentage  python\n"
     ]
    },
    {
     "name": "stdout",
     "output_type": "stream",
     "text": [
      "'>=' not supported between instances of 'str' and 'int'\n"
     ]
    }
   ],
   "source": [
    "perrr=input('enter percentage ')\n",
    "try:\n",
    "    if perrr>=90:                  \n",
    "        print('A grade')\n",
    "    elif perrr>=70 :            \n",
    "        print('B grade')\n",
    "    elif perrr>=50 :            \n",
    "        print('C grade')\n",
    "    elif perrr>=35 :            \n",
    "        print('D grade')\n",
    "\n",
    "except Exception as e:\n",
    "    print(e)"
   ]
  },
  {
   "cell_type": "code",
   "execution_count": null,
   "id": "030e3173-72d9-47e8-a6f6-6d10431fd02e",
   "metadata": {},
   "outputs": [],
   "source": []
  }
 ],
 "metadata": {
  "kernelspec": {
   "display_name": "Python 3 (ipykernel)",
   "language": "python",
   "name": "python3"
  },
  "language_info": {
   "codemirror_mode": {
    "name": "ipython",
    "version": 3
   },
   "file_extension": ".py",
   "mimetype": "text/x-python",
   "name": "python",
   "nbconvert_exporter": "python",
   "pygments_lexer": "ipython3",
   "version": "3.11.7"
  }
 },
 "nbformat": 4,
 "nbformat_minor": 5
}
