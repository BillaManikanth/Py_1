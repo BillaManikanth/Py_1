{
 "cells": [
  {
   "cell_type": "markdown",
   "id": "5abfea1e-f9e5-45f9-a230-360939b3f692",
   "metadata": {},
   "source": [
    "**input**\n",
    "\n",
    "- input is a keyword, we can provide values from keyboard\n",
    "\n",
    "- which means user can give the own values\n",
    "\n",
    "- the kernal will be busy , untill unless you need to provide values inside the box\n",
    "\n",
    "- provide the value and hit enter\n",
    "\n",
    "- make sure that * should gone\n",
    "\n",
    "- The default data type is **string data type**"
   ]
  },
  {
   "cell_type": "code",
   "execution_count": null,
   "id": "b5aaa99b-8d90-416d-ae8d-b94dd120f182",
   "metadata": {},
   "outputs": [],
   "source": [
    "input()"
   ]
  },
  {
   "cell_type": "code",
   "execution_count": null,
   "id": "60cdcf1b-4d2c-4bdc-9086-505268def42b",
   "metadata": {},
   "outputs": [],
   "source": [
    "a=input()\n"
   ]
  },
  {
   "cell_type": "code",
   "execution_count": null,
   "id": "f6a06522-e772-4a76-9687-93be82320423",
   "metadata": {},
   "outputs": [],
   "source": [
    "a"
   ]
  },
  {
   "cell_type": "code",
   "execution_count": null,
   "id": "2e854fff-d49c-44e4-8e43-b32cee60d9c2",
   "metadata": {},
   "outputs": [],
   "source": [
    "a=input()\n",
    "b=input()\n",
    "a+b"
   ]
  },
  {
   "cell_type": "code",
   "execution_count": null,
   "id": "58db6ff6-71dc-4565-a021-78992a3258ce",
   "metadata": {},
   "outputs": [],
   "source": [
    "type(a)"
   ]
  },
  {
   "cell_type": "code",
   "execution_count": null,
   "id": "7df74074-f283-4faf-b509-de8cd258fec8",
   "metadata": {},
   "outputs": [],
   "source": [
    "type(b)"
   ]
  },
  {
   "cell_type": "code",
   "execution_count": null,
   "id": "1235ef6a-b2c2-41a5-b8e0-a5ef310e0fe1",
   "metadata": {},
   "outputs": [],
   "source": [
    "num=input(\"enter the number:\")"
   ]
  },
  {
   "cell_type": "code",
   "execution_count": null,
   "id": "ac08b30a-5b2e-49a7-b002-541a329fc6ac",
   "metadata": {},
   "outputs": [],
   "source": [
    "type(num)"
   ]
  },
  {
   "cell_type": "code",
   "execution_count": null,
   "id": "65ecf9f9-b6af-46b4-81df-8f16a1dfaa2f",
   "metadata": {},
   "outputs": [],
   "source": [
    "a=int(input())  # int('100')=100\n",
    "b=int(input())  # int('200')=200\n",
    "a+b             # 100+200=300"
   ]
  },
  {
   "cell_type": "code",
   "execution_count": null,
   "id": "3fa897f3-f15e-40b1-9621-d0e5f58f60be",
   "metadata": {},
   "outputs": [],
   "source": [
    "a=input()\n",
    "b=input()\n",
    "a+b"
   ]
  },
  {
   "cell_type": "code",
   "execution_count": null,
   "id": "95ae7447-dcfa-4c1a-ac0a-862363a299e1",
   "metadata": {},
   "outputs": [],
   "source": [
    "a=int(input(\"enter the num1:\"))\n",
    "b=int(input(\"enter the num2:\"))\n",
    "c=a+b\n",
    "print(f\"the addition of {a} and {b} is {c}\")"
   ]
  },
  {
   "cell_type": "code",
   "execution_count": null,
   "id": "7b1db3d5-7337-466f-823d-f24283ffbd57",
   "metadata": {},
   "outputs": [],
   "source": [
    "import streamlit\n",
    "a=int(input(\"enter the number1\"))\n",
    "b=int(input(\"enter the number2\"))\n",
    "c=a+b\n",
    "print(f\"the addition of {a} and {b} is {c}\")"
   ]
  },
  {
   "cell_type": "code",
   "execution_count": null,
   "id": "82a68a11-3e10-49d0-9fc9-dcb82e15a3e4",
   "metadata": {},
   "outputs": [],
   "source": [
    "input()"
   ]
  },
  {
   "cell_type": "code",
   "execution_count": null,
   "id": "57dc531e-157d-41c0-89bf-d2f76fd53c7e",
   "metadata": {},
   "outputs": [],
   "source": [
    "input()"
   ]
  },
  {
   "cell_type": "code",
   "execution_count": null,
   "id": "93fc8cc1-7f60-4cc6-9ef3-a9d000e9a9db",
   "metadata": {},
   "outputs": [],
   "source": [
    "input(\"enter the name:\")"
   ]
  },
  {
   "cell_type": "code",
   "execution_count": null,
   "id": "d1e8a1a4-65e6-40b5-96a8-f27d29bd3fcc",
   "metadata": {},
   "outputs": [],
   "source": [
    "input(\"enter the number1:\")"
   ]
  },
  {
   "cell_type": "code",
   "execution_count": null,
   "id": "1b5aba44-4069-47f8-96bc-fc83c0e642b0",
   "metadata": {},
   "outputs": [],
   "source": [
    "input()\n",
    "input(\"enter the name:\")\n",
    "input(\"enter the number1:\")"
   ]
  },
  {
   "cell_type": "code",
   "execution_count": null,
   "id": "2d0daac7-f8df-4add-9806-06cef1d3320c",
   "metadata": {},
   "outputs": [],
   "source": [
    "input()"
   ]
  },
  {
   "cell_type": "code",
   "execution_count": null,
   "id": "9cc93ac4-9aea-4883-a08c-6909de0664d0",
   "metadata": {},
   "outputs": [],
   "source": [
    "input()"
   ]
  },
  {
   "cell_type": "code",
   "execution_count": null,
   "id": "f8b8b492-f83f-4a60-bf9f-0d13a1fdb9ff",
   "metadata": {},
   "outputs": [],
   "source": [
    "input()"
   ]
  },
  {
   "cell_type": "code",
   "execution_count": null,
   "id": "e90f8918-a371-4686-a462-4f4863abbdd8",
   "metadata": {},
   "outputs": [],
   "source": [
    "input()"
   ]
  },
  {
   "cell_type": "code",
   "execution_count": 2,
   "id": "82f3d78a-2e55-4167-a483-d50f719af340",
   "metadata": {},
   "outputs": [
    {
     "name": "stdin",
     "output_type": "stream",
     "text": [
      " naresh it\n"
     ]
    },
    {
     "data": {
      "text/plain": [
       "'naresh it'"
      ]
     },
     "execution_count": 2,
     "metadata": {},
     "output_type": "execute_result"
    }
   ],
   "source": [
    "input()"
   ]
  },
  {
   "cell_type": "code",
   "execution_count": 4,
   "id": "795d5ee9-f5cc-4a27-a2f0-8f81c9844b39",
   "metadata": {},
   "outputs": [
    {
     "name": "stdin",
     "output_type": "stream",
     "text": [
      " harika\n"
     ]
    },
    {
     "data": {
      "text/plain": [
       "'harika'"
      ]
     },
     "execution_count": 4,
     "metadata": {},
     "output_type": "execute_result"
    }
   ],
   "source": [
    "input()\n"
   ]
  },
  {
   "cell_type": "code",
   "execution_count": 6,
   "id": "da00f4d6-3972-4b95-affb-517582b20257",
   "metadata": {},
   "outputs": [
    {
     "name": "stdin",
     "output_type": "stream",
     "text": [
      " sampath\n",
      "enter the name: ram\n",
      "enter the number1: 100\n"
     ]
    },
    {
     "name": "stdout",
     "output_type": "stream",
     "text": [
      "sampath\n",
      "ram\n",
      "100\n"
     ]
    }
   ],
   "source": [
    "name1=input()\n",
    "name2=input(\"enter the name:\")\n",
    "num=input(\"enter the number1:\")\n",
    "print(name1)\n",
    "print(name2)\n",
    "print(num)"
   ]
  },
  {
   "cell_type": "code",
   "execution_count": 8,
   "id": "a62c7c8d-a561-4f75-b383-d44203b0a03b",
   "metadata": {},
   "outputs": [
    {
     "name": "stdin",
     "output_type": "stream",
     "text": [
      "enter the num1: 100\n",
      "enter the num2: 200\n"
     ]
    },
    {
     "name": "stdout",
     "output_type": "stream",
     "text": [
      "300\n"
     ]
    }
   ],
   "source": [
    "n1=int(input(\"enter the num1:\"))  # int('100')=100\n",
    "n2=int(input(\"enter the num2:\"))  # int('200')=200\n",
    "add=n1+n2                         # add= 100+200\n",
    "print(add)                        # print(300)"
   ]
  },
  {
   "cell_type": "code",
   "execution_count": 9,
   "id": "e187bb93-2d3a-4899-b4ad-067606431df0",
   "metadata": {},
   "outputs": [
    {
     "data": {
      "text/plain": [
       "'100200'"
      ]
     },
     "execution_count": 9,
     "metadata": {},
     "output_type": "execute_result"
    }
   ],
   "source": [
    "'100'+'200'"
   ]
  },
  {
   "cell_type": "code",
   "execution_count": 10,
   "id": "6051e005-b839-4d2f-af61-ddcb9a72b9c1",
   "metadata": {},
   "outputs": [
    {
     "data": {
      "text/plain": [
       "300"
      ]
     },
     "execution_count": 10,
     "metadata": {},
     "output_type": "execute_result"
    }
   ],
   "source": [
    "100+200"
   ]
  },
  {
   "cell_type": "code",
   "execution_count": 11,
   "id": "99a744f0-5235-4295-8f43-84b5b424d490",
   "metadata": {},
   "outputs": [
    {
     "name": "stdin",
     "output_type": "stream",
     "text": [
      "enter the num1: 100\n",
      "enter the num2: 200\n"
     ]
    },
    {
     "name": "stdout",
     "output_type": "stream",
     "text": [
      "300\n"
     ]
    }
   ],
   "source": [
    "n1=input(\"enter the num1:\")  # n1='100'\n",
    "n2=input(\"enter the num2:\")  # n2='200'\n",
    "add=int(n1)+int(n2)          # add=int('100')+int('200')= 100+200=300\n",
    "print(add)"
   ]
  },
  {
   "cell_type": "code",
   "execution_count": 13,
   "id": "17dffe43-9cbb-40d4-aad3-b499ff3a9ca7",
   "metadata": {},
   "outputs": [
    {
     "name": "stdin",
     "output_type": "stream",
     "text": [
      "enter the num1: 100.25\n",
      "enter the num2: 100\n"
     ]
    },
    {
     "name": "stdout",
     "output_type": "stream",
     "text": [
      "200.25\n"
     ]
    }
   ],
   "source": [
    "n1=float(input(\"enter the num1:\"))  \n",
    "n2=int(input(\"enter the num2:\")) \n",
    "add=n1+n2                       \n",
    "print(add) \n",
    "\n",
    "# whenever int is there dont give the float values\n",
    "# If you want to give float values then apply float conversion\n",
    "# If you want to give int values then apply int conversion"
   ]
  },
  {
   "cell_type": "markdown",
   "id": "ebb125a8-e5cf-43f8-ad54-84fa46fe73ae",
   "metadata": {},
   "source": [
    "**eval**\n",
    "\n",
    "- eval meaning **evaluate**\n",
    "\n",
    "- evaluate will use for numbers only, not for english\n",
    "\n",
    "- evaluate will convert integer numbers to integer\n",
    "\n",
    "- evaluate will convert float numbers to float                                           "
   ]
  },
  {
   "cell_type": "code",
   "execution_count": 16,
   "id": "a05ec98d-5a37-49af-8e7d-159b4652de6c",
   "metadata": {},
   "outputs": [
    {
     "name": "stdin",
     "output_type": "stream",
     "text": [
      "enter the num1: 100\n",
      "enter the num2: 200.5\n"
     ]
    },
    {
     "name": "stdout",
     "output_type": "stream",
     "text": [
      "300.5\n"
     ]
    }
   ],
   "source": [
    "n1=eval(input(\"enter the num1:\"))  \n",
    "n2=eval(input(\"enter the num2:\")) \n",
    "add=n1+n2                       \n",
    "print(add) "
   ]
  },
  {
   "cell_type": "code",
   "execution_count": null,
   "id": "8aef759f-ff09-444c-a627-a4c68fa88068",
   "metadata": {},
   "outputs": [],
   "source": []
  }
 ],
 "metadata": {
  "kernelspec": {
   "display_name": "Python 3 (ipykernel)",
   "language": "python",
   "name": "python3"
  },
  "language_info": {
   "codemirror_mode": {
    "name": "ipython",
    "version": 3
   },
   "file_extension": ".py",
   "mimetype": "text/x-python",
   "name": "python",
   "nbconvert_exporter": "python",
   "pygments_lexer": "ipython3",
   "version": "3.11.7"
  }
 },
 "nbformat": 4,
 "nbformat_minor": 5
}
