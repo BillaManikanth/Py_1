{
 "cells": [
  {
   "cell_type": "markdown",
   "id": "f5a1c2b9-d406-4cb0-813e-0867e8f7c423",
   "metadata": {},
   "source": [
    "**Type casting**\n",
    "\n",
    "Convert one data type to another data type\n",
    "\n",
    "- Integer\n",
    "\n",
    "- float\n",
    "\n",
    "- string\n",
    "\n",
    "- boolean\n",
    "\n",
    "**Integer to all other data types**\n",
    "\n",
    "- Integer to float\n",
    "\n",
    "- Integer to string\n",
    "\n",
    "- Integer to boolean"
   ]
  },
  {
   "cell_type": "code",
   "execution_count": 1,
   "id": "3b9d457e-b80a-4638-963c-75ccdbb04958",
   "metadata": {},
   "outputs": [
    {
     "data": {
      "text/plain": [
       "int"
      ]
     },
     "execution_count": 1,
     "metadata": {},
     "output_type": "execute_result"
    }
   ],
   "source": [
    "number=100\n",
    "type(number)"
   ]
  },
  {
   "cell_type": "code",
   "execution_count": 3,
   "id": "70182ead-026c-44ae-a735-49b932b25933",
   "metadata": {},
   "outputs": [],
   "source": [
    "number_float=float(number)  # float converstion"
   ]
  },
  {
   "cell_type": "code",
   "execution_count": 4,
   "id": "7d11f112-f8d3-4ce1-a8a2-a4f7f6c5e7f1",
   "metadata": {},
   "outputs": [
    {
     "data": {
      "text/plain": [
       "(100, 100.0)"
      ]
     },
     "execution_count": 4,
     "metadata": {},
     "output_type": "execute_result"
    }
   ],
   "source": [
    "number,number_float"
   ]
  },
  {
   "cell_type": "code",
   "execution_count": 5,
   "id": "5a2ba522-20e2-43c6-a81f-cd667fe88b81",
   "metadata": {},
   "outputs": [
    {
     "data": {
      "text/plain": [
       "(int, float)"
      ]
     },
     "execution_count": 5,
     "metadata": {},
     "output_type": "execute_result"
    }
   ],
   "source": [
    "type(number),type(number_float)"
   ]
  },
  {
   "cell_type": "markdown",
   "id": "218afff3-2aa9-4e92-9013-f8e6661ba877",
   "metadata": {},
   "source": [
    "$int$-$str$"
   ]
  },
  {
   "cell_type": "code",
   "execution_count": 7,
   "id": "9fd644ca-89da-4c36-9b58-ce1b963fc2b9",
   "metadata": {},
   "outputs": [],
   "source": [
    "number_string=str(number)"
   ]
  },
  {
   "cell_type": "code",
   "execution_count": 8,
   "id": "3d33d3d1-3b5e-433b-b300-9584a437f1ef",
   "metadata": {},
   "outputs": [
    {
     "data": {
      "text/plain": [
       "(100, 100.0, '100')"
      ]
     },
     "execution_count": 8,
     "metadata": {},
     "output_type": "execute_result"
    }
   ],
   "source": [
    "number,number_float,number_string"
   ]
  },
  {
   "cell_type": "code",
   "execution_count": 9,
   "id": "9f800fc9-aa89-4f56-b3c2-23d661dade87",
   "metadata": {},
   "outputs": [
    {
     "data": {
      "text/plain": [
       "(int, float, str)"
      ]
     },
     "execution_count": 9,
     "metadata": {},
     "output_type": "execute_result"
    }
   ],
   "source": [
    "type(number),type(number_float),type(number_string)"
   ]
  },
  {
   "cell_type": "markdown",
   "id": "454f0cbb-78a4-4b17-8530-719ce642c9b1",
   "metadata": {},
   "source": [
    "$int$-$bool$"
   ]
  },
  {
   "cell_type": "code",
   "execution_count": 12,
   "id": "d894a909-1b75-42f4-a72c-6b00870aecf5",
   "metadata": {},
   "outputs": [
    {
     "data": {
      "text/plain": [
       "True"
      ]
     },
     "execution_count": 12,
     "metadata": {},
     "output_type": "execute_result"
    }
   ],
   "source": [
    "number_bool=bool(number)\n",
    "number_bool"
   ]
  },
  {
   "cell_type": "code",
   "execution_count": 13,
   "id": "abbf3c1b-34b0-460e-8c79-0c5103776df0",
   "metadata": {},
   "outputs": [
    {
     "data": {
      "text/plain": [
       "(100, 100.0, '100', True)"
      ]
     },
     "execution_count": 13,
     "metadata": {},
     "output_type": "execute_result"
    }
   ],
   "source": [
    "number,number_float,number_string,number_bool"
   ]
  },
  {
   "cell_type": "code",
   "execution_count": 14,
   "id": "df4932de-176b-4575-8563-57cfb5b4f044",
   "metadata": {},
   "outputs": [
    {
     "data": {
      "text/plain": [
       "(200, 200.0, '200', True)"
      ]
     },
     "execution_count": 14,
     "metadata": {},
     "output_type": "execute_result"
    }
   ],
   "source": [
    "number1=200  # int\n",
    "number1_float=float(number1)  # float\n",
    "number1_string=str(number1)   # string\n",
    "number1_bool=bool(number1)    # bool\n",
    "\n",
    "number1,number1_float,number1_string,number1_bool"
   ]
  },
  {
   "cell_type": "code",
   "execution_count": 15,
   "id": "672ea18d-90b7-4baa-854f-c00eff32a909",
   "metadata": {},
   "outputs": [
    {
     "data": {
      "text/plain": [
       "(True, True, False)"
      ]
     },
     "execution_count": 15,
     "metadata": {},
     "output_type": "execute_result"
    }
   ],
   "source": [
    "bool(100),bool(-100),bool(0)"
   ]
  },
  {
   "cell_type": "markdown",
   "id": "b291b15e-419d-4fc3-8368-f4519251608c",
   "metadata": {},
   "source": [
    "**Note**\n",
    "\n",
    "- Boolean conversion of 0 gives False\n",
    "\n",
    "- Boolean conversion of +ve and -ve integer numbers gives True"
   ]
  },
  {
   "cell_type": "code",
   "execution_count": 19,
   "id": "592e172d-533d-415f-9e47-345f4d1fdc01",
   "metadata": {},
   "outputs": [
    {
     "data": {
      "text/plain": [
       "(10, 20)"
      ]
     },
     "execution_count": 19,
     "metadata": {},
     "output_type": "execute_result"
    }
   ],
   "source": [
    "#I am getting results for last code only\n",
    "a=10\n",
    "b=20\n",
    "a,b"
   ]
  },
  {
   "cell_type": "markdown",
   "id": "ec927dc1-c40c-48e2-8b38-4e5699d28c8d",
   "metadata": {},
   "source": [
    "**Float to other data types**\n",
    "\n",
    "- Float to integer\n",
    "\n",
    "- Float to string\n",
    "\n",
    "- Float to boolean"
   ]
  },
  {
   "cell_type": "code",
   "execution_count": 23,
   "id": "460e2598-324c-4495-8882-c12002b46597",
   "metadata": {},
   "outputs": [
    {
     "data": {
      "text/plain": [
       "(100, '100.25', True, False)"
      ]
     },
     "execution_count": 23,
     "metadata": {},
     "output_type": "execute_result"
    }
   ],
   "source": [
    "number2=100.25\n",
    "int(number2),str(number2),bool(number2),bool(0.0)"
   ]
  },
  {
   "cell_type": "code",
   "execution_count": null,
   "id": "7d29d9e5-9faf-4f0c-934b-05be0351d520",
   "metadata": {},
   "outputs": [],
   "source": [
    "int(100.25)  # 100\n",
    "str(100.25)  # '100.25'\n",
    "bool(100.25) # True\n",
    "bool(0.0)    # False"
   ]
  },
  {
   "cell_type": "code",
   "execution_count": 24,
   "id": "d50915de-80ad-41bc-ac41-d75b4f270542",
   "metadata": {},
   "outputs": [
    {
     "name": "stdout",
     "output_type": "stream",
     "text": [
      "python\n"
     ]
    }
   ],
   "source": [
    "print('python')"
   ]
  },
  {
   "cell_type": "markdown",
   "id": "175f039a-d480-49f4-8cc6-80e6106906aa",
   "metadata": {},
   "source": [
    "**String to all other data types**\n",
    "\n",
    "- String to integer\n",
    "\n",
    "- String to float\n",
    "\n",
    "- String to boolean"
   ]
  },
  {
   "cell_type": "code",
   "execution_count": 26,
   "id": "688ddd52-56af-42ff-bfc1-029616c1b748",
   "metadata": {},
   "outputs": [
    {
     "data": {
      "text/plain": [
       "str"
      ]
     },
     "execution_count": 26,
     "metadata": {},
     "output_type": "execute_result"
    }
   ],
   "source": [
    "type('100')"
   ]
  },
  {
   "cell_type": "code",
   "execution_count": 27,
   "id": "a1e87f51-eaa3-46d9-a147-81126decdcd7",
   "metadata": {},
   "outputs": [
    {
     "data": {
      "text/plain": [
       "str"
      ]
     },
     "execution_count": 27,
     "metadata": {},
     "output_type": "execute_result"
    }
   ],
   "source": [
    "type('python')"
   ]
  },
  {
   "cell_type": "code",
   "execution_count": 28,
   "id": "ab0769a3-f55f-440a-8526-a5f23773b527",
   "metadata": {},
   "outputs": [
    {
     "data": {
      "text/plain": [
       "str"
      ]
     },
     "execution_count": 28,
     "metadata": {},
     "output_type": "execute_result"
    }
   ],
   "source": [
    "type('100.25')"
   ]
  },
  {
   "cell_type": "markdown",
   "id": "04b4d850-4a53-4140-8b81-db7503da409b",
   "metadata": {},
   "source": [
    "$Case-1$"
   ]
  },
  {
   "cell_type": "code",
   "execution_count": null,
   "id": "c69a1945-00c1-4e76-a024-b2f444c0d6e6",
   "metadata": {},
   "outputs": [],
   "source": [
    "# string to all other\n",
    "int('100')  # 100\n",
    "float('100') # 100.0\n",
    "bool('100')  # True"
   ]
  },
  {
   "cell_type": "code",
   "execution_count": 29,
   "id": "67259fa4-bad5-4ac4-9bde-578481b34f8c",
   "metadata": {},
   "outputs": [
    {
     "data": {
      "text/plain": [
       "100"
      ]
     },
     "execution_count": 29,
     "metadata": {},
     "output_type": "execute_result"
    }
   ],
   "source": [
    "int('100')"
   ]
  },
  {
   "cell_type": "code",
   "execution_count": 30,
   "id": "9b3f80e6-fa80-4fe1-9607-ce9e110ead37",
   "metadata": {},
   "outputs": [
    {
     "data": {
      "text/plain": [
       "100.0"
      ]
     },
     "execution_count": 30,
     "metadata": {},
     "output_type": "execute_result"
    }
   ],
   "source": [
    "float('100')"
   ]
  },
  {
   "cell_type": "code",
   "execution_count": 31,
   "id": "d2e503b4-7fab-4a25-9d28-63244e134716",
   "metadata": {},
   "outputs": [
    {
     "data": {
      "text/plain": [
       "True"
      ]
     },
     "execution_count": 31,
     "metadata": {},
     "output_type": "execute_result"
    }
   ],
   "source": [
    "bool('100')"
   ]
  },
  {
   "cell_type": "code",
   "execution_count": null,
   "id": "1acb4c9a-f2d9-4579-ab4b-41d7555adcc5",
   "metadata": {},
   "outputs": [],
   "source": [
    "int('100.25') # faol\n",
    "float('100.24') # 100.24\n",
    "bool('100.25')  # True"
   ]
  },
  {
   "cell_type": "code",
   "execution_count": 32,
   "id": "19be4324-9a03-4878-b424-6f638093e608",
   "metadata": {},
   "outputs": [
    {
     "ename": "ValueError",
     "evalue": "invalid literal for int() with base 10: '100.25'",
     "output_type": "error",
     "traceback": [
      "\u001b[1;31m---------------------------------------------------------------------------\u001b[0m",
      "\u001b[1;31mValueError\u001b[0m                                Traceback (most recent call last)",
      "Cell \u001b[1;32mIn[32], line 1\u001b[0m\n\u001b[1;32m----> 1\u001b[0m \u001b[38;5;28mint\u001b[39m(\u001b[38;5;124m'\u001b[39m\u001b[38;5;124m100.25\u001b[39m\u001b[38;5;124m'\u001b[39m)\n",
      "\u001b[1;31mValueError\u001b[0m: invalid literal for int() with base 10: '100.25'"
     ]
    }
   ],
   "source": [
    "int('100.25')"
   ]
  },
  {
   "cell_type": "code",
   "execution_count": 34,
   "id": "499157ad-00e3-4d00-bba9-495a3f39969d",
   "metadata": {},
   "outputs": [
    {
     "data": {
      "text/plain": [
       "(100.0, 100.25)"
      ]
     },
     "execution_count": 34,
     "metadata": {},
     "output_type": "execute_result"
    }
   ],
   "source": [
    "float('100'), float('100.25')"
   ]
  },
  {
   "cell_type": "code",
   "execution_count": null,
   "id": "47db2150-79a8-49c7-b90e-f567488c625b",
   "metadata": {},
   "outputs": [],
   "source": [
    "int('100') # works, \n",
    "int('100.25') # Fail"
   ]
  },
  {
   "cell_type": "markdown",
   "id": "f35101db-4819-4d2e-bd2b-236c000baff3",
   "metadata": {},
   "source": [
    "**Note**\n",
    "\n",
    "- float is boss\n",
    "\n",
    "- integer conversion of float value in string format will fail"
   ]
  },
  {
   "cell_type": "code",
   "execution_count": null,
   "id": "b95f6111-9f83-42f0-9b4b-32135ba5d29a",
   "metadata": {},
   "outputs": [],
   "source": [
    "int(100.25)  # 100\n",
    "int('100.25') # Fail\n",
    "int(100)      # 100\n",
    "int('100')    # 100\n"
   ]
  },
  {
   "cell_type": "code",
   "execution_count": null,
   "id": "280a8acd-c3f9-4f43-8961-fe1f92481620",
   "metadata": {},
   "outputs": [],
   "source": [
    "float(100.25) # 100.25\n",
    "float(100)   # 100.0\n",
    "float('100') # 100.0\n",
    "float('100.25') # 100.25"
   ]
  },
  {
   "cell_type": "code",
   "execution_count": null,
   "id": "83dd1e10-a785-4e09-acd2-1708774ead5b",
   "metadata": {},
   "outputs": [],
   "source": [
    "#integer will accept the float value   ex: int(100.25)  works\n",
    "\n",
    "#integer will not accept the float value in strings format  ex: int('100.25') fail"
   ]
  },
  {
   "cell_type": "markdown",
   "id": "cc633cff-4081-4167-88e0-704efae0ab52",
   "metadata": {},
   "source": [
    "$Case-3$"
   ]
  },
  {
   "cell_type": "code",
   "execution_count": null,
   "id": "2972308d-bebe-4415-8537-4433547cdc27",
   "metadata": {},
   "outputs": [],
   "source": [
    "int('python')   # Fail\n",
    "float('python') # Fail\n",
    "bool('python')  # True"
   ]
  },
  {
   "cell_type": "markdown",
   "id": "3e0bf358-3655-41c2-8524-d60ad5604870",
   "metadata": {},
   "source": [
    "**Boolean to all other data types**"
   ]
  },
  {
   "cell_type": "code",
   "execution_count": null,
   "id": "bd2237fd-ee7f-493a-be09-87e0c2b837c7",
   "metadata": {},
   "outputs": [],
   "source": [
    "bool('100')  # True\n",
    "bool('100.25') # True\n",
    "bool('0')    # True\n",
    "bool('0.0')  # True\n",
    "bool('python') # True\n",
    "bool(100)  # T\n",
    "bool(-100) # T\n",
    "bool(100.25) # T\n",
    "bool(0)  # F   (Off )\n",
    "bool(0.0) # F  (off)\n",
    "bool('')  # F   (off)"
   ]
  },
  {
   "cell_type": "code",
   "execution_count": 35,
   "id": "e6ac7dc6-64e5-45ee-a1ba-05dca25ef13b",
   "metadata": {},
   "outputs": [
    {
     "data": {
      "text/plain": [
       "True"
      ]
     },
     "execution_count": 35,
     "metadata": {},
     "output_type": "execute_result"
    }
   ],
   "source": [
    "bool('100')"
   ]
  },
  {
   "cell_type": "code",
   "execution_count": null,
   "id": "5885bd0e-f73c-410e-b9a9-ed2ff4298a56",
   "metadata": {},
   "outputs": [],
   "source": [
    "TypeError: 'float' object is not callable"
   ]
  },
  {
   "cell_type": "code",
   "execution_count": 36,
   "id": "db792daa-fe36-4b51-a669-e96618e22fb3",
   "metadata": {},
   "outputs": [
    {
     "data": {
      "text/plain": [
       "100.0"
      ]
     },
     "execution_count": 36,
     "metadata": {},
     "output_type": "execute_result"
    }
   ],
   "source": [
    "float(100)"
   ]
  },
  {
   "cell_type": "code",
   "execution_count": null,
   "id": "33a0b70a-a876-49ef-b874-ab616e64b37d",
   "metadata": {},
   "outputs": [],
   "source": [
    "int(100.25)  # 100\n",
    "int('100.25') # error\n",
    "int(True)     # 1\n",
    "int(False)    # 0"
   ]
  },
  {
   "cell_type": "code",
   "execution_count": null,
   "id": "95a4aa36-8ae6-4ccd-9984-fc633fdea457",
   "metadata": {},
   "outputs": [],
   "source": []
  },
  {
   "cell_type": "code",
   "execution_count": null,
   "id": "7d4ec4f8-6422-4003-8533-6c9bf459654f",
   "metadata": {},
   "outputs": [],
   "source": [
    "float(100)  # 100.0\n",
    "float('100.25') # 100.25\n",
    "float(True)     # 1.0\n",
    "float(False)    # 0.0"
   ]
  },
  {
   "cell_type": "code",
   "execution_count": null,
   "id": "41d20d6b-e0e7-4276-ae8a-a98d00902169",
   "metadata": {},
   "outputs": [],
   "source": [
    "str(100)  # '100'\n",
    "str(100.25) # '100.25'\n",
    "str(True)     # 'True'\n",
    "str(False)    # 'False'"
   ]
  },
  {
   "cell_type": "code",
   "execution_count": 37,
   "id": "65a9a7a7-c96a-43d4-b8ac-79d0930bbb57",
   "metadata": {},
   "outputs": [
    {
     "data": {
      "text/plain": [
       "100"
      ]
     },
     "execution_count": 37,
     "metadata": {},
     "output_type": "execute_result"
    }
   ],
   "source": [
    "int('100')"
   ]
  },
  {
   "cell_type": "code",
   "execution_count": 38,
   "id": "ba06f754-0c9a-4778-be90-e6ed3fb879bd",
   "metadata": {},
   "outputs": [
    {
     "ename": "ValueError",
     "evalue": "invalid literal for int() with base 10: '100.25'",
     "output_type": "error",
     "traceback": [
      "\u001b[1;31m---------------------------------------------------------------------------\u001b[0m",
      "\u001b[1;31mValueError\u001b[0m                                Traceback (most recent call last)",
      "Cell \u001b[1;32mIn[38], line 1\u001b[0m\n\u001b[1;32m----> 1\u001b[0m \u001b[38;5;28mint\u001b[39m(\u001b[38;5;124m'\u001b[39m\u001b[38;5;124m100.25\u001b[39m\u001b[38;5;124m'\u001b[39m)\n",
      "\u001b[1;31mValueError\u001b[0m: invalid literal for int() with base 10: '100.25'"
     ]
    }
   ],
   "source": [
    "int('100.25')"
   ]
  },
  {
   "cell_type": "code",
   "execution_count": 39,
   "id": "4055355e-1e2c-482f-acf1-7bd272d1426d",
   "metadata": {},
   "outputs": [
    {
     "data": {
      "text/plain": [
       "True"
      ]
     },
     "execution_count": 39,
     "metadata": {},
     "output_type": "execute_result"
    }
   ],
   "source": [
    "bool(-190)"
   ]
  },
  {
   "cell_type": "code",
   "execution_count": null,
   "id": "214cfc18-013a-478c-b9ab-96fe4d68cc99",
   "metadata": {},
   "outputs": [],
   "source": []
  }
 ],
 "metadata": {
  "kernelspec": {
   "display_name": "Python 3 (ipykernel)",
   "language": "python",
   "name": "python3"
  },
  "language_info": {
   "codemirror_mode": {
    "name": "ipython",
    "version": 3
   },
   "file_extension": ".py",
   "mimetype": "text/x-python",
   "name": "python",
   "nbconvert_exporter": "python",
   "pygments_lexer": "ipython3",
   "version": "3.11.7"
  }
 },
 "nbformat": 4,
 "nbformat_minor": 5
}
